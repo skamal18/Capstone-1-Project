{
 "cells": [
  {
   "cell_type": "markdown",
   "id": "cc63c1e1",
   "metadata": {},
   "source": [
    "# C02 Emissions-Modelling Data"
   ]
  },
  {
   "cell_type": "code",
   "execution_count": 371,
   "id": "74c3fca6",
   "metadata": {},
   "outputs": [],
   "source": [
    "import pandas as pd\n",
    "import matplotlib.pyplot as plt\n",
    "import seaborn as sns\n",
    "import os\n",
    "import numpy as np\n",
    "from sklearn.decomposition import PCA\n",
    "from sklearn.preprocessing import scale\n",
    "import random\n",
    "import matplotlib.colors as mcolors\n",
    "import matplotlib.lines as mlines\n",
    "import plotly.express as px\n",
    "import plotly.graph_objects as go\n",
    "import statsmodels.api as sm \n",
    "from statsmodels.graphics.api import abline_plot\n",
    "from sklearn.metrics import mean_squared_error, r2_score \n",
    "from sklearn.model_selection import train_test_split \n",
    "from sklearn import linear_model, preprocessing\n",
    "from sklearn.linear_model import LinearRegression "
   ]
  },
  {
   "cell_type": "code",
   "execution_count": 372,
   "id": "9c648502",
   "metadata": {},
   "outputs": [],
   "source": [
    "df=pd.read_csv('df.csv', index_col=False)"
   ]
  },
  {
   "cell_type": "code",
   "execution_count": 373,
   "id": "5d08dcd9",
   "metadata": {},
   "outputs": [],
   "source": [
    "#df.pop(\"Unnamed: 0\")"
   ]
  },
  {
   "cell_type": "code",
   "execution_count": 374,
   "id": "4260083a",
   "metadata": {},
   "outputs": [],
   "source": [
    "#converting the categorical data into dummy variables\n",
    "df_dummy=pd.get_dummies(df, prefix='', prefix_sep='',columns=['Fuel Type','Transmission_Type'])"
   ]
  },
  {
   "cell_type": "code",
   "execution_count": 375,
   "id": "f9872c88",
   "metadata": {},
   "outputs": [
    {
     "data": {
      "text/html": [
       "<div>\n",
       "<style scoped>\n",
       "    .dataframe tbody tr th:only-of-type {\n",
       "        vertical-align: middle;\n",
       "    }\n",
       "\n",
       "    .dataframe tbody tr th {\n",
       "        vertical-align: top;\n",
       "    }\n",
       "\n",
       "    .dataframe thead th {\n",
       "        text-align: right;\n",
       "    }\n",
       "</style>\n",
       "<table border=\"1\" class=\"dataframe\">\n",
       "  <thead>\n",
       "    <tr style=\"text-align: right;\">\n",
       "      <th></th>\n",
       "      <th>Make</th>\n",
       "      <th>Model</th>\n",
       "      <th>Vehicle Class</th>\n",
       "      <th>Engine Size(L)</th>\n",
       "      <th>Cylinders</th>\n",
       "      <th>Transmission</th>\n",
       "      <th>Fuel Consumption City (L/100 km)</th>\n",
       "      <th>Fuel Consumption Hwy (L/100 km)</th>\n",
       "      <th>Fuel Consumption Comb (L/100 km)</th>\n",
       "      <th>CO2 Emissions(g/km)</th>\n",
       "      <th>DIESEL</th>\n",
       "      <th>ETHANOL</th>\n",
       "      <th>NATURAL GAS</th>\n",
       "      <th>PREMIUM GASOLINE</th>\n",
       "      <th>REGULAR GASOLINE</th>\n",
       "      <th>Automatic</th>\n",
       "      <th>Manual</th>\n",
       "    </tr>\n",
       "  </thead>\n",
       "  <tbody>\n",
       "    <tr>\n",
       "      <th>0</th>\n",
       "      <td>ACURA</td>\n",
       "      <td>ILX</td>\n",
       "      <td>COMPACT</td>\n",
       "      <td>2.0</td>\n",
       "      <td>4</td>\n",
       "      <td>AS5</td>\n",
       "      <td>9.9</td>\n",
       "      <td>6.7</td>\n",
       "      <td>8.5</td>\n",
       "      <td>196</td>\n",
       "      <td>0</td>\n",
       "      <td>0</td>\n",
       "      <td>0</td>\n",
       "      <td>1</td>\n",
       "      <td>0</td>\n",
       "      <td>1</td>\n",
       "      <td>0</td>\n",
       "    </tr>\n",
       "  </tbody>\n",
       "</table>\n",
       "</div>"
      ],
      "text/plain": [
       "    Make Model Vehicle Class  Engine Size(L)  Cylinders Transmission  \\\n",
       "0  ACURA   ILX       COMPACT             2.0          4          AS5   \n",
       "\n",
       "   Fuel Consumption City (L/100 km)  Fuel Consumption Hwy (L/100 km)  \\\n",
       "0                               9.9                              6.7   \n",
       "\n",
       "   Fuel Consumption Comb (L/100 km)  CO2 Emissions(g/km)  DIESEL  ETHANOL  \\\n",
       "0                               8.5                  196       0        0   \n",
       "\n",
       "   NATURAL GAS  PREMIUM GASOLINE  REGULAR GASOLINE  Automatic  Manual  \n",
       "0            0                 1                 0          1       0  "
      ]
     },
     "execution_count": 375,
     "metadata": {},
     "output_type": "execute_result"
    }
   ],
   "source": [
    "df_dummy.head(1)"
   ]
  },
  {
   "cell_type": "code",
   "execution_count": 376,
   "id": "dc818c28",
   "metadata": {},
   "outputs": [],
   "source": [
    "#to avoid the duplication of data, dropping one unique column for each categorical feature.\n",
    "df_dummy.drop(['REGULAR GASOLINE','Manual'],inplace=True,axis=1)"
   ]
  },
  {
   "cell_type": "markdown",
   "id": "a84d742e",
   "metadata": {},
   "source": [
    "## Linear Regression Model"
   ]
  },
  {
   "cell_type": "code",
   "execution_count": 377,
   "id": "0c7d3e8e",
   "metadata": {},
   "outputs": [],
   "source": [
    "#defining the X and y variable\n",
    "X = df_dummy[['DIESEL','ETHANOL','NATURAL GAS','PREMIUM GASOLINE','Engine Size(L)','Cylinders','Automatic']]\n",
    "y = df_dummy[\"CO2 Emissions(g/km)\"]"
   ]
  },
  {
   "cell_type": "code",
   "execution_count": 378,
   "id": "fbd655b3",
   "metadata": {},
   "outputs": [],
   "source": [
    "#splitting the X and y dataset\n",
    "X_train, X_test, y_train, y_test= train_test_split(X, y, test_size=0.3, random_state=42)"
   ]
  },
  {
   "cell_type": "code",
   "execution_count": 379,
   "id": "583d6095",
   "metadata": {},
   "outputs": [],
   "source": [
    "#to avoid bias in the data outcome, we are standardizing the data by scaling it\n",
    "from sklearn.preprocessing import StandardScaler"
   ]
  },
  {
   "cell_type": "code",
   "execution_count": 380,
   "id": "6d180ff0",
   "metadata": {},
   "outputs": [],
   "source": [
    "scaler = StandardScaler()"
   ]
  },
  {
   "cell_type": "code",
   "execution_count": 381,
   "id": "3c3d7b75",
   "metadata": {},
   "outputs": [],
   "source": [
    "scaled_X_train = scaler.fit_transform(X_train)\n",
    "scaled_X_test = scaler.transform(X_test)"
   ]
  },
  {
   "cell_type": "code",
   "execution_count": 382,
   "id": "dc4d732d",
   "metadata": {},
   "outputs": [
    {
     "data": {
      "text/plain": [
       "LinearRegression()"
      ]
     },
     "execution_count": 382,
     "metadata": {},
     "output_type": "execute_result"
    }
   ],
   "source": [
    "reg_all=LinearRegression()\n",
    "reg_all.fit(scaled_X_train,y_train)"
   ]
  },
  {
   "cell_type": "code",
   "execution_count": 383,
   "id": "db4d55dd",
   "metadata": {},
   "outputs": [
    {
     "name": "stdout",
     "output_type": "stream",
     "text": [
      "(4193, 7) (4193,)\n",
      "(1798, 7) (1798,)\n"
     ]
    }
   ],
   "source": [
    "print(X_train.shape, y_train.shape)\n",
    "print(scaled_X_test.shape, y_test.shape)"
   ]
  },
  {
   "cell_type": "code",
   "execution_count": 384,
   "id": "a4052f22",
   "metadata": {},
   "outputs": [
    {
     "data": {
      "text/plain": [
       "array([205.39409838, 262.1195004 , 215.92134634, ..., 301.81418803,\n",
       "       354.45042784, 209.41787993])"
      ]
     },
     "execution_count": 384,
     "metadata": {},
     "output_type": "execute_result"
    }
   ],
   "source": [
    "linear_y_pred=reg_all.predict(scaled_X_test)\n",
    "linear_y_pred"
   ]
  },
  {
   "cell_type": "code",
   "execution_count": 385,
   "id": "ca06e384",
   "metadata": {},
   "outputs": [
    {
     "name": "stdout",
     "output_type": "stream",
     "text": [
      "Accuracy of linear regression on test set: 0.75\n"
     ]
    }
   ],
   "source": [
    "print('Accuracy of linear regression on test set: {:.2f}'.format(reg_all.score(scaled_X_test, y_test)))"
   ]
  },
  {
   "cell_type": "code",
   "execution_count": 386,
   "id": "528237b8",
   "metadata": {},
   "outputs": [],
   "source": [
    "regression_score=(reg_all.score(scaled_X_test, y_test))"
   ]
  },
  {
   "cell_type": "code",
   "execution_count": 387,
   "id": "2c5cb4c9",
   "metadata": {},
   "outputs": [
    {
     "data": {
      "text/plain": [
       "pandas.core.series.Series"
      ]
     },
     "execution_count": 387,
     "metadata": {},
     "output_type": "execute_result"
    }
   ],
   "source": [
    "#finding the residuals\n",
    "test_res = y_test - y_pred\n",
    "type(test_res)"
   ]
  },
  {
   "cell_type": "code",
   "execution_count": 388,
   "id": "5ae686a8",
   "metadata": {},
   "outputs": [],
   "source": [
    "from sklearn.metrics import mean_squared_error\n",
    "from sklearn.metrics import mean_absolute_error"
   ]
  },
  {
   "cell_type": "code",
   "execution_count": 389,
   "id": "2b984029",
   "metadata": {},
   "outputs": [],
   "source": [
    "#Mean Squared Error, Root Mean Squared Error\n",
    "MAE = mean_absolute_error(y_test,y_pred)\n",
    "MSE = mean_squared_error(y_test,y_pred)\n",
    "RMSE = np.sqrt(MSE)"
   ]
  },
  {
   "cell_type": "code",
   "execution_count": 390,
   "id": "71d39187",
   "metadata": {},
   "outputs": [
    {
     "data": {
      "text/plain": [
       "(18.502558411151725, 25.021573071218008)"
      ]
     },
     "execution_count": 390,
     "metadata": {},
     "output_type": "execute_result"
    }
   ],
   "source": [
    "MAE,RMSE"
   ]
  },
  {
   "cell_type": "markdown",
   "id": "0457f4af",
   "metadata": {},
   "source": [
    "## Cross-validation:"
   ]
  },
  {
   "cell_type": "code",
   "execution_count": 391,
   "id": "23fb1154",
   "metadata": {},
   "outputs": [],
   "source": [
    "#Cross-validation used to estimate the skill of a machine learning model on unseen data\n",
    "#results in less-bias\n",
    "from sklearn.model_selection import cross_val_score, KFold"
   ]
  },
  {
   "cell_type": "code",
   "execution_count": 392,
   "id": "319ea898",
   "metadata": {},
   "outputs": [],
   "source": [
    "kf=KFold(n_splits=5,shuffle=True,random_state=42)\n",
    "reg=LinearRegression()"
   ]
  },
  {
   "cell_type": "code",
   "execution_count": 393,
   "id": "bf14cac1",
   "metadata": {},
   "outputs": [
    {
     "name": "stdout",
     "output_type": "stream",
     "text": [
      "[0.75589225 0.72442665 0.74155752 0.74935762 0.7511444 ]\n"
     ]
    }
   ],
   "source": [
    "cv_results=cross_val_score(reg,X,y,cv=kf)\n",
    "print(cv_results)"
   ]
  },
  {
   "cell_type": "code",
   "execution_count": 394,
   "id": "47942f1d",
   "metadata": {},
   "outputs": [
    {
     "name": "stdout",
     "output_type": "stream",
     "text": [
      "0.7444756873832603 0.011037414028931054\n"
     ]
    }
   ],
   "source": [
    "print(np.mean(cv_results),np.std(cv_results))"
   ]
  },
  {
   "cell_type": "code",
   "execution_count": 395,
   "id": "7d2408d8",
   "metadata": {},
   "outputs": [
    {
     "name": "stdout",
     "output_type": "stream",
     "text": [
      "[0.72613974 0.75541747]\n"
     ]
    }
   ],
   "source": [
    "print(np.quantile(cv_results,[0.025,0.975]))"
   ]
  },
  {
   "cell_type": "markdown",
   "id": "1a5fdca8",
   "metadata": {},
   "source": [
    "## Ridge Regression"
   ]
  },
  {
   "cell_type": "code",
   "execution_count": 396,
   "id": "ac49192b",
   "metadata": {},
   "outputs": [],
   "source": [
    "from sklearn.linear_model import Ridge"
   ]
  },
  {
   "cell_type": "code",
   "execution_count": 397,
   "id": "9a1a9552",
   "metadata": {},
   "outputs": [],
   "source": [
    "#ridge regression model with hyperparameter tuning\n",
    "ridge_model = Ridge(alpha=0.1)"
   ]
  },
  {
   "cell_type": "code",
   "execution_count": 398,
   "id": "4383df4f",
   "metadata": {},
   "outputs": [
    {
     "data": {
      "text/plain": [
       "Ridge(alpha=0.1)"
      ]
     },
     "execution_count": 398,
     "metadata": {},
     "output_type": "execute_result"
    }
   ],
   "source": [
    "ridge_model.fit(X_train,y_train)"
   ]
  },
  {
   "cell_type": "code",
   "execution_count": 399,
   "id": "bea74a3f",
   "metadata": {},
   "outputs": [],
   "source": [
    "test_predictions = ridge_model.predict(X_test)"
   ]
  },
  {
   "cell_type": "code",
   "execution_count": 400,
   "id": "f5da1a39",
   "metadata": {},
   "outputs": [],
   "source": [
    "from sklearn.metrics import mean_absolute_error,mean_squared_error"
   ]
  },
  {
   "cell_type": "code",
   "execution_count": 401,
   "id": "83b0fea7",
   "metadata": {},
   "outputs": [],
   "source": [
    "MAE = mean_absolute_error(y_test,test_predictions)\n",
    "MSE = mean_squared_error(y_test,test_predictions)\n",
    "RMSE = np.sqrt(MSE)"
   ]
  },
  {
   "cell_type": "code",
   "execution_count": 402,
   "id": "4be133c5",
   "metadata": {},
   "outputs": [
    {
     "data": {
      "text/plain": [
       "(22.992510776338424, 30.17836228754734)"
      ]
     },
     "execution_count": 402,
     "metadata": {},
     "output_type": "execute_result"
    }
   ],
   "source": [
    "MAE,RMSE"
   ]
  },
  {
   "cell_type": "code",
   "execution_count": 403,
   "id": "5aee892f",
   "metadata": {},
   "outputs": [
    {
     "name": "stdout",
     "output_type": "stream",
     "text": [
      "Accuracy of ridge regression on test set: 0.75\n"
     ]
    }
   ],
   "source": [
    "print('Accuracy of ridge regression on test set: {:.2f}'.format(ridge_model.score(X_test, y_test)))"
   ]
  },
  {
   "cell_type": "code",
   "execution_count": 404,
   "id": "34966ff6",
   "metadata": {},
   "outputs": [],
   "source": [
    "from sklearn.linear_model import RidgeCV"
   ]
  },
  {
   "cell_type": "code",
   "execution_count": 405,
   "id": "0a04155e",
   "metadata": {},
   "outputs": [],
   "source": [
    "#penalty strength parameter as alpha\n",
    "ridge_cv_model = RidgeCV(alphas=(0.1, 1.0, 10.0,20.0),scoring='neg_mean_absolute_error')"
   ]
  },
  {
   "cell_type": "code",
   "execution_count": 406,
   "id": "8f0c6958",
   "metadata": {},
   "outputs": [
    {
     "data": {
      "text/plain": [
       "RidgeCV(alphas=array([ 0.1,  1. , 10. , 20. ]),\n",
       "        scoring='neg_mean_absolute_error')"
      ]
     },
     "execution_count": 406,
     "metadata": {},
     "output_type": "execute_result"
    }
   ],
   "source": [
    "#k-fold cross validation fit to the training dataset\n",
    "ridge_cv_model.fit(X_train,y_train)"
   ]
  },
  {
   "cell_type": "code",
   "execution_count": 407,
   "id": "73432b3c",
   "metadata": {},
   "outputs": [
    {
     "data": {
      "text/plain": [
       "10.0"
      ]
     },
     "execution_count": 407,
     "metadata": {},
     "output_type": "execute_result"
    }
   ],
   "source": [
    "#optimal alpha\n",
    "ridge_cv_model.alpha_"
   ]
  },
  {
   "cell_type": "code",
   "execution_count": 408,
   "id": "eb7b1011",
   "metadata": {},
   "outputs": [
    {
     "data": {
      "text/plain": [
       "array([205.47308574, 262.14036573, 215.90030753, ..., 301.89059613,\n",
       "       354.0267051 , 209.41047975])"
      ]
     },
     "execution_count": 408,
     "metadata": {},
     "output_type": "execute_result"
    }
   ],
   "source": [
    "ridge_test_predictions = ridge_cv_model.predict(X_test)\n",
    "ridge_test_predictions"
   ]
  },
  {
   "cell_type": "code",
   "execution_count": 409,
   "id": "c0ba5b7b",
   "metadata": {},
   "outputs": [],
   "source": [
    "MAE = mean_absolute_error(y_test,test_predictions)\n",
    "MSE = mean_squared_error(y_test,test_predictions)\n",
    "RMSE = np.sqrt(MSE)"
   ]
  },
  {
   "cell_type": "code",
   "execution_count": 410,
   "id": "b4c8965e",
   "metadata": {},
   "outputs": [
    {
     "data": {
      "text/plain": [
       "(22.992510776338424, 30.17836228754734)"
      ]
     },
     "execution_count": 410,
     "metadata": {},
     "output_type": "execute_result"
    }
   ],
   "source": [
    "MAE,RMSE"
   ]
  },
  {
   "cell_type": "code",
   "execution_count": 411,
   "id": "825678a8",
   "metadata": {},
   "outputs": [
    {
     "data": {
      "text/plain": [
       "array([ 9.41002256, -7.04529021,  0.        ,  3.93739401, 26.06805448,\n",
       "        8.78259913,  0.17411884])"
      ]
     },
     "execution_count": 411,
     "metadata": {},
     "output_type": "execute_result"
    }
   ],
   "source": [
    "ridge_cv_model.coef_"
   ]
  },
  {
   "cell_type": "code",
   "execution_count": 412,
   "id": "9e16d092",
   "metadata": {},
   "outputs": [
    {
     "name": "stdout",
     "output_type": "stream",
     "text": [
      "Accuracy of ridge regression on test set: 0.75\n"
     ]
    }
   ],
   "source": [
    "print('Accuracy of ridge regression on test set: {:.2f}'.format(ridge_cv_model.score(X_test, y_test)))"
   ]
  },
  {
   "cell_type": "code",
   "execution_count": 413,
   "id": "b4a27969",
   "metadata": {},
   "outputs": [],
   "source": [
    "ridge_score=ridge_cv_model.score(X_test, y_test)"
   ]
  },
  {
   "cell_type": "markdown",
   "id": "3c2dee27",
   "metadata": {},
   "source": [
    "## Lasso Regression"
   ]
  },
  {
   "cell_type": "code",
   "execution_count": 414,
   "id": "f9e63d4b",
   "metadata": {},
   "outputs": [],
   "source": [
    "from sklearn.linear_model import LassoCV"
   ]
  },
  {
   "cell_type": "code",
   "execution_count": 415,
   "id": "e4f24b3b",
   "metadata": {},
   "outputs": [],
   "source": [
    "lasso_cv_model = LassoCV(eps=0.1,n_alphas=10,cv=5)"
   ]
  },
  {
   "cell_type": "code",
   "execution_count": 416,
   "id": "d69e7426",
   "metadata": {},
   "outputs": [
    {
     "data": {
      "text/plain": [
       "LassoCV(cv=5, eps=0.1, n_alphas=10)"
      ]
     },
     "execution_count": 416,
     "metadata": {},
     "output_type": "execute_result"
    }
   ],
   "source": [
    "lasso_cv_model.fit(X_train,y_train)"
   ]
  },
  {
   "cell_type": "code",
   "execution_count": 417,
   "id": "0e4339d8",
   "metadata": {},
   "outputs": [
    {
     "data": {
      "text/plain": [
       "8.969859393948726"
      ]
     },
     "execution_count": 417,
     "metadata": {},
     "output_type": "execute_result"
    }
   ],
   "source": [
    "lasso_cv_model.alpha_"
   ]
  },
  {
   "cell_type": "code",
   "execution_count": 418,
   "id": "cd82d482",
   "metadata": {},
   "outputs": [],
   "source": [
    "test_predictions = lasso_cv_model.predict(X_test)"
   ]
  },
  {
   "cell_type": "code",
   "execution_count": 419,
   "id": "2dae6766",
   "metadata": {},
   "outputs": [],
   "source": [
    "MAE = mean_absolute_error(y_test,test_predictions)\n",
    "MSE = mean_squared_error(y_test,test_predictions)\n",
    "RMSE = np.sqrt(MSE)"
   ]
  },
  {
   "cell_type": "code",
   "execution_count": 420,
   "id": "a098c31f",
   "metadata": {},
   "outputs": [
    {
     "data": {
      "text/plain": [
       "(23.302243923594848, 31.30641740608961)"
      ]
     },
     "execution_count": 420,
     "metadata": {},
     "output_type": "execute_result"
    }
   ],
   "source": [
    "MAE,RMSE"
   ]
  },
  {
   "cell_type": "code",
   "execution_count": 421,
   "id": "c96786b9",
   "metadata": {},
   "outputs": [
    {
     "data": {
      "text/plain": [
       "array([ 0.        , -0.        ,  0.        ,  0.        , 13.38574599,\n",
       "       14.87839714,  0.        ])"
      ]
     },
     "execution_count": 421,
     "metadata": {},
     "output_type": "execute_result"
    }
   ],
   "source": [
    "lasso_cv_model.coef_"
   ]
  },
  {
   "cell_type": "code",
   "execution_count": 422,
   "id": "c2d39272",
   "metadata": {},
   "outputs": [
    {
     "data": {
      "text/plain": [
       "array([211.82061376, 261.65602703, 217.17491215, ..., 300.78284351,\n",
       "       327.55433549, 211.82061376])"
      ]
     },
     "execution_count": 422,
     "metadata": {},
     "output_type": "execute_result"
    }
   ],
   "source": [
    "lasso_test_predictions=lasso_cv_model.predict(X_test)\n",
    "lasso_test_predictions"
   ]
  },
  {
   "cell_type": "code",
   "execution_count": 423,
   "id": "4658d3ed",
   "metadata": {},
   "outputs": [
    {
     "name": "stdout",
     "output_type": "stream",
     "text": [
      "Accuracy of lasso regression on test set: 0.73\n"
     ]
    }
   ],
   "source": [
    "print('Accuracy of lasso regression on test set: {:.2f}'.format(lasso_cv_model.score(X_test, y_test)))"
   ]
  },
  {
   "cell_type": "code",
   "execution_count": 424,
   "id": "2f6a7ee2",
   "metadata": {},
   "outputs": [],
   "source": [
    "lasso_score=lasso_cv_model.score(X_test, y_test)"
   ]
  },
  {
   "cell_type": "markdown",
   "id": "260a26d9",
   "metadata": {},
   "source": [
    "## Elastic Net Regression"
   ]
  },
  {
   "cell_type": "code",
   "execution_count": 425,
   "id": "c43251d0",
   "metadata": {},
   "outputs": [],
   "source": [
    "from sklearn.linear_model import ElasticNetCV"
   ]
  },
  {
   "cell_type": "code",
   "execution_count": 426,
   "id": "48e3c944",
   "metadata": {},
   "outputs": [],
   "source": [
    "#improve the regularization by combining lasso and ridge regression\n",
    "#minimize the RSS(residual sum of squares) and the absolute and squared value terms(absolute for lasso and square for ridge)\n",
    "elastic_model = ElasticNetCV(l1_ratio=[.1, .5, .7,.9, .95],tol=0.01)"
   ]
  },
  {
   "cell_type": "code",
   "execution_count": 427,
   "id": "5bdb8a4e",
   "metadata": {},
   "outputs": [
    {
     "data": {
      "text/plain": [
       "ElasticNetCV(l1_ratio=[0.1, 0.5, 0.7, 0.9, 0.95], tol=0.01)"
      ]
     },
     "execution_count": 427,
     "metadata": {},
     "output_type": "execute_result"
    }
   ],
   "source": [
    "elastic_model.fit(X_train,y_train)"
   ]
  },
  {
   "cell_type": "code",
   "execution_count": 428,
   "id": "07ab0241",
   "metadata": {},
   "outputs": [
    {
     "data": {
      "text/plain": [
       "0.95"
      ]
     },
     "execution_count": 428,
     "metadata": {},
     "output_type": "execute_result"
    }
   ],
   "source": [
    "elastic_model.l1_ratio_"
   ]
  },
  {
   "cell_type": "code",
   "execution_count": 429,
   "id": "6226bd82",
   "metadata": {},
   "outputs": [
    {
     "data": {
      "text/plain": [
       "array([205.63801964, 262.23844782, 216.16354298, ..., 301.44590669,\n",
       "       354.0735234 , 209.29609702])"
      ]
     },
     "execution_count": 429,
     "metadata": {},
     "output_type": "execute_result"
    }
   ],
   "source": [
    "elastic_test_predictions = elastic_model.predict(X_test)\n",
    "elastic_test_predictions"
   ]
  },
  {
   "cell_type": "code",
   "execution_count": 430,
   "id": "10888e3c",
   "metadata": {},
   "outputs": [],
   "source": [
    "MAE = mean_absolute_error(y_test,test_predictions)\n",
    "MSE = mean_squared_error(y_test,test_predictions)\n",
    "RMSE = np.sqrt(MSE)"
   ]
  },
  {
   "cell_type": "code",
   "execution_count": 431,
   "id": "570ee45b",
   "metadata": {},
   "outputs": [
    {
     "data": {
      "text/plain": [
       "(23.302243923594848, 31.30641740608961)"
      ]
     },
     "execution_count": 431,
     "metadata": {},
     "output_type": "execute_result"
    }
   ],
   "source": [
    "MAE,RMSE"
   ]
  },
  {
   "cell_type": "code",
   "execution_count": 432,
   "id": "2c8263c2",
   "metadata": {},
   "outputs": [
    {
     "data": {
      "text/plain": [
       "22.79813619589989"
      ]
     },
     "execution_count": 432,
     "metadata": {},
     "output_type": "execute_result"
    }
   ],
   "source": [
    "# Training Set Performance\n",
    "train_predictions = elastic_model.predict(X_train)\n",
    "MAE = mean_absolute_error(y_train,train_predictions)\n",
    "MAE"
   ]
  },
  {
   "cell_type": "code",
   "execution_count": 433,
   "id": "75fbd2ff",
   "metadata": {},
   "outputs": [
    {
     "data": {
      "text/plain": [
       "array([ 5.33256663, -5.38216439,  0.        ,  3.65807738, 26.31380835,\n",
       "        8.56485782,  0.        ])"
      ]
     },
     "execution_count": 433,
     "metadata": {},
     "output_type": "execute_result"
    }
   ],
   "source": [
    "elastic_model.coef_"
   ]
  },
  {
   "cell_type": "code",
   "execution_count": 434,
   "id": "343e5435",
   "metadata": {},
   "outputs": [
    {
     "name": "stdout",
     "output_type": "stream",
     "text": [
      "Accuracy of elestic regression on test set: 0.75\n"
     ]
    }
   ],
   "source": [
    "print('Accuracy of elestic regression on test set: {:.2f}'.format(elastic_model.score(X_test, y_test)))"
   ]
  },
  {
   "cell_type": "code",
   "execution_count": 435,
   "id": "261b24d4",
   "metadata": {},
   "outputs": [],
   "source": [
    "elastic_score=elastic_model.score(X_test, y_test)"
   ]
  },
  {
   "cell_type": "markdown",
   "id": "77844a30",
   "metadata": {},
   "source": [
    "## KNN Regression"
   ]
  },
  {
   "cell_type": "code",
   "execution_count": 436,
   "id": "5a5deb37",
   "metadata": {},
   "outputs": [],
   "source": [
    "from sklearn.neighbors import KNeighborsRegressor"
   ]
  },
  {
   "cell_type": "code",
   "execution_count": 437,
   "id": "1b7aa6b5",
   "metadata": {},
   "outputs": [
    {
     "data": {
      "text/plain": [
       "Text(0.5, 1.0, 'ELBOW PLOT')"
      ]
     },
     "execution_count": 437,
     "metadata": {},
     "output_type": "execute_result"
    },
    {
     "data": {
      "image/png": "[encoded data removed]",
      "text/plain": [
       "<Figure size 576x576 with 1 Axes>"
      ]
     },
     "metadata": {
      "needs_background": "light"
     },
     "output_type": "display_data"
    }
   ],
   "source": [
    "#Elbow plot to determine the optimal value of K that yields lowest MSE\n",
    "fig,ax=plt.subplots(figsize=(8,8))\n",
    "k_list=np.arange(1,60,1)\n",
    "knn_dict={} # To store k and mse pairs\n",
    "for i in k_list:\n",
    "#Knn Model Creation\n",
    "    knn=KNeighborsRegressor(n_neighbors=int(i))\n",
    "    model_knn=knn.fit(X_train,y_train)\n",
    "    y_knn_pred=model_knn.predict(X_test)\n",
    "#Storing MSE \n",
    "    mse=mean_squared_error(y_test,y_knn_pred)\n",
    "    knn_dict[i]=mse\n",
    "#Plotting the results\n",
    "ax.plot(knn_dict.keys(),knn_dict.values())\n",
    "ax.set_xlabel('K-VALUE', fontsize=20)\n",
    "ax.set_ylabel('MSE' ,fontsize=20)\n",
    "ax.set_title('ELBOW PLOT' ,fontsize=28)"
   ]
  },
  {
   "cell_type": "code",
   "execution_count": 438,
   "id": "8520c24e",
   "metadata": {},
   "outputs": [],
   "source": [
    "knn=KNeighborsRegressor(n_neighbors=7)"
   ]
  },
  {
   "cell_type": "code",
   "execution_count": 439,
   "id": "586b4e57",
   "metadata": {},
   "outputs": [
    {
     "data": {
      "text/plain": [
       "array([214.85714286, 269.71428571, 222.57142857, ..., 308.42857143,\n",
       "       324.42857143, 219.        ])"
      ]
     },
     "execution_count": 439,
     "metadata": {},
     "output_type": "execute_result"
    }
   ],
   "source": [
    "model_knn=knn.fit(X_train,y_train)\n",
    "knn_test_predictions=model_knn.predict(X_test)\n",
    "knn_test_predictions"
   ]
  },
  {
   "cell_type": "code",
   "execution_count": 440,
   "id": "b3dfe65b",
   "metadata": {},
   "outputs": [],
   "source": [
    "MAE = mean_absolute_error(y_test,test_predictions)\n",
    "MSE = mean_squared_error(y_test,test_predictions)\n",
    "RMSE = np.sqrt(MSE)"
   ]
  },
  {
   "cell_type": "code",
   "execution_count": 441,
   "id": "5b9b87d7",
   "metadata": {},
   "outputs": [
    {
     "data": {
      "text/plain": [
       "(23.302243923594848, 31.30641740608961)"
      ]
     },
     "execution_count": 441,
     "metadata": {},
     "output_type": "execute_result"
    }
   ],
   "source": [
    "MAE,RMSE"
   ]
  },
  {
   "cell_type": "code",
   "execution_count": 442,
   "id": "76c03dfa",
   "metadata": {},
   "outputs": [
    {
     "name": "stdout",
     "output_type": "stream",
     "text": [
      "Accuracy of knn regressor on test set: 0.81\n"
     ]
    }
   ],
   "source": [
    "print('Accuracy of knn regressor on test set: {:.2f}'.format(model_knn.score(X_test, y_test)))"
   ]
  },
  {
   "cell_type": "code",
   "execution_count": 443,
   "id": "a8487ac4",
   "metadata": {},
   "outputs": [],
   "source": [
    "knn_score=model_knn.score(X_test, y_test)"
   ]
  },
  {
   "cell_type": "markdown",
   "id": "fca6b2f7",
   "metadata": {},
   "source": [
    "## Support Vector Regression"
   ]
  },
  {
   "cell_type": "code",
   "execution_count": 444,
   "id": "7f9e8349",
   "metadata": {},
   "outputs": [],
   "source": [
    "#create a hypothetical hyperplane that maximizes the margin\n",
    "#choose linear kernel\n",
    "from sklearn.svm import SVR"
   ]
  },
  {
   "cell_type": "code",
   "execution_count": 445,
   "id": "b8959b7b",
   "metadata": {},
   "outputs": [],
   "source": [
    "base_model = SVR()"
   ]
  },
  {
   "cell_type": "code",
   "execution_count": 529,
   "id": "70346603",
   "metadata": {},
   "outputs": [
    {
     "data": {
      "text/plain": [
       "SVR()"
      ]
     },
     "execution_count": 529,
     "metadata": {},
     "output_type": "execute_result"
    }
   ],
   "source": [
    "base_model.fit(scaled_X_train,y_train)"
   ]
  },
  {
   "cell_type": "code",
   "execution_count": 530,
   "id": "86d74b72",
   "metadata": {},
   "outputs": [],
   "source": [
    "base_preds = base_model.predict(scaled_X_test)"
   ]
  },
  {
   "cell_type": "code",
   "execution_count": 531,
   "id": "373768f6",
   "metadata": {},
   "outputs": [
    {
     "data": {
      "text/plain": [
       "23.42771761198186"
      ]
     },
     "execution_count": 531,
     "metadata": {},
     "output_type": "execute_result"
    }
   ],
   "source": [
    "mean_absolute_error(y_test,base_preds)"
   ]
  },
  {
   "cell_type": "code",
   "execution_count": 532,
   "id": "25934e70",
   "metadata": {},
   "outputs": [
    {
     "data": {
      "text/plain": [
       "32.10741245024187"
      ]
     },
     "execution_count": 532,
     "metadata": {},
     "output_type": "execute_result"
    }
   ],
   "source": [
    "np.sqrt(mean_squared_error(y_test,base_preds))"
   ]
  },
  {
   "cell_type": "code",
   "execution_count": 533,
   "id": "6b89ac9e",
   "metadata": {},
   "outputs": [],
   "source": [
    "param_grid = {'C':[10, 100,200],\n",
    "             'kernel':['linear'],\n",
    "              'degree':[2,3,4],\n",
    "              'gamma':[1,0.1,0.01],\n",
    "              'epsilon':[0.1,0.5,1]}"
   ]
  },
  {
   "cell_type": "code",
   "execution_count": 534,
   "id": "3f8f116b",
   "metadata": {},
   "outputs": [],
   "source": [
    "from sklearn.model_selection import GridSearchCV"
   ]
  },
  {
   "cell_type": "code",
   "execution_count": 535,
   "id": "933196bb",
   "metadata": {},
   "outputs": [],
   "source": [
    "svr = SVR()\n",
    "grid_model = GridSearchCV(estimator=svr,param_grid=param_grid,scoring='neg_mean_squared_error',\n",
    "                          cv=5,\n",
    "                          verbose=2)"
   ]
  },
  {
   "cell_type": "code",
   "execution_count": 536,
   "id": "936731dd",
   "metadata": {},
   "outputs": [
    {
     "name": "stdout",
     "output_type": "stream",
     "text": [
      "Fitting 5 folds for each of 81 candidates, totalling 405 fits\n",
      "[CV] END C=10, degree=2, epsilon=0.1, gamma=1, kernel=linear; total time=   0.5s\n",
      "[CV] END C=10, degree=2, epsilon=0.1, gamma=1, kernel=linear; total time=   0.5s\n",
      "[CV] END C=10, degree=2, epsilon=0.1, gamma=1, kernel=linear; total time=   0.5s\n",
      "[CV] END C=10, degree=2, epsilon=0.1, gamma=1, kernel=linear; total time=   0.5s\n",
      "[CV] END C=10, degree=2, epsilon=0.1, gamma=1, kernel=linear; total time=   0.5s\n",
      "[CV] END C=10, degree=2, epsilon=0.1, gamma=0.1, kernel=linear; total time=   0.5s\n",
      "[CV] END C=10, degree=2, epsilon=0.1, gamma=0.1, kernel=linear; total time=   0.5s\n",
      "[CV] END C=10, degree=2, epsilon=0.1, gamma=0.1, kernel=linear; total time=   0.5s\n",
      "[CV] END C=10, degree=2, epsilon=0.1, gamma=0.1, kernel=linear; total time=   0.5s\n",
      "[CV] END C=10, degree=2, epsilon=0.1, gamma=0.1, kernel=linear; total time=   0.5s\n",
      "[CV] END C=10, degree=2, epsilon=0.1, gamma=0.01, kernel=linear; total time=   0.5s\n",
      "[CV] END C=10, degree=2, epsilon=0.1, gamma=0.01, kernel=linear; total time=   0.5s\n",
      "[CV] END C=10, degree=2, epsilon=0.1, gamma=0.01, kernel=linear; total time=   0.5s\n",
      "[CV] END C=10, degree=2, epsilon=0.1, gamma=0.01, kernel=linear; total time=   0.5s\n",
      "[CV] END C=10, degree=2, epsilon=0.1, gamma=0.01, kernel=linear; total time=   0.5s\n",
      "[CV] END C=10, degree=2, epsilon=0.5, gamma=1, kernel=linear; total time=   0.5s\n",
      "[CV] END C=10, degree=2, epsilon=0.5, gamma=1, kernel=linear; total time=   0.5s\n",
      "[CV] END C=10, degree=2, epsilon=0.5, gamma=1, kernel=linear; total time=   0.5s\n",
      "[CV] END C=10, degree=2, epsilon=0.5, gamma=1, kernel=linear; total time=   0.5s\n",
      "[CV] END C=10, degree=2, epsilon=0.5, gamma=1, kernel=linear; total time=   0.5s\n",
      "[CV] END C=10, degree=2, epsilon=0.5, gamma=0.1, kernel=linear; total time=   0.5s\n",
      "[CV] END C=10, degree=2, epsilon=0.5, gamma=0.1, kernel=linear; total time=   0.5s\n",
      "[CV] END C=10, degree=2, epsilon=0.5, gamma=0.1, kernel=linear; total time=   0.5s\n",
      "[CV] END C=10, degree=2, epsilon=0.5, gamma=0.1, kernel=linear; total time=   0.5s\n",
      "[CV] END C=10, degree=2, epsilon=0.5, gamma=0.1, kernel=linear; total time=   0.5s\n",
      "[CV] END C=10, degree=2, epsilon=0.5, gamma=0.01, kernel=linear; total time=   0.5s\n",
      "[CV] END C=10, degree=2, epsilon=0.5, gamma=0.01, kernel=linear; total time=   0.5s\n",
      "[CV] END C=10, degree=2, epsilon=0.5, gamma=0.01, kernel=linear; total time=   0.5s\n",
      "[CV] END C=10, degree=2, epsilon=0.5, gamma=0.01, kernel=linear; total time=   0.5s\n",
      "[CV] END C=10, degree=2, epsilon=0.5, gamma=0.01, kernel=linear; total time=   0.5s\n",
      "[CV] END ..C=10, degree=2, epsilon=1, gamma=1, kernel=linear; total time=   0.5s\n",
      "[CV] END ..C=10, degree=2, epsilon=1, gamma=1, kernel=linear; total time=   0.5s\n",
      "[CV] END ..C=10, degree=2, epsilon=1, gamma=1, kernel=linear; total time=   0.5s\n",
      "[CV] END ..C=10, degree=2, epsilon=1, gamma=1, kernel=linear; total time=   0.5s\n",
      "[CV] END ..C=10, degree=2, epsilon=1, gamma=1, kernel=linear; total time=   0.5s\n",
      "[CV] END C=10, degree=2, epsilon=1, gamma=0.1, kernel=linear; total time=   0.5s\n",
      "[CV] END C=10, degree=2, epsilon=1, gamma=0.1, kernel=linear; total time=   0.5s\n",
      "[CV] END C=10, degree=2, epsilon=1, gamma=0.1, kernel=linear; total time=   0.5s\n",
      "[CV] END C=10, degree=2, epsilon=1, gamma=0.1, kernel=linear; total time=   0.5s\n",
      "[CV] END C=10, degree=2, epsilon=1, gamma=0.1, kernel=linear; total time=   0.5s\n",
      "[CV] END C=10, degree=2, epsilon=1, gamma=0.01, kernel=linear; total time=   0.5s\n",
      "[CV] END C=10, degree=2, epsilon=1, gamma=0.01, kernel=linear; total time=   0.6s\n",
      "[CV] END C=10, degree=2, epsilon=1, gamma=0.01, kernel=linear; total time=   0.6s\n",
      "[CV] END C=10, degree=2, epsilon=1, gamma=0.01, kernel=linear; total time=   0.5s\n",
      "[CV] END C=10, degree=2, epsilon=1, gamma=0.01, kernel=linear; total time=   0.5s\n",
      "[CV] END C=10, degree=3, epsilon=0.1, gamma=1, kernel=linear; total time=   0.5s\n",
      "[CV] END C=10, degree=3, epsilon=0.1, gamma=1, kernel=linear; total time=   0.5s\n",
      "[CV] END C=10, degree=3, epsilon=0.1, gamma=1, kernel=linear; total time=   0.5s\n",
      "[CV] END C=10, degree=3, epsilon=0.1, gamma=1, kernel=linear; total time=   0.5s\n",
      "[CV] END C=10, degree=3, epsilon=0.1, gamma=1, kernel=linear; total time=   0.5s\n",
      "[CV] END C=10, degree=3, epsilon=0.1, gamma=0.1, kernel=linear; total time=   0.5s\n",
      "[CV] END C=10, degree=3, epsilon=0.1, gamma=0.1, kernel=linear; total time=   0.5s\n",
      "[CV] END C=10, degree=3, epsilon=0.1, gamma=0.1, kernel=linear; total time=   0.5s\n",
      "[CV] END C=10, degree=3, epsilon=0.1, gamma=0.1, kernel=linear; total time=   0.5s\n",
      "[CV] END C=10, degree=3, epsilon=0.1, gamma=0.1, kernel=linear; total time=   0.5s\n",
      "[CV] END C=10, degree=3, epsilon=0.1, gamma=0.01, kernel=linear; total time=   0.5s\n",
      "[CV] END C=10, degree=3, epsilon=0.1, gamma=0.01, kernel=linear; total time=   0.5s\n",
      "[CV] END C=10, degree=3, epsilon=0.1, gamma=0.01, kernel=linear; total time=   0.5s\n",
      "[CV] END C=10, degree=3, epsilon=0.1, gamma=0.01, kernel=linear; total time=   0.5s\n",
      "[CV] END C=10, degree=3, epsilon=0.1, gamma=0.01, kernel=linear; total time=   0.5s\n",
      "[CV] END C=10, degree=3, epsilon=0.5, gamma=1, kernel=linear; total time=   0.5s\n",
      "[CV] END C=10, degree=3, epsilon=0.5, gamma=1, kernel=linear; total time=   0.5s\n",
      "[CV] END C=10, degree=3, epsilon=0.5, gamma=1, kernel=linear; total time=   0.5s\n",
      "[CV] END C=10, degree=3, epsilon=0.5, gamma=1, kernel=linear; total time=   0.5s\n",
      "[CV] END C=10, degree=3, epsilon=0.5, gamma=1, kernel=linear; total time=   0.5s\n",
      "[CV] END C=10, degree=3, epsilon=0.5, gamma=0.1, kernel=linear; total time=   0.5s\n",
      "[CV] END C=10, degree=3, epsilon=0.5, gamma=0.1, kernel=linear; total time=   0.5s\n",
      "[CV] END C=10, degree=3, epsilon=0.5, gamma=0.1, kernel=linear; total time=   0.5s\n",
      "[CV] END C=10, degree=3, epsilon=0.5, gamma=0.1, kernel=linear; total time=   0.5s\n",
      "[CV] END C=10, degree=3, epsilon=0.5, gamma=0.1, kernel=linear; total time=   0.5s\n",
      "[CV] END C=10, degree=3, epsilon=0.5, gamma=0.01, kernel=linear; total time=   0.5s\n",
      "[CV] END C=10, degree=3, epsilon=0.5, gamma=0.01, kernel=linear; total time=   0.5s\n",
      "[CV] END C=10, degree=3, epsilon=0.5, gamma=0.01, kernel=linear; total time=   0.5s\n",
      "[CV] END C=10, degree=3, epsilon=0.5, gamma=0.01, kernel=linear; total time=   0.5s\n",
      "[CV] END C=10, degree=3, epsilon=0.5, gamma=0.01, kernel=linear; total time=   0.5s\n",
      "[CV] END ..C=10, degree=3, epsilon=1, gamma=1, kernel=linear; total time=   0.5s\n",
      "[CV] END ..C=10, degree=3, epsilon=1, gamma=1, kernel=linear; total time=   0.5s\n",
      "[CV] END ..C=10, degree=3, epsilon=1, gamma=1, kernel=linear; total time=   0.5s\n",
      "[CV] END ..C=10, degree=3, epsilon=1, gamma=1, kernel=linear; total time=   0.5s\n",
      "[CV] END ..C=10, degree=3, epsilon=1, gamma=1, kernel=linear; total time=   0.5s\n",
      "[CV] END C=10, degree=3, epsilon=1, gamma=0.1, kernel=linear; total time=   0.5s\n",
      "[CV] END C=10, degree=3, epsilon=1, gamma=0.1, kernel=linear; total time=   0.5s\n",
      "[CV] END C=10, degree=3, epsilon=1, gamma=0.1, kernel=linear; total time=   0.5s\n",
      "[CV] END C=10, degree=3, epsilon=1, gamma=0.1, kernel=linear; total time=   0.5s\n",
      "[CV] END C=10, degree=3, epsilon=1, gamma=0.1, kernel=linear; total time=   0.5s\n",
      "[CV] END C=10, degree=3, epsilon=1, gamma=0.01, kernel=linear; total time=   0.5s\n",
      "[CV] END C=10, degree=3, epsilon=1, gamma=0.01, kernel=linear; total time=   0.5s\n",
      "[CV] END C=10, degree=3, epsilon=1, gamma=0.01, kernel=linear; total time=   0.5s\n",
      "[CV] END C=10, degree=3, epsilon=1, gamma=0.01, kernel=linear; total time=   0.5s\n",
      "[CV] END C=10, degree=3, epsilon=1, gamma=0.01, kernel=linear; total time=   0.5s\n",
      "[CV] END C=10, degree=4, epsilon=0.1, gamma=1, kernel=linear; total time=   0.5s\n",
      "[CV] END C=10, degree=4, epsilon=0.1, gamma=1, kernel=linear; total time=   0.5s\n",
      "[CV] END C=10, degree=4, epsilon=0.1, gamma=1, kernel=linear; total time=   0.5s\n",
      "[CV] END C=10, degree=4, epsilon=0.1, gamma=1, kernel=linear; total time=   0.5s\n",
      "[CV] END C=10, degree=4, epsilon=0.1, gamma=1, kernel=linear; total time=   0.5s\n",
      "[CV] END C=10, degree=4, epsilon=0.1, gamma=0.1, kernel=linear; total time=   0.5s\n",
      "[CV] END C=10, degree=4, epsilon=0.1, gamma=0.1, kernel=linear; total time=   0.5s\n",
      "[CV] END C=10, degree=4, epsilon=0.1, gamma=0.1, kernel=linear; total time=   0.5s\n",
      "[CV] END C=10, degree=4, epsilon=0.1, gamma=0.1, kernel=linear; total time=   0.5s\n",
      "[CV] END C=10, degree=4, epsilon=0.1, gamma=0.1, kernel=linear; total time=   0.5s\n",
      "[CV] END C=10, degree=4, epsilon=0.1, gamma=0.01, kernel=linear; total time=   0.5s\n",
      "[CV] END C=10, degree=4, epsilon=0.1, gamma=0.01, kernel=linear; total time=   0.5s\n",
      "[CV] END C=10, degree=4, epsilon=0.1, gamma=0.01, kernel=linear; total time=   0.5s\n",
      "[CV] END C=10, degree=4, epsilon=0.1, gamma=0.01, kernel=linear; total time=   0.5s\n",
      "[CV] END C=10, degree=4, epsilon=0.1, gamma=0.01, kernel=linear; total time=   0.5s\n",
      "[CV] END C=10, degree=4, epsilon=0.5, gamma=1, kernel=linear; total time=   0.5s\n",
      "[CV] END C=10, degree=4, epsilon=0.5, gamma=1, kernel=linear; total time=   0.5s\n",
      "[CV] END C=10, degree=4, epsilon=0.5, gamma=1, kernel=linear; total time=   0.5s\n",
      "[CV] END C=10, degree=4, epsilon=0.5, gamma=1, kernel=linear; total time=   0.5s\n",
      "[CV] END C=10, degree=4, epsilon=0.5, gamma=1, kernel=linear; total time=   0.5s\n",
      "[CV] END C=10, degree=4, epsilon=0.5, gamma=0.1, kernel=linear; total time=   0.5s\n",
      "[CV] END C=10, degree=4, epsilon=0.5, gamma=0.1, kernel=linear; total time=   0.5s\n",
      "[CV] END C=10, degree=4, epsilon=0.5, gamma=0.1, kernel=linear; total time=   0.5s\n",
      "[CV] END C=10, degree=4, epsilon=0.5, gamma=0.1, kernel=linear; total time=   0.5s\n",
      "[CV] END C=10, degree=4, epsilon=0.5, gamma=0.1, kernel=linear; total time=   0.5s\n",
      "[CV] END C=10, degree=4, epsilon=0.5, gamma=0.01, kernel=linear; total time=   0.5s\n",
      "[CV] END C=10, degree=4, epsilon=0.5, gamma=0.01, kernel=linear; total time=   0.5s\n",
      "[CV] END C=10, degree=4, epsilon=0.5, gamma=0.01, kernel=linear; total time=   0.5s\n",
      "[CV] END C=10, degree=4, epsilon=0.5, gamma=0.01, kernel=linear; total time=   0.5s\n",
      "[CV] END C=10, degree=4, epsilon=0.5, gamma=0.01, kernel=linear; total time=   0.5s\n",
      "[CV] END ..C=10, degree=4, epsilon=1, gamma=1, kernel=linear; total time=   0.5s\n",
      "[CV] END ..C=10, degree=4, epsilon=1, gamma=1, kernel=linear; total time=   0.5s\n",
      "[CV] END ..C=10, degree=4, epsilon=1, gamma=1, kernel=linear; total time=   0.5s\n",
      "[CV] END ..C=10, degree=4, epsilon=1, gamma=1, kernel=linear; total time=   0.5s\n",
      "[CV] END ..C=10, degree=4, epsilon=1, gamma=1, kernel=linear; total time=   0.5s\n",
      "[CV] END C=10, degree=4, epsilon=1, gamma=0.1, kernel=linear; total time=   0.5s\n",
      "[CV] END C=10, degree=4, epsilon=1, gamma=0.1, kernel=linear; total time=   0.5s\n",
      "[CV] END C=10, degree=4, epsilon=1, gamma=0.1, kernel=linear; total time=   0.5s\n",
      "[CV] END C=10, degree=4, epsilon=1, gamma=0.1, kernel=linear; total time=   0.5s\n",
      "[CV] END C=10, degree=4, epsilon=1, gamma=0.1, kernel=linear; total time=   0.5s\n",
      "[CV] END C=10, degree=4, epsilon=1, gamma=0.01, kernel=linear; total time=   0.5s\n",
      "[CV] END C=10, degree=4, epsilon=1, gamma=0.01, kernel=linear; total time=   0.5s\n",
      "[CV] END C=10, degree=4, epsilon=1, gamma=0.01, kernel=linear; total time=   0.5s\n",
      "[CV] END C=10, degree=4, epsilon=1, gamma=0.01, kernel=linear; total time=   0.5s\n",
      "[CV] END C=10, degree=4, epsilon=1, gamma=0.01, kernel=linear; total time=   0.5s\n",
      "[CV] END C=100, degree=2, epsilon=0.1, gamma=1, kernel=linear; total time=   0.7s\n",
      "[CV] END C=100, degree=2, epsilon=0.1, gamma=1, kernel=linear; total time=   0.7s\n",
      "[CV] END C=100, degree=2, epsilon=0.1, gamma=1, kernel=linear; total time=   0.7s\n",
      "[CV] END C=100, degree=2, epsilon=0.1, gamma=1, kernel=linear; total time=   0.8s\n",
      "[CV] END C=100, degree=2, epsilon=0.1, gamma=1, kernel=linear; total time=   1.4s\n",
      "[CV] END C=100, degree=2, epsilon=0.1, gamma=0.1, kernel=linear; total time=   0.7s\n",
      "[CV] END C=100, degree=2, epsilon=0.1, gamma=0.1, kernel=linear; total time=   0.7s\n",
      "[CV] END C=100, degree=2, epsilon=0.1, gamma=0.1, kernel=linear; total time=   0.7s\n",
      "[CV] END C=100, degree=2, epsilon=0.1, gamma=0.1, kernel=linear; total time=   0.7s\n",
      "[CV] END C=100, degree=2, epsilon=0.1, gamma=0.1, kernel=linear; total time=   1.4s\n",
      "[CV] END C=100, degree=2, epsilon=0.1, gamma=0.01, kernel=linear; total time=   0.7s\n",
      "[CV] END C=100, degree=2, epsilon=0.1, gamma=0.01, kernel=linear; total time=   0.7s\n",
      "[CV] END C=100, degree=2, epsilon=0.1, gamma=0.01, kernel=linear; total time=   0.7s\n",
      "[CV] END C=100, degree=2, epsilon=0.1, gamma=0.01, kernel=linear; total time=   0.7s\n",
      "[CV] END C=100, degree=2, epsilon=0.1, gamma=0.01, kernel=linear; total time=   1.4s\n",
      "[CV] END C=100, degree=2, epsilon=0.5, gamma=1, kernel=linear; total time=   0.6s\n",
      "[CV] END C=100, degree=2, epsilon=0.5, gamma=1, kernel=linear; total time=   0.7s\n",
      "[CV] END C=100, degree=2, epsilon=0.5, gamma=1, kernel=linear; total time=   0.8s\n",
      "[CV] END C=100, degree=2, epsilon=0.5, gamma=1, kernel=linear; total time=   0.7s\n",
      "[CV] END C=100, degree=2, epsilon=0.5, gamma=1, kernel=linear; total time=   0.6s\n",
      "[CV] END C=100, degree=2, epsilon=0.5, gamma=0.1, kernel=linear; total time=   0.7s\n",
      "[CV] END C=100, degree=2, epsilon=0.5, gamma=0.1, kernel=linear; total time=   0.7s\n",
      "[CV] END C=100, degree=2, epsilon=0.5, gamma=0.1, kernel=linear; total time=   0.8s\n",
      "[CV] END C=100, degree=2, epsilon=0.5, gamma=0.1, kernel=linear; total time=   0.7s\n",
      "[CV] END C=100, degree=2, epsilon=0.5, gamma=0.1, kernel=linear; total time=   0.6s\n",
      "[CV] END C=100, degree=2, epsilon=0.5, gamma=0.01, kernel=linear; total time=   0.6s\n",
      "[CV] END C=100, degree=2, epsilon=0.5, gamma=0.01, kernel=linear; total time=   0.7s\n",
      "[CV] END C=100, degree=2, epsilon=0.5, gamma=0.01, kernel=linear; total time=   0.8s\n",
      "[CV] END C=100, degree=2, epsilon=0.5, gamma=0.01, kernel=linear; total time=   0.7s\n",
      "[CV] END C=100, degree=2, epsilon=0.5, gamma=0.01, kernel=linear; total time=   0.6s\n",
      "[CV] END .C=100, degree=2, epsilon=1, gamma=1, kernel=linear; total time=   0.9s\n",
      "[CV] END .C=100, degree=2, epsilon=1, gamma=1, kernel=linear; total time=   0.6s\n",
      "[CV] END .C=100, degree=2, epsilon=1, gamma=1, kernel=linear; total time=   0.7s\n",
      "[CV] END .C=100, degree=2, epsilon=1, gamma=1, kernel=linear; total time=   0.6s\n",
      "[CV] END .C=100, degree=2, epsilon=1, gamma=1, kernel=linear; total time=   0.6s\n",
      "[CV] END C=100, degree=2, epsilon=1, gamma=0.1, kernel=linear; total time=   0.9s\n",
      "[CV] END C=100, degree=2, epsilon=1, gamma=0.1, kernel=linear; total time=   0.6s\n",
      "[CV] END C=100, degree=2, epsilon=1, gamma=0.1, kernel=linear; total time=   0.7s\n",
      "[CV] END C=100, degree=2, epsilon=1, gamma=0.1, kernel=linear; total time=   0.6s\n",
      "[CV] END C=100, degree=2, epsilon=1, gamma=0.1, kernel=linear; total time=   0.6s\n",
      "[CV] END C=100, degree=2, epsilon=1, gamma=0.01, kernel=linear; total time=   0.9s\n",
      "[CV] END C=100, degree=2, epsilon=1, gamma=0.01, kernel=linear; total time=   0.6s\n",
      "[CV] END C=100, degree=2, epsilon=1, gamma=0.01, kernel=linear; total time=   0.7s\n",
      "[CV] END C=100, degree=2, epsilon=1, gamma=0.01, kernel=linear; total time=   0.6s\n",
      "[CV] END C=100, degree=2, epsilon=1, gamma=0.01, kernel=linear; total time=   0.6s\n",
      "[CV] END C=100, degree=3, epsilon=0.1, gamma=1, kernel=linear; total time=   0.7s\n",
      "[CV] END C=100, degree=3, epsilon=0.1, gamma=1, kernel=linear; total time=   0.7s\n",
      "[CV] END C=100, degree=3, epsilon=0.1, gamma=1, kernel=linear; total time=   0.7s\n",
      "[CV] END C=100, degree=3, epsilon=0.1, gamma=1, kernel=linear; total time=   0.7s\n",
      "[CV] END C=100, degree=3, epsilon=0.1, gamma=1, kernel=linear; total time=   1.4s\n",
      "[CV] END C=100, degree=3, epsilon=0.1, gamma=0.1, kernel=linear; total time=   0.7s\n",
      "[CV] END C=100, degree=3, epsilon=0.1, gamma=0.1, kernel=linear; total time=   0.7s\n",
      "[CV] END C=100, degree=3, epsilon=0.1, gamma=0.1, kernel=linear; total time=   0.7s\n",
      "[CV] END C=100, degree=3, epsilon=0.1, gamma=0.1, kernel=linear; total time=   0.7s\n",
      "[CV] END C=100, degree=3, epsilon=0.1, gamma=0.1, kernel=linear; total time=   1.4s\n",
      "[CV] END C=100, degree=3, epsilon=0.1, gamma=0.01, kernel=linear; total time=   0.7s\n",
      "[CV] END C=100, degree=3, epsilon=0.1, gamma=0.01, kernel=linear; total time=   0.7s\n",
      "[CV] END C=100, degree=3, epsilon=0.1, gamma=0.01, kernel=linear; total time=   0.7s\n",
      "[CV] END C=100, degree=3, epsilon=0.1, gamma=0.01, kernel=linear; total time=   0.7s\n",
      "[CV] END C=100, degree=3, epsilon=0.1, gamma=0.01, kernel=linear; total time=   1.4s\n",
      "[CV] END C=100, degree=3, epsilon=0.5, gamma=1, kernel=linear; total time=   0.6s\n",
      "[CV] END C=100, degree=3, epsilon=0.5, gamma=1, kernel=linear; total time=   0.7s\n",
      "[CV] END C=100, degree=3, epsilon=0.5, gamma=1, kernel=linear; total time=   0.7s\n",
      "[CV] END C=100, degree=3, epsilon=0.5, gamma=1, kernel=linear; total time=   0.7s\n",
      "[CV] END C=100, degree=3, epsilon=0.5, gamma=1, kernel=linear; total time=   0.6s\n",
      "[CV] END C=100, degree=3, epsilon=0.5, gamma=0.1, kernel=linear; total time=   0.6s\n",
      "[CV] END C=100, degree=3, epsilon=0.5, gamma=0.1, kernel=linear; total time=   0.7s\n",
      "[CV] END C=100, degree=3, epsilon=0.5, gamma=0.1, kernel=linear; total time=   0.7s\n",
      "[CV] END C=100, degree=3, epsilon=0.5, gamma=0.1, kernel=linear; total time=   0.7s\n",
      "[CV] END C=100, degree=3, epsilon=0.5, gamma=0.1, kernel=linear; total time=   0.6s\n",
      "[CV] END C=100, degree=3, epsilon=0.5, gamma=0.01, kernel=linear; total time=   0.6s\n",
      "[CV] END C=100, degree=3, epsilon=0.5, gamma=0.01, kernel=linear; total time=   0.7s\n",
      "[CV] END C=100, degree=3, epsilon=0.5, gamma=0.01, kernel=linear; total time=   0.7s\n",
      "[CV] END C=100, degree=3, epsilon=0.5, gamma=0.01, kernel=linear; total time=   0.7s\n",
      "[CV] END C=100, degree=3, epsilon=0.5, gamma=0.01, kernel=linear; total time=   0.6s\n",
      "[CV] END .C=100, degree=3, epsilon=1, gamma=1, kernel=linear; total time=   0.9s\n",
      "[CV] END .C=100, degree=3, epsilon=1, gamma=1, kernel=linear; total time=   0.8s\n",
      "[CV] END .C=100, degree=3, epsilon=1, gamma=1, kernel=linear; total time=   0.7s\n",
      "[CV] END .C=100, degree=3, epsilon=1, gamma=1, kernel=linear; total time=   0.6s\n",
      "[CV] END .C=100, degree=3, epsilon=1, gamma=1, kernel=linear; total time=   0.7s\n",
      "[CV] END C=100, degree=3, epsilon=1, gamma=0.1, kernel=linear; total time=   0.9s\n",
      "[CV] END C=100, degree=3, epsilon=1, gamma=0.1, kernel=linear; total time=   0.6s\n",
      "[CV] END C=100, degree=3, epsilon=1, gamma=0.1, kernel=linear; total time=   0.7s\n",
      "[CV] END C=100, degree=3, epsilon=1, gamma=0.1, kernel=linear; total time=   0.7s\n",
      "[CV] END C=100, degree=3, epsilon=1, gamma=0.1, kernel=linear; total time=   0.6s\n",
      "[CV] END C=100, degree=3, epsilon=1, gamma=0.01, kernel=linear; total time=   1.0s\n",
      "[CV] END C=100, degree=3, epsilon=1, gamma=0.01, kernel=linear; total time=   0.7s\n",
      "[CV] END C=100, degree=3, epsilon=1, gamma=0.01, kernel=linear; total time=   0.7s\n",
      "[CV] END C=100, degree=3, epsilon=1, gamma=0.01, kernel=linear; total time=   0.6s\n",
      "[CV] END C=100, degree=3, epsilon=1, gamma=0.01, kernel=linear; total time=   0.6s\n",
      "[CV] END C=100, degree=4, epsilon=0.1, gamma=1, kernel=linear; total time=   0.7s\n",
      "[CV] END C=100, degree=4, epsilon=0.1, gamma=1, kernel=linear; total time=   0.8s\n",
      "[CV] END C=100, degree=4, epsilon=0.1, gamma=1, kernel=linear; total time=   0.7s\n",
      "[CV] END C=100, degree=4, epsilon=0.1, gamma=1, kernel=linear; total time=   0.7s\n",
      "[CV] END C=100, degree=4, epsilon=0.1, gamma=1, kernel=linear; total time=   1.4s\n",
      "[CV] END C=100, degree=4, epsilon=0.1, gamma=0.1, kernel=linear; total time=   0.7s\n",
      "[CV] END C=100, degree=4, epsilon=0.1, gamma=0.1, kernel=linear; total time=   0.8s\n",
      "[CV] END C=100, degree=4, epsilon=0.1, gamma=0.1, kernel=linear; total time=   0.7s\n",
      "[CV] END C=100, degree=4, epsilon=0.1, gamma=0.1, kernel=linear; total time=   0.7s\n",
      "[CV] END C=100, degree=4, epsilon=0.1, gamma=0.1, kernel=linear; total time=   1.4s\n",
      "[CV] END C=100, degree=4, epsilon=0.1, gamma=0.01, kernel=linear; total time=   0.7s\n",
      "[CV] END C=100, degree=4, epsilon=0.1, gamma=0.01, kernel=linear; total time=   0.7s\n",
      "[CV] END C=100, degree=4, epsilon=0.1, gamma=0.01, kernel=linear; total time=   0.7s\n",
      "[CV] END C=100, degree=4, epsilon=0.1, gamma=0.01, kernel=linear; total time=   0.7s\n",
      "[CV] END C=100, degree=4, epsilon=0.1, gamma=0.01, kernel=linear; total time=   1.4s\n",
      "[CV] END C=100, degree=4, epsilon=0.5, gamma=1, kernel=linear; total time=   0.7s\n",
      "[CV] END C=100, degree=4, epsilon=0.5, gamma=1, kernel=linear; total time=   0.7s\n",
      "[CV] END C=100, degree=4, epsilon=0.5, gamma=1, kernel=linear; total time=   0.8s\n",
      "[CV] END C=100, degree=4, epsilon=0.5, gamma=1, kernel=linear; total time=   0.7s\n",
      "[CV] END C=100, degree=4, epsilon=0.5, gamma=1, kernel=linear; total time=   0.6s\n",
      "[CV] END C=100, degree=4, epsilon=0.5, gamma=0.1, kernel=linear; total time=   0.6s\n",
      "[CV] END C=100, degree=4, epsilon=0.5, gamma=0.1, kernel=linear; total time=   0.7s\n",
      "[CV] END C=100, degree=4, epsilon=0.5, gamma=0.1, kernel=linear; total time=   0.7s\n",
      "[CV] END C=100, degree=4, epsilon=0.5, gamma=0.1, kernel=linear; total time=   0.7s\n",
      "[CV] END C=100, degree=4, epsilon=0.5, gamma=0.1, kernel=linear; total time=   0.6s\n",
      "[CV] END C=100, degree=4, epsilon=0.5, gamma=0.01, kernel=linear; total time=   0.6s\n",
      "[CV] END C=100, degree=4, epsilon=0.5, gamma=0.01, kernel=linear; total time=   0.7s\n",
      "[CV] END C=100, degree=4, epsilon=0.5, gamma=0.01, kernel=linear; total time=   0.7s\n",
      "[CV] END C=100, degree=4, epsilon=0.5, gamma=0.01, kernel=linear; total time=   0.7s\n",
      "[CV] END C=100, degree=4, epsilon=0.5, gamma=0.01, kernel=linear; total time=   0.7s\n",
      "[CV] END .C=100, degree=4, epsilon=1, gamma=1, kernel=linear; total time=   0.9s\n",
      "[CV] END .C=100, degree=4, epsilon=1, gamma=1, kernel=linear; total time=   0.6s\n",
      "[CV] END .C=100, degree=4, epsilon=1, gamma=1, kernel=linear; total time=   0.7s\n",
      "[CV] END .C=100, degree=4, epsilon=1, gamma=1, kernel=linear; total time=   0.6s\n",
      "[CV] END .C=100, degree=4, epsilon=1, gamma=1, kernel=linear; total time=   0.6s\n",
      "[CV] END C=100, degree=4, epsilon=1, gamma=0.1, kernel=linear; total time=   0.9s\n",
      "[CV] END C=100, degree=4, epsilon=1, gamma=0.1, kernel=linear; total time=   0.6s\n",
      "[CV] END C=100, degree=4, epsilon=1, gamma=0.1, kernel=linear; total time=   0.7s\n",
      "[CV] END C=100, degree=4, epsilon=1, gamma=0.1, kernel=linear; total time=   0.6s\n",
      "[CV] END C=100, degree=4, epsilon=1, gamma=0.1, kernel=linear; total time=   0.6s\n",
      "[CV] END C=100, degree=4, epsilon=1, gamma=0.01, kernel=linear; total time=   0.9s\n",
      "[CV] END C=100, degree=4, epsilon=1, gamma=0.01, kernel=linear; total time=   0.6s\n",
      "[CV] END C=100, degree=4, epsilon=1, gamma=0.01, kernel=linear; total time=   0.7s\n",
      "[CV] END C=100, degree=4, epsilon=1, gamma=0.01, kernel=linear; total time=   0.6s\n",
      "[CV] END C=100, degree=4, epsilon=1, gamma=0.01, kernel=linear; total time=   0.6s\n",
      "[CV] END bootstrap=True, max_depth=80, max_features=auto, min_samples_leaf=4, min_samples_split=10, n_estimators=100; total time=   0.2s\n",
      "[CV] END bootstrap=True, max_depth=90, max_features=sqrt, min_samples_leaf=4, min_samples_split=5, n_estimators=200; total time=   0.3s\n",
      "[CV] END bootstrap=False, max_depth=100, max_features=sqrt, min_samples_leaf=4, min_samples_split=2, n_estimators=600; total time=   0.9s\n",
      "[CV] END bootstrap=True, max_depth=20, max_features=auto, min_samples_leaf=2, min_samples_split=2, n_estimators=200; total time=   0.4s\n",
      "[CV] END bootstrap=True, max_depth=20, max_features=auto, min_samples_leaf=2, min_samples_split=2, n_estimators=200; total time=   0.4s\n",
      "[CV] END bootstrap=True, max_depth=90, max_features=auto, min_samples_leaf=1, min_samples_split=10, n_estimators=600; total time=   1.3s\n",
      "[CV] END bootstrap=True, max_depth=10, max_features=sqrt, min_samples_leaf=2, min_samples_split=5, n_estimators=500; total time=   0.8s\n",
      "[CV] END bootstrap=True, max_depth=100, max_features=sqrt, min_samples_leaf=2, min_samples_split=2, n_estimators=300; total time=   0.5s\n",
      "[CV] END bootstrap=False, max_depth=30, max_features=sqrt, min_samples_leaf=4, min_samples_split=2, n_estimators=700; total time=   1.0s\n",
      "[CV] END bootstrap=True, max_depth=10, max_features=auto, min_samples_leaf=1, min_samples_split=10, n_estimators=700; total time=   1.5s\n",
      "[CV] END bootstrap=True, max_depth=10, max_features=auto, min_samples_leaf=2, min_samples_split=2, n_estimators=300; total time=   0.6s\n",
      "[CV] END bootstrap=True, max_depth=20, max_features=sqrt, min_samples_leaf=2, min_samples_split=5, n_estimators=600; total time=   1.1s\n",
      "[CV] END bootstrap=False, max_depth=60, max_features=auto, min_samples_leaf=1, min_samples_split=2, n_estimators=800; total time=   1.8s\n",
      "[CV] END bootstrap=True, max_depth=90, max_features=auto, min_samples_leaf=4, min_samples_split=2, n_estimators=1000; total time=   2.1s\n",
      "[CV] END bootstrap=False, max_depth=10, max_features=sqrt, min_samples_leaf=4, min_samples_split=5, n_estimators=600; total time=   0.9s\n",
      "[CV] END bootstrap=False, max_depth=10, max_features=sqrt, min_samples_leaf=2, min_samples_split=2, n_estimators=500; total time=   0.8s\n",
      "[CV] END bootstrap=True, max_depth=60, max_features=sqrt, min_samples_leaf=4, min_samples_split=2, n_estimators=800; total time=   1.4s\n",
      "[CV] END bootstrap=False, max_depth=40, max_features=auto, min_samples_leaf=2, min_samples_split=2, n_estimators=800; total time=   1.8s\n",
      "[CV] END bootstrap=True, max_depth=30, max_features=auto, min_samples_leaf=2, min_samples_split=10, n_estimators=600; total time=   1.3s\n",
      "[CV] END bootstrap=True, max_depth=40, max_features=sqrt, min_samples_leaf=2, min_samples_split=5, n_estimators=100; total time=   0.2s\n",
      "[CV] END bootstrap=False, max_depth=70, max_features=sqrt, min_samples_leaf=2, min_samples_split=5, n_estimators=1000; total time=   1.8s\n",
      "[CV] END bootstrap=False, max_depth=40, max_features=auto, min_samples_leaf=1, min_samples_split=5, n_estimators=800; total time=   1.8s\n",
      "[CV] END bootstrap=False, max_depth=60, max_features=auto, min_samples_leaf=4, min_samples_split=2, n_estimators=300; total time=   0.6s\n",
      "[CV] END bootstrap=False, max_depth=70, max_features=sqrt, min_samples_leaf=1, min_samples_split=5, n_estimators=900; total time=   1.6s\n",
      "[CV] END bootstrap=True, max_depth=70, max_features=sqrt, min_samples_leaf=2, min_samples_split=10, n_estimators=700; total time=   1.3s\n",
      "[CV] END bootstrap=True, max_depth=60, max_features=sqrt, min_samples_leaf=1, min_samples_split=2, n_estimators=1000; total time=   1.9s\n",
      "[CV] END bootstrap=True, max_depth=60, max_features=auto, min_samples_leaf=1, min_samples_split=10, n_estimators=800; total time=   1.8s\n",
      "[CV] END bootstrap=False, max_depth=70, max_features=sqrt, min_samples_leaf=4, min_samples_split=2, n_estimators=400; total time=   0.8s\n",
      "[CV] END bootstrap=True, max_depth=10, max_features=sqrt, min_samples_leaf=2, min_samples_split=2, n_estimators=100; total time=   0.2s\n",
      "[CV] END bootstrap=True, max_depth=10, max_features=sqrt, min_samples_leaf=2, min_samples_split=2, n_estimators=100; total time=   0.2s\n",
      "[CV] END bootstrap=True, max_depth=100, max_features=sqrt, min_samples_leaf=4, min_samples_split=5, n_estimators=700; total time=   1.2s\n",
      "[CV] END bootstrap=True, max_depth=80, max_features=sqrt, min_samples_leaf=2, min_samples_split=10, n_estimators=400; total time=   0.7s\n",
      "[CV] END bootstrap=True, max_depth=30, max_features=auto, min_samples_leaf=1, min_samples_split=10, n_estimators=800; total time=   1.8s\n",
      "[CV] END bootstrap=True, max_depth=80, max_features=auto, min_samples_leaf=4, min_samples_split=10, n_estimators=100; total time=   0.2s\n",
      "[CV] END bootstrap=False, max_depth=100, max_features=sqrt, min_samples_leaf=2, min_samples_split=2, n_estimators=1000; total time=   1.6s\n",
      "[CV] END bootstrap=True, max_depth=20, max_features=auto, min_samples_leaf=2, min_samples_split=2, n_estimators=200; total time=   0.4s\n",
      "[CV] END bootstrap=False, max_depth=100, max_features=sqrt, min_samples_leaf=1, min_samples_split=2, n_estimators=600; total time=   0.9s\n",
      "[CV] END bootstrap=True, max_depth=10, max_features=sqrt, min_samples_leaf=2, min_samples_split=5, n_estimators=500; total time=   0.9s\n",
      "[CV] END bootstrap=False, max_depth=50, max_features=sqrt, min_samples_leaf=4, min_samples_split=2, n_estimators=800; total time=   1.2s\n",
      "[CV] END bootstrap=False, max_depth=30, max_features=sqrt, min_samples_leaf=4, min_samples_split=2, n_estimators=700; total time=   1.0s\n",
      "[CV] END bootstrap=True, max_depth=60, max_features=auto, min_samples_leaf=1, min_samples_split=10, n_estimators=1000; total time=   2.1s\n",
      "[CV] END bootstrap=True, max_depth=20, max_features=sqrt, min_samples_leaf=2, min_samples_split=5, n_estimators=600; total time=   1.2s\n",
      "[CV] END bootstrap=False, max_depth=70, max_features=auto, min_samples_leaf=1, min_samples_split=2, n_estimators=800; total time=   1.7s\n",
      "[CV] END bootstrap=True, max_depth=20, max_features=sqrt, min_samples_leaf=1, min_samples_split=2, n_estimators=100; total time=   0.2s\n",
      "[CV] END bootstrap=True, max_depth=20, max_features=sqrt, min_samples_leaf=1, min_samples_split=2, n_estimators=100; total time=   0.2s\n",
      "[CV] END bootstrap=True, max_depth=20, max_features=sqrt, min_samples_leaf=1, min_samples_split=2, n_estimators=100; total time=   0.2s\n",
      "[CV] END bootstrap=True, max_depth=20, max_features=sqrt, min_samples_leaf=1, min_samples_split=2, n_estimators=100; total time=   0.2s\n",
      "[CV] END bootstrap=True, max_depth=20, max_features=sqrt, min_samples_leaf=1, min_samples_split=2, n_estimators=100; total time=   0.2s\n",
      "[CV] END bootstrap=False, max_depth=10, max_features=sqrt, min_samples_leaf=4, min_samples_split=5, n_estimators=600; total time=   0.9s\n",
      "[CV] END bootstrap=True, max_depth=50, max_features=sqrt, min_samples_leaf=4, min_samples_split=2, n_estimators=1000; total time=   1.7s\n",
      "[CV] END bootstrap=True, max_depth=60, max_features=sqrt, min_samples_leaf=4, min_samples_split=2, n_estimators=800; total time=   1.4s\n",
      "[CV] END bootstrap=True, max_depth=70, max_features=sqrt, min_samples_leaf=4, min_samples_split=2, n_estimators=200; total time=   0.4s\n",
      "[CV] END bootstrap=True, max_depth=70, max_features=sqrt, min_samples_leaf=4, min_samples_split=2, n_estimators=200; total time=   0.4s\n",
      "[CV] END bootstrap=True, max_depth=30, max_features=auto, min_samples_leaf=4, min_samples_split=5, n_estimators=1000; total time=   2.2s\n",
      "[CV] END bootstrap=False, max_depth=60, max_features=sqrt, min_samples_leaf=2, min_samples_split=10, n_estimators=400; total time=   0.7s\n",
      "[CV] END bootstrap=False, max_depth=70, max_features=sqrt, min_samples_leaf=2, min_samples_split=5, n_estimators=1000; total time=   1.8s\n",
      "[CV] END bootstrap=True, max_depth=10, max_features=sqrt, min_samples_leaf=4, min_samples_split=10, n_estimators=1000; total time=   1.8s\n",
      "[CV] END bootstrap=False, max_depth=70, max_features=sqrt, min_samples_leaf=1, min_samples_split=5, n_estimators=900; total time=   1.6s\n",
      "[CV] END bootstrap=False, max_depth=40, max_features=sqrt, min_samples_leaf=1, min_samples_split=10, n_estimators=700; total time=   1.3s\n",
      "[CV] END bootstrap=True, max_depth=60, max_features=sqrt, min_samples_leaf=1, min_samples_split=2, n_estimators=1000; total time=   1.9s\n",
      "[CV] END bootstrap=True, max_depth=60, max_features=auto, min_samples_leaf=1, min_samples_split=10, n_estimators=800; total time=   1.8s\n",
      "[CV] END bootstrap=False, max_depth=50, max_features=sqrt, min_samples_leaf=4, min_samples_split=10, n_estimators=700; total time=   1.3s\n",
      "[CV] END bootstrap=True, max_depth=10, max_features=sqrt, min_samples_leaf=2, min_samples_split=2, n_estimators=100; total time=   0.2s\n",
      "[CV] END bootstrap=True, max_depth=100, max_features=sqrt, min_samples_leaf=4, min_samples_split=5, n_estimators=700; total time=   1.2s\n",
      "[CV] END bootstrap=True, max_depth=30, max_features=auto, min_samples_leaf=1, min_samples_split=10, n_estimators=800; total time=   1.8s\n",
      "[CV] END bootstrap=False, max_depth=20, max_features=sqrt, min_samples_leaf=2, min_samples_split=2, n_estimators=500; total time=   0.8s\n",
      "[CV] END bootstrap=True, max_depth=80, max_features=auto, min_samples_leaf=4, min_samples_split=10, n_estimators=100; total time=   0.2s\n",
      "[CV] END bootstrap=True, max_depth=90, max_features=sqrt, min_samples_leaf=4, min_samples_split=5, n_estimators=200; total time=   0.3s\n",
      "[CV] END bootstrap=False, max_depth=100, max_features=sqrt, min_samples_leaf=4, min_samples_split=2, n_estimators=600; total time=   0.9s\n",
      "[CV] END bootstrap=False, max_depth=100, max_features=sqrt, min_samples_leaf=4, min_samples_split=2, n_estimators=600; total time=   0.9s\n",
      "[CV] END bootstrap=True, max_depth=90, max_features=auto, min_samples_leaf=1, min_samples_split=10, n_estimators=600; total time=   1.2s\n",
      "[CV] END bootstrap=False, max_depth=50, max_features=sqrt, min_samples_leaf=4, min_samples_split=2, n_estimators=800; total time=   1.2s\n",
      "[CV] END bootstrap=False, max_depth=30, max_features=sqrt, min_samples_leaf=4, min_samples_split=2, n_estimators=700; total time=   1.1s\n",
      "[CV] END bootstrap=True, max_depth=10, max_features=auto, min_samples_leaf=1, min_samples_split=10, n_estimators=700; total time=   1.5s\n",
      "[CV] END bootstrap=True, max_depth=10, max_features=auto, min_samples_leaf=2, min_samples_split=2, n_estimators=300; total time=   0.6s\n",
      "[CV] END bootstrap=True, max_depth=10, max_features=auto, min_samples_leaf=2, min_samples_split=2, n_estimators=300; total time=   0.6s\n",
      "[CV] END bootstrap=False, max_depth=60, max_features=auto, min_samples_leaf=1, min_samples_split=2, n_estimators=800; total time=   1.8s\n",
      "[CV] END bootstrap=False, max_depth=70, max_features=auto, min_samples_leaf=1, min_samples_split=2, n_estimators=800; total time=   1.8s\n",
      "[CV] END bootstrap=False, max_depth=10, max_features=sqrt, min_samples_leaf=4, min_samples_split=5, n_estimators=600; total time=   0.9s\n",
      "[CV] END bootstrap=True, max_depth=50, max_features=sqrt, min_samples_leaf=4, min_samples_split=2, n_estimators=1000; total time=   1.7s\n",
      "[CV] END bootstrap=True, max_depth=60, max_features=sqrt, min_samples_leaf=4, min_samples_split=2, n_estimators=800; total time=   1.4s\n",
      "[CV] END bootstrap=True, max_depth=70, max_features=sqrt, min_samples_leaf=4, min_samples_split=2, n_estimators=200; total time=   0.4s\n",
      "[CV] END bootstrap=True, max_depth=30, max_features=auto, min_samples_leaf=4, min_samples_split=5, n_estimators=1000; total time=   2.2s\n",
      "[CV] END bootstrap=True, max_depth=30, max_features=auto, min_samples_leaf=2, min_samples_split=10, n_estimators=600; total time=   1.5s\n",
      "[CV] END bootstrap=True, max_depth=50, max_features=sqrt, min_samples_leaf=1, min_samples_split=2, n_estimators=200; total time=   0.4s\n",
      "[CV] END bootstrap=False, max_depth=40, max_features=auto, min_samples_leaf=1, min_samples_split=5, n_estimators=800; total time=   1.8s\n",
      "[CV] END bootstrap=True, max_depth=10, max_features=sqrt, min_samples_leaf=4, min_samples_split=10, n_estimators=1000; total time=   1.8s\n",
      "[CV] END bootstrap=False, max_depth=40, max_features=sqrt, min_samples_leaf=1, min_samples_split=10, n_estimators=700; total time=   1.3s\n",
      "[CV] END bootstrap=True, max_depth=70, max_features=sqrt, min_samples_leaf=2, min_samples_split=10, n_estimators=700; total time=   1.3s\n",
      "[CV] END bootstrap=True, max_depth=50, max_features=sqrt, min_samples_leaf=1, min_samples_split=2, n_estimators=800; total time=   1.5s\n",
      "[CV] END bootstrap=True, max_depth=60, max_features=auto, min_samples_leaf=1, min_samples_split=10, n_estimators=800; total time=   1.8s\n",
      "[CV] END bootstrap=False, max_depth=70, max_features=sqrt, min_samples_leaf=4, min_samples_split=2, n_estimators=400; total time=   0.8s\n",
      "[CV] END bootstrap=False, max_depth=70, max_features=auto, min_samples_leaf=4, min_samples_split=5, n_estimators=600; total time=   1.3s\n",
      "[CV] END bootstrap=True, max_depth=100, max_features=sqrt, min_samples_leaf=4, min_samples_split=5, n_estimators=700; total time=   1.3s\n",
      "[CV] END bootstrap=True, max_depth=90, max_features=auto, min_samples_leaf=4, min_samples_split=5, n_estimators=100; total time=   0.2s\n",
      "[CV] END bootstrap=True, max_depth=90, max_features=auto, min_samples_leaf=4, min_samples_split=5, n_estimators=100; total time=   0.2s\n",
      "[CV] END bootstrap=False, max_depth=20, max_features=sqrt, min_samples_leaf=2, min_samples_split=2, n_estimators=500; total time=   0.9s\n",
      "[CV] END bootstrap=False, max_depth=70, max_features=auto, min_samples_leaf=4, min_samples_split=10, n_estimators=300; total time=   0.7s\n",
      "[CV] END bootstrap=True, max_depth=90, max_features=sqrt, min_samples_leaf=4, min_samples_split=5, n_estimators=200; total time=   0.3s\n",
      "[CV] END bootstrap=False, max_depth=100, max_features=sqrt, min_samples_leaf=4, min_samples_split=2, n_estimators=600; total time=   0.9s\n",
      "[CV] END bootstrap=False, max_depth=100, max_features=sqrt, min_samples_leaf=4, min_samples_split=2, n_estimators=600; total time=   0.8s\n",
      "[CV] END bootstrap=False, max_depth=100, max_features=sqrt, min_samples_leaf=1, min_samples_split=2, n_estimators=600; total time=   0.9s\n",
      "[CV] END bootstrap=True, max_depth=10, max_features=sqrt, min_samples_leaf=2, min_samples_split=5, n_estimators=500; total time=   0.9s\n",
      "[CV] END bootstrap=False, max_depth=50, max_features=sqrt, min_samples_leaf=4, min_samples_split=2, n_estimators=800; total time=   1.2s\n",
      "[CV] END bootstrap=False, max_depth=30, max_features=sqrt, min_samples_leaf=4, min_samples_split=2, n_estimators=700; total time=   1.1s\n",
      "[CV] END bootstrap=True, max_depth=60, max_features=auto, min_samples_leaf=1, min_samples_split=10, n_estimators=1000; total time=   2.1s\n",
      "[CV] END bootstrap=True, max_depth=20, max_features=sqrt, min_samples_leaf=2, min_samples_split=5, n_estimators=600; total time=   1.1s\n",
      "[CV] END bootstrap=False, max_depth=70, max_features=auto, min_samples_leaf=1, min_samples_split=2, n_estimators=800; total time=   1.7s\n",
      "[CV] END bootstrap=True, max_depth=90, max_features=auto, min_samples_leaf=4, min_samples_split=2, n_estimators=1000; total time=   2.1s\n",
      "[CV] END bootstrap=True, max_depth=50, max_features=sqrt, min_samples_leaf=4, min_samples_split=2, n_estimators=1000; total time=   1.7s\n",
      "[CV] END bootstrap=True, max_depth=60, max_features=sqrt, min_samples_leaf=4, min_samples_split=2, n_estimators=800; total time=   1.4s\n",
      "[CV] END bootstrap=True, max_depth=70, max_features=sqrt, min_samples_leaf=4, min_samples_split=2, n_estimators=200; total time=   0.4s\n",
      "[CV] END bootstrap=True, max_depth=30, max_features=auto, min_samples_leaf=4, min_samples_split=5, n_estimators=1000; total time=   2.2s\n",
      "[CV] END bootstrap=True, max_depth=40, max_features=sqrt, min_samples_leaf=2, min_samples_split=5, n_estimators=100; total time=   0.2s\n",
      "[CV] END bootstrap=True, max_depth=40, max_features=sqrt, min_samples_leaf=2, min_samples_split=5, n_estimators=100; total time=   0.2s\n",
      "[CV] END bootstrap=False, max_depth=60, max_features=sqrt, min_samples_leaf=2, min_samples_split=10, n_estimators=400; total time=   0.8s\n",
      "[CV] END bootstrap=True, max_depth=50, max_features=sqrt, min_samples_leaf=1, min_samples_split=2, n_estimators=200; total time=   0.4s\n",
      "[CV] END bootstrap=True, max_depth=50, max_features=sqrt, min_samples_leaf=1, min_samples_split=2, n_estimators=200; total time=   0.4s\n",
      "[CV] END bootstrap=False, max_depth=40, max_features=auto, min_samples_leaf=1, min_samples_split=5, n_estimators=800; total time=   1.7s\n",
      "[CV] END bootstrap=True, max_depth=10, max_features=sqrt, min_samples_leaf=4, min_samples_split=10, n_estimators=1000; total time=   1.7s\n",
      "[CV] END bootstrap=False, max_depth=40, max_features=sqrt, min_samples_leaf=1, min_samples_split=10, n_estimators=700; total time=   1.3s\n",
      "[CV] END bootstrap=True, max_depth=60, max_features=sqrt, min_samples_leaf=1, min_samples_split=2, n_estimators=1000; total time=   1.9s\n",
      "[CV] END bootstrap=True, max_depth=50, max_features=sqrt, min_samples_leaf=1, min_samples_split=2, n_estimators=800; total time=   1.5s\n",
      "[CV] END bootstrap=False, max_depth=50, max_features=sqrt, min_samples_leaf=4, min_samples_split=10, n_estimators=700; total time=   1.2s\n",
      "[CV] END bootstrap=False, max_depth=70, max_features=sqrt, min_samples_leaf=4, min_samples_split=2, n_estimators=400; total time=   0.8s\n",
      "[CV] END bootstrap=False, max_depth=70, max_features=auto, min_samples_leaf=4, min_samples_split=5, n_estimators=600; total time=   1.3s\n",
      "[CV] END bootstrap=True, max_depth=100, max_features=sqrt, min_samples_leaf=4, min_samples_split=5, n_estimators=700; total time=   1.3s\n",
      "[CV] END bootstrap=True, max_depth=90, max_features=auto, min_samples_leaf=4, min_samples_split=5, n_estimators=100; total time=   0.2s\n",
      "[CV] END bootstrap=False, max_depth=20, max_features=sqrt, min_samples_leaf=2, min_samples_split=2, n_estimators=500; total time=   0.9s\n",
      "[CV] END bootstrap=False, max_depth=20, max_features=sqrt, min_samples_leaf=2, min_samples_split=2, n_estimators=500; total time=   0.9s\n",
      "[CV] END C=200, degree=2, epsilon=0.1, gamma=1, kernel=linear; total time=   0.8s\n",
      "[CV] END bootstrap=True, max_depth=90, max_features=sqrt, min_samples_leaf=4, min_samples_split=5, n_estimators=200; total time=   0.3s\n",
      "[CV] END bootstrap=False, max_depth=100, max_features=sqrt, min_samples_leaf=2, min_samples_split=2, n_estimators=1000; total time=   1.5s\n",
      "[CV] END bootstrap=False, max_depth=100, max_features=sqrt, min_samples_leaf=1, min_samples_split=2, n_estimators=600; total time=   0.9s\n",
      "[CV] END bootstrap=True, max_depth=90, max_features=auto, min_samples_leaf=1, min_samples_split=10, n_estimators=600; total time=   1.3s\n",
      "[CV] END bootstrap=False, max_depth=50, max_features=sqrt, min_samples_leaf=4, min_samples_split=2, n_estimators=800; total time=   1.2s\n",
      "[CV] END bootstrap=True, max_depth=10, max_features=auto, min_samples_leaf=1, min_samples_split=10, n_estimators=700; total time=   1.5s\n",
      "[CV] END bootstrap=True, max_depth=60, max_features=auto, min_samples_leaf=1, min_samples_split=10, n_estimators=1000; total time=   2.0s\n",
      "[CV] END bootstrap=False, max_depth=60, max_features=auto, min_samples_leaf=1, min_samples_split=2, n_estimators=800; total time=   1.8s\n",
      "[CV] END bootstrap=True, max_depth=90, max_features=auto, min_samples_leaf=4, min_samples_split=2, n_estimators=1000; total time=   2.1s\n",
      "[CV] END bootstrap=False, max_depth=10, max_features=sqrt, min_samples_leaf=4, min_samples_split=5, n_estimators=600; total time=   0.9s\n",
      "[CV] END bootstrap=False, max_depth=10, max_features=sqrt, min_samples_leaf=2, min_samples_split=2, n_estimators=500; total time=   0.8s\n",
      "[CV] END bootstrap=False, max_depth=10, max_features=sqrt, min_samples_leaf=2, min_samples_split=2, n_estimators=500; total time=   0.8s\n",
      "[CV] END bootstrap=False, max_depth=40, max_features=auto, min_samples_leaf=2, min_samples_split=2, n_estimators=800; total time=   1.8s\n",
      "[CV] END bootstrap=True, max_depth=30, max_features=auto, min_samples_leaf=2, min_samples_split=10, n_estimators=600; total time=   1.3s\n",
      "[CV] END bootstrap=True, max_depth=30, max_features=auto, min_samples_leaf=2, min_samples_split=10, n_estimators=600; total time=   1.3s\n",
      "[CV] END bootstrap=False, max_depth=70, max_features=sqrt, min_samples_leaf=2, min_samples_split=5, n_estimators=1000; total time=   1.8s\n",
      "[CV] END bootstrap=False, max_depth=40, max_features=auto, min_samples_leaf=1, min_samples_split=5, n_estimators=800; total time=   1.7s\n",
      "[CV] END bootstrap=False, max_depth=60, max_features=auto, min_samples_leaf=4, min_samples_split=2, n_estimators=300; total time=   0.7s\n",
      "[CV] END bootstrap=False, max_depth=70, max_features=sqrt, min_samples_leaf=1, min_samples_split=5, n_estimators=900; total time=   1.7s\n",
      "[CV] END bootstrap=True, max_depth=70, max_features=sqrt, min_samples_leaf=2, min_samples_split=10, n_estimators=700; total time=   1.3s\n",
      "[CV] END bootstrap=True, max_depth=50, max_features=sqrt, min_samples_leaf=1, min_samples_split=2, n_estimators=800; total time=   1.5s\n",
      "[CV] END bootstrap=True, max_depth=60, max_features=auto, min_samples_leaf=1, min_samples_split=10, n_estimators=800; total time=   1.9s\n",
      "[CV] END bootstrap=False, max_depth=70, max_features=sqrt, min_samples_leaf=4, min_samples_split=2, n_estimators=400; total time=   0.8s\n",
      "[CV] END bootstrap=True, max_depth=10, max_features=sqrt, min_samples_leaf=2, min_samples_split=2, n_estimators=100; total time=   0.2s\n",
      "[CV] END bootstrap=True, max_depth=10, max_features=sqrt, min_samples_leaf=2, min_samples_split=2, n_estimators=100; total time=   0.2s\n",
      "[CV] END bootstrap=True, max_depth=100, max_features=sqrt, min_samples_leaf=4, min_samples_split=5, n_estimators=700; total time=   1.3s\n",
      "[CV] END bootstrap=True, max_depth=80, max_features=sqrt, min_samples_leaf=2, min_samples_split=10, n_estimators=400; total time=   0.7s\n",
      "[CV] END bootstrap=True, max_depth=90, max_features=auto, min_samples_leaf=4, min_samples_split=5, n_estimators=100; total time=   0.2s\n",
      "[CV] END bootstrap=True, max_depth=90, max_features=auto, min_samples_leaf=4, min_samples_split=5, n_estimators=100; total time=   0.2s\n",
      "[CV] END bootstrap=False, max_depth=20, max_features=sqrt, min_samples_leaf=2, min_samples_split=2, n_estimators=500; total time=   0.9s\n",
      "[CV] END bootstrap=False, max_depth=70, max_features=auto, min_samples_leaf=4, min_samples_split=10, n_estimators=300; total time=   0.6s\n",
      "[CV] END bootstrap=True, max_depth=80, max_features=auto, min_samples_leaf=4, min_samples_split=10, n_estimators=100; total time=   0.2s\n",
      "[CV] END bootstrap=False, max_depth=100, max_features=sqrt, min_samples_leaf=2, min_samples_split=2, n_estimators=1000; total time=   1.6s\n",
      "[CV] END bootstrap=True, max_depth=20, max_features=auto, min_samples_leaf=2, min_samples_split=2, n_estimators=200; total time=   0.4s\n",
      "[CV] END bootstrap=False, max_depth=100, max_features=sqrt, min_samples_leaf=1, min_samples_split=2, n_estimators=600; total time=   1.0s\n",
      "[CV] END bootstrap=True, max_depth=10, max_features=sqrt, min_samples_leaf=2, min_samples_split=5, n_estimators=500; total time=   0.8s\n",
      "[CV] END bootstrap=False, max_depth=50, max_features=sqrt, min_samples_leaf=4, min_samples_split=2, n_estimators=800; total time=   1.2s\n",
      "[CV] END bootstrap=True, max_depth=10, max_features=auto, min_samples_leaf=1, min_samples_split=10, n_estimators=700; total time=   1.4s\n",
      "[CV] END bootstrap=True, max_depth=60, max_features=auto, min_samples_leaf=1, min_samples_split=10, n_estimators=1000; total time=   2.0s\n",
      "[CV] END bootstrap=False, max_depth=60, max_features=auto, min_samples_leaf=1, min_samples_split=2, n_estimators=800; total time=   1.8s\n",
      "[CV] END bootstrap=False, max_depth=70, max_features=auto, min_samples_leaf=1, min_samples_split=2, n_estimators=800; total time=   1.8s\n",
      "[CV] END bootstrap=False, max_depth=10, max_features=sqrt, min_samples_leaf=4, min_samples_split=5, n_estimators=600; total time=   0.9s\n",
      "[CV] END bootstrap=True, max_depth=50, max_features=sqrt, min_samples_leaf=4, min_samples_split=2, n_estimators=1000; total time=   1.7s\n",
      "[CV] END bootstrap=False, max_depth=40, max_features=auto, min_samples_leaf=2, min_samples_split=2, n_estimators=800; total time=   1.7s\n",
      "[CV] END bootstrap=True, max_depth=70, max_features=sqrt, min_samples_leaf=4, min_samples_split=2, n_estimators=200; total time=   0.4s\n",
      "[CV] END bootstrap=True, max_depth=30, max_features=auto, min_samples_leaf=4, min_samples_split=5, n_estimators=1000; total time=   2.2s\n",
      "[CV] END bootstrap=False, max_depth=60, max_features=sqrt, min_samples_leaf=2, min_samples_split=10, n_estimators=400; total time=   0.7s\n",
      "[CV] END bootstrap=False, max_depth=70, max_features=sqrt, min_samples_leaf=2, min_samples_split=5, n_estimators=1000; total time=   1.8s\n",
      "[CV] END bootstrap=True, max_depth=10, max_features=sqrt, min_samples_leaf=4, min_samples_split=10, n_estimators=1000; total time=   1.7s\n",
      "[CV] END bootstrap=False, max_depth=70, max_features=sqrt, min_samples_leaf=1, min_samples_split=5, n_estimators=900; total time=   1.6s\n",
      "[CV] END bootstrap=False, max_depth=40, max_features=sqrt, min_samples_leaf=1, min_samples_split=10, n_estimators=700; total time=   1.2s\n",
      "[CV] END bootstrap=True, max_depth=60, max_features=sqrt, min_samples_leaf=1, min_samples_split=2, n_estimators=1000; total time=   1.9s\n",
      "[CV] END bootstrap=True, max_depth=50, max_features=sqrt, min_samples_leaf=1, min_samples_split=2, n_estimators=800; total time=   1.5s\n",
      "[CV] END bootstrap=False, max_depth=50, max_features=sqrt, min_samples_leaf=4, min_samples_split=10, n_estimators=700; total time=   1.3s\n",
      "[CV] END bootstrap=False, max_depth=70, max_features=auto, min_samples_leaf=4, min_samples_split=5, n_estimators=600; total time=   1.3s\n",
      "[CV] END bootstrap=True, max_depth=80, max_features=sqrt, min_samples_leaf=2, min_samples_split=10, n_estimators=400; total time=   0.7s\n",
      "[CV] END bootstrap=True, max_depth=30, max_features=auto, min_samples_leaf=1, min_samples_split=10, n_estimators=800; total time=   1.8s\n",
      "[CV] END bootstrap=False, max_depth=70, max_features=auto, min_samples_leaf=4, min_samples_split=10, n_estimators=300; total time=   0.6s\n",
      "[CV] END bootstrap=True, max_depth=80, max_features=auto, min_samples_leaf=4, min_samples_split=10, n_estimators=100; total time=   0.2s\n",
      "[CV] END bootstrap=False, max_depth=100, max_features=sqrt, min_samples_leaf=2, min_samples_split=2, n_estimators=1000; total time=   1.6s\n",
      "[CV] END bootstrap=True, max_depth=20, max_features=auto, min_samples_leaf=2, min_samples_split=2, n_estimators=200; total time=   0.4s\n",
      "[CV] END bootstrap=True, max_depth=90, max_features=auto, min_samples_leaf=1, min_samples_split=10, n_estimators=600; total time=   1.2s\n",
      "[CV] END bootstrap=True, max_depth=10, max_features=sqrt, min_samples_leaf=2, min_samples_split=5, n_estimators=500; total time=   0.8s\n",
      "[CV] END bootstrap=True, max_depth=100, max_features=sqrt, min_samples_leaf=2, min_samples_split=2, n_estimators=300; total time=   0.5s\n",
      "[CV] END bootstrap=True, max_depth=100, max_features=sqrt, min_samples_leaf=2, min_samples_split=2, n_estimators=300; total time=   0.5s\n",
      "[CV] END bootstrap=True, max_depth=10, max_features=auto, min_samples_leaf=1, min_samples_split=10, n_estimators=700; total time=   1.5s\n",
      "[CV] END bootstrap=True, max_depth=10, max_features=auto, min_samples_leaf=2, min_samples_split=2, n_estimators=300; total time=   0.6s\n",
      "[CV] END bootstrap=True, max_depth=10, max_features=auto, min_samples_leaf=2, min_samples_split=2, n_estimators=300; total time=   0.6s\n",
      "[CV] END bootstrap=True, max_depth=20, max_features=sqrt, min_samples_leaf=2, min_samples_split=5, n_estimators=600; total time=   1.1s\n",
      "[CV] END bootstrap=False, max_depth=60, max_features=auto, min_samples_leaf=1, min_samples_split=2, n_estimators=800; total time=   1.8s\n",
      "[CV] END bootstrap=True, max_depth=90, max_features=auto, min_samples_leaf=4, min_samples_split=2, n_estimators=1000; total time=   2.1s\n",
      "[CV] END bootstrap=True, max_depth=50, max_features=sqrt, min_samples_leaf=4, min_samples_split=2, n_estimators=1000; total time=   1.7s\n",
      "[CV] END bootstrap=True, max_depth=60, max_features=sqrt, min_samples_leaf=4, min_samples_split=2, n_estimators=800; total time=   1.4s\n",
      "[CV] END bootstrap=False, max_depth=40, max_features=auto, min_samples_leaf=2, min_samples_split=2, n_estimators=800; total time=   1.8s\n",
      "[CV] END bootstrap=True, max_depth=30, max_features=auto, min_samples_leaf=2, min_samples_split=10, n_estimators=600; total time=   1.3s\n",
      "[CV] END bootstrap=False, max_depth=60, max_features=sqrt, min_samples_leaf=2, min_samples_split=10, n_estimators=400; total time=   0.7s\n",
      "[CV] END bootstrap=False, max_depth=70, max_features=sqrt, min_samples_leaf=2, min_samples_split=5, n_estimators=1000; total time=   1.8s\n",
      "[CV] END bootstrap=True, max_depth=10, max_features=sqrt, min_samples_leaf=4, min_samples_split=10, n_estimators=1000; total time=   1.7s\n",
      "[CV] END bootstrap=False, max_depth=60, max_features=auto, min_samples_leaf=4, min_samples_split=2, n_estimators=300; total time=   0.7s\n",
      "[CV] END bootstrap=False, max_depth=40, max_features=sqrt, min_samples_leaf=1, min_samples_split=10, n_estimators=700; total time=   1.3s\n",
      "[CV] END bootstrap=True, max_depth=70, max_features=sqrt, min_samples_leaf=2, min_samples_split=10, n_estimators=700; total time=   1.3s\n",
      "[CV] END bootstrap=True, max_depth=60, max_features=sqrt, min_samples_leaf=1, min_samples_split=2, n_estimators=1000; total time=   1.9s\n",
      "[CV] END bootstrap=False, max_depth=50, max_features=sqrt, min_samples_leaf=4, min_samples_split=10, n_estimators=700; total time=   1.1s\n",
      "[CV] END bootstrap=False, max_depth=50, max_features=sqrt, min_samples_leaf=4, min_samples_split=10, n_estimators=700; total time=   1.3s\n",
      "[CV] END bootstrap=False, max_depth=70, max_features=auto, min_samples_leaf=4, min_samples_split=5, n_estimators=600; total time=   1.3s\n",
      "[CV] END bootstrap=True, max_depth=80, max_features=sqrt, min_samples_leaf=2, min_samples_split=10, n_estimators=400; total time=   0.7s\n",
      "[CV] END bootstrap=True, max_depth=30, max_features=auto, min_samples_leaf=1, min_samples_split=10, n_estimators=800; total time=   1.8s\n",
      "[CV] END bootstrap=False, max_depth=70, max_features=auto, min_samples_leaf=4, min_samples_split=10, n_estimators=300; total time=   0.6s\n",
      "[CV] END bootstrap=True, max_depth=90, max_features=sqrt, min_samples_leaf=4, min_samples_split=5, n_estimators=200; total time=   0.3s\n",
      "[CV] END bootstrap=False, max_depth=100, max_features=sqrt, min_samples_leaf=2, min_samples_split=2, n_estimators=1000; total time=   1.6s\n",
      "[CV] END bootstrap=False, max_depth=100, max_features=sqrt, min_samples_leaf=1, min_samples_split=2, n_estimators=600; total time=   1.0s\n",
      "[CV] END bootstrap=True, max_depth=90, max_features=auto, min_samples_leaf=1, min_samples_split=10, n_estimators=600; total time=   1.2s\n",
      "[CV] END bootstrap=True, max_depth=100, max_features=sqrt, min_samples_leaf=2, min_samples_split=2, n_estimators=300; total time=   0.5s\n",
      "[CV] END bootstrap=True, max_depth=100, max_features=sqrt, min_samples_leaf=2, min_samples_split=2, n_estimators=300; total time=   0.5s\n",
      "[CV] END bootstrap=False, max_depth=30, max_features=sqrt, min_samples_leaf=4, min_samples_split=2, n_estimators=700; total time=   1.0s\n",
      "[CV] END bootstrap=True, max_depth=60, max_features=auto, min_samples_leaf=1, min_samples_split=10, n_estimators=1000; total time=   2.0s\n",
      "[CV] END bootstrap=True, max_depth=20, max_features=sqrt, min_samples_leaf=2, min_samples_split=5, n_estimators=600; total time=   1.2s\n",
      "[CV] END bootstrap=False, max_depth=70, max_features=auto, min_samples_leaf=1, min_samples_split=2, n_estimators=800; total time=   1.7s\n",
      "[CV] END bootstrap=True, max_depth=90, max_features=auto, min_samples_leaf=4, min_samples_split=2, n_estimators=1000; total time=   2.1s\n",
      "[CV] END bootstrap=False, max_depth=10, max_features=sqrt, min_samples_leaf=2, min_samples_split=2, n_estimators=500; total time=   0.8s\n",
      "[CV] END bootstrap=False, max_depth=10, max_features=sqrt, min_samples_leaf=2, min_samples_split=2, n_estimators=500; total time=   0.8s\n",
      "[CV] END bootstrap=False, max_depth=40, max_features=auto, min_samples_leaf=2, min_samples_split=2, n_estimators=800; total time=   1.8s\n",
      "[CV] END bootstrap=True, max_depth=30, max_features=auto, min_samples_leaf=4, min_samples_split=5, n_estimators=1000; total time=   2.2s\n",
      "[CV] END bootstrap=True, max_depth=40, max_features=sqrt, min_samples_leaf=2, min_samples_split=5, n_estimators=100; total time=   0.2s\n",
      "[CV] END bootstrap=True, max_depth=40, max_features=sqrt, min_samples_leaf=2, min_samples_split=5, n_estimators=100; total time=   0.2s\n",
      "[CV] END bootstrap=False, max_depth=60, max_features=sqrt, min_samples_leaf=2, min_samples_split=10, n_estimators=400; total time=   0.8s\n",
      "[CV] END bootstrap=True, max_depth=50, max_features=sqrt, min_samples_leaf=1, min_samples_split=2, n_estimators=200; total time=   0.4s\n",
      "[CV] END bootstrap=True, max_depth=50, max_features=sqrt, min_samples_leaf=1, min_samples_split=2, n_estimators=200; total time=   0.4s\n",
      "[CV] END bootstrap=False, max_depth=40, max_features=auto, min_samples_leaf=1, min_samples_split=5, n_estimators=800; total time=   1.7s\n",
      "[CV] END bootstrap=False, max_depth=60, max_features=auto, min_samples_leaf=4, min_samples_split=2, n_estimators=300; total time=   0.6s\n",
      "[CV] END bootstrap=False, max_depth=60, max_features=auto, min_samples_leaf=4, min_samples_split=2, n_estimators=300; total time=   0.6s\n",
      "[CV] END bootstrap=False, max_depth=70, max_features=sqrt, min_samples_leaf=1, min_samples_split=5, n_estimators=900; total time=   1.7s\n",
      "[CV] END bootstrap=True, max_depth=70, max_features=sqrt, min_samples_leaf=2, min_samples_split=10, n_estimators=700; total time=   1.3s\n",
      "[CV] END bootstrap=True, max_depth=50, max_features=sqrt, min_samples_leaf=1, min_samples_split=2, n_estimators=800; total time=   1.5s\n",
      "[CV] END bootstrap=True, max_depth=60, max_features=auto, min_samples_leaf=1, min_samples_split=10, n_estimators=800; total time=   1.8s\n",
      "[CV] END bootstrap=False, max_depth=70, max_features=sqrt, min_samples_leaf=4, min_samples_split=2, n_estimators=400; total time=   0.8s\n",
      "[CV] END bootstrap=False, max_depth=70, max_features=auto, min_samples_leaf=4, min_samples_split=5, n_estimators=600; total time=   1.4s\n",
      "[CV] END bootstrap=True, max_depth=80, max_features=sqrt, min_samples_leaf=2, min_samples_split=10, n_estimators=400; total time=   0.8s\n",
      "[CV] END bootstrap=True, max_depth=30, max_features=auto, min_samples_leaf=1, min_samples_split=10, n_estimators=800; total time=   1.8s\n",
      "[CV] END bootstrap=False, max_depth=70, max_features=auto, min_samples_leaf=4, min_samples_split=10, n_estimators=300; total time=   0.6s\n",
      "[CV] END C=200, degree=2, epsilon=0.1, gamma=1, kernel=linear; total time=   1.0s\n",
      "[CV] END C=200, degree=2, epsilon=0.1, gamma=1, kernel=linear; total time=   0.8s\n",
      "[CV] END C=200, degree=2, epsilon=0.1, gamma=1, kernel=linear; total time=   0.8s\n",
      "[CV] END C=200, degree=2, epsilon=0.1, gamma=1, kernel=linear; total time=   0.9s\n",
      "[CV] END C=200, degree=2, epsilon=0.1, gamma=0.1, kernel=linear; total time=   0.8s\n",
      "[CV] END C=200, degree=2, epsilon=0.1, gamma=0.1, kernel=linear; total time=   0.9s\n",
      "[CV] END C=200, degree=2, epsilon=0.1, gamma=0.1, kernel=linear; total time=   0.8s\n",
      "[CV] END C=200, degree=2, epsilon=0.1, gamma=0.1, kernel=linear; total time=   0.8s\n",
      "[CV] END C=200, degree=2, epsilon=0.1, gamma=0.1, kernel=linear; total time=   0.9s\n",
      "[CV] END C=200, degree=2, epsilon=0.1, gamma=0.01, kernel=linear; total time=   0.8s\n",
      "[CV] END C=200, degree=2, epsilon=0.1, gamma=0.01, kernel=linear; total time=   1.0s\n",
      "[CV] END C=200, degree=2, epsilon=0.1, gamma=0.01, kernel=linear; total time=   0.8s\n",
      "[CV] END C=200, degree=2, epsilon=0.1, gamma=0.01, kernel=linear; total time=   0.8s\n",
      "[CV] END C=200, degree=2, epsilon=0.1, gamma=0.01, kernel=linear; total time=   0.9s\n",
      "[CV] END C=200, degree=2, epsilon=0.5, gamma=1, kernel=linear; total time=   0.8s\n",
      "[CV] END C=200, degree=2, epsilon=0.5, gamma=1, kernel=linear; total time=   0.8s\n",
      "[CV] END C=200, degree=2, epsilon=0.5, gamma=1, kernel=linear; total time=   0.9s\n",
      "[CV] END C=200, degree=2, epsilon=0.5, gamma=1, kernel=linear; total time=   0.9s\n",
      "[CV] END C=200, degree=2, epsilon=0.5, gamma=1, kernel=linear; total time=   0.8s\n",
      "[CV] END C=200, degree=2, epsilon=0.5, gamma=0.1, kernel=linear; total time=   0.8s\n",
      "[CV] END C=200, degree=2, epsilon=0.5, gamma=0.1, kernel=linear; total time=   1.0s\n",
      "[CV] END C=200, degree=2, epsilon=0.5, gamma=0.1, kernel=linear; total time=   1.0s\n",
      "[CV] END C=200, degree=2, epsilon=0.5, gamma=0.1, kernel=linear; total time=   0.9s\n",
      "[CV] END C=200, degree=2, epsilon=0.5, gamma=0.1, kernel=linear; total time=   0.8s\n",
      "[CV] END C=200, degree=2, epsilon=0.5, gamma=0.01, kernel=linear; total time=   0.8s\n",
      "[CV] END C=200, degree=2, epsilon=0.5, gamma=0.01, kernel=linear; total time=   0.8s\n",
      "[CV] END C=200, degree=2, epsilon=0.5, gamma=0.01, kernel=linear; total time=   0.9s\n",
      "[CV] END C=200, degree=2, epsilon=0.5, gamma=0.01, kernel=linear; total time=   0.9s\n",
      "[CV] END C=200, degree=2, epsilon=0.5, gamma=0.01, kernel=linear; total time=   0.8s\n",
      "[CV] END .C=200, degree=2, epsilon=1, gamma=1, kernel=linear; total time=   1.0s\n",
      "[CV] END .C=200, degree=2, epsilon=1, gamma=1, kernel=linear; total time=   0.9s\n",
      "[CV] END .C=200, degree=2, epsilon=1, gamma=1, kernel=linear; total time=   1.2s\n",
      "[CV] END .C=200, degree=2, epsilon=1, gamma=1, kernel=linear; total time=   1.0s\n",
      "[CV] END .C=200, degree=2, epsilon=1, gamma=1, kernel=linear; total time=   0.9s\n",
      "[CV] END C=200, degree=2, epsilon=1, gamma=0.1, kernel=linear; total time=   1.0s\n",
      "[CV] END C=200, degree=2, epsilon=1, gamma=0.1, kernel=linear; total time=   0.9s\n",
      "[CV] END C=200, degree=2, epsilon=1, gamma=0.1, kernel=linear; total time=   1.2s\n",
      "[CV] END C=200, degree=2, epsilon=1, gamma=0.1, kernel=linear; total time=   1.0s\n",
      "[CV] END C=200, degree=2, epsilon=1, gamma=0.1, kernel=linear; total time=   0.9s\n",
      "[CV] END C=200, degree=2, epsilon=1, gamma=0.01, kernel=linear; total time=   1.0s\n",
      "[CV] END C=200, degree=2, epsilon=1, gamma=0.01, kernel=linear; total time=   0.9s\n",
      "[CV] END C=200, degree=2, epsilon=1, gamma=0.01, kernel=linear; total time=   1.2s\n",
      "[CV] END C=200, degree=2, epsilon=1, gamma=0.01, kernel=linear; total time=   1.0s\n",
      "[CV] END C=200, degree=2, epsilon=1, gamma=0.01, kernel=linear; total time=   1.0s\n",
      "[CV] END C=200, degree=3, epsilon=0.1, gamma=1, kernel=linear; total time=   0.8s\n",
      "[CV] END C=200, degree=3, epsilon=0.1, gamma=1, kernel=linear; total time=   1.1s\n",
      "[CV] END C=200, degree=3, epsilon=0.1, gamma=1, kernel=linear; total time=   0.9s\n",
      "[CV] END C=200, degree=3, epsilon=0.1, gamma=1, kernel=linear; total time=   0.8s\n",
      "[CV] END C=200, degree=3, epsilon=0.1, gamma=1, kernel=linear; total time=   1.0s\n",
      "[CV] END C=200, degree=3, epsilon=0.1, gamma=0.1, kernel=linear; total time=   0.8s\n",
      "[CV] END C=200, degree=3, epsilon=0.1, gamma=0.1, kernel=linear; total time=   0.9s\n",
      "[CV] END C=200, degree=3, epsilon=0.1, gamma=0.1, kernel=linear; total time=   0.8s\n",
      "[CV] END C=200, degree=3, epsilon=0.1, gamma=0.1, kernel=linear; total time=   0.8s\n",
      "[CV] END C=200, degree=3, epsilon=0.1, gamma=0.1, kernel=linear; total time=   0.9s\n",
      "[CV] END C=200, degree=3, epsilon=0.1, gamma=0.01, kernel=linear; total time=   0.8s\n",
      "[CV] END C=200, degree=3, epsilon=0.1, gamma=0.01, kernel=linear; total time=   0.9s\n",
      "[CV] END C=200, degree=3, epsilon=0.1, gamma=0.01, kernel=linear; total time=   0.8s\n",
      "[CV] END C=200, degree=3, epsilon=0.1, gamma=0.01, kernel=linear; total time=   0.8s\n",
      "[CV] END C=200, degree=3, epsilon=0.1, gamma=0.01, kernel=linear; total time=   0.9s\n",
      "[CV] END C=200, degree=3, epsilon=0.5, gamma=1, kernel=linear; total time=   0.8s\n",
      "[CV] END C=200, degree=3, epsilon=0.5, gamma=1, kernel=linear; total time=   0.8s\n",
      "[CV] END C=200, degree=3, epsilon=0.5, gamma=1, kernel=linear; total time=   1.0s\n",
      "[CV] END C=200, degree=3, epsilon=0.5, gamma=1, kernel=linear; total time=   1.0s\n",
      "[CV] END C=200, degree=3, epsilon=0.5, gamma=1, kernel=linear; total time=   0.9s\n",
      "[CV] END C=200, degree=3, epsilon=0.5, gamma=0.1, kernel=linear; total time=   0.8s\n",
      "[CV] END C=200, degree=3, epsilon=0.5, gamma=0.1, kernel=linear; total time=   0.8s\n",
      "[CV] END C=200, degree=3, epsilon=0.5, gamma=0.1, kernel=linear; total time=   0.9s\n",
      "[CV] END C=200, degree=3, epsilon=0.5, gamma=0.1, kernel=linear; total time=   0.9s\n",
      "[CV] END C=200, degree=3, epsilon=0.5, gamma=0.1, kernel=linear; total time=   0.8s\n",
      "[CV] END C=200, degree=3, epsilon=0.5, gamma=0.01, kernel=linear; total time=   0.8s\n",
      "[CV] END C=200, degree=3, epsilon=0.5, gamma=0.01, kernel=linear; total time=   0.8s\n",
      "[CV] END C=200, degree=3, epsilon=0.5, gamma=0.01, kernel=linear; total time=   0.9s\n",
      "[CV] END C=200, degree=3, epsilon=0.5, gamma=0.01, kernel=linear; total time=   0.9s\n",
      "[CV] END C=200, degree=3, epsilon=0.5, gamma=0.01, kernel=linear; total time=   0.8s\n",
      "[CV] END .C=200, degree=3, epsilon=1, gamma=1, kernel=linear; total time=   1.0s\n",
      "[CV] END .C=200, degree=3, epsilon=1, gamma=1, kernel=linear; total time=   1.0s\n",
      "[CV] END .C=200, degree=3, epsilon=1, gamma=1, kernel=linear; total time=   1.2s\n",
      "[CV] END .C=200, degree=3, epsilon=1, gamma=1, kernel=linear; total time=   1.1s\n",
      "[CV] END .C=200, degree=3, epsilon=1, gamma=1, kernel=linear; total time=   0.9s\n",
      "[CV] END C=200, degree=3, epsilon=1, gamma=0.1, kernel=linear; total time=   1.0s\n",
      "[CV] END C=200, degree=3, epsilon=1, gamma=0.1, kernel=linear; total time=   0.9s\n",
      "[CV] END C=200, degree=3, epsilon=1, gamma=0.1, kernel=linear; total time=   1.3s\n",
      "[CV] END C=200, degree=3, epsilon=1, gamma=0.1, kernel=linear; total time=   1.4s\n",
      "[CV] END C=200, degree=3, epsilon=1, gamma=0.1, kernel=linear; total time=   0.9s\n",
      "[CV] END C=200, degree=3, epsilon=1, gamma=0.01, kernel=linear; total time=   1.1s\n",
      "[CV] END C=200, degree=3, epsilon=1, gamma=0.01, kernel=linear; total time=   0.9s\n",
      "[CV] END C=200, degree=3, epsilon=1, gamma=0.01, kernel=linear; total time=   1.2s\n",
      "[CV] END C=200, degree=3, epsilon=1, gamma=0.01, kernel=linear; total time=   1.0s\n",
      "[CV] END C=200, degree=3, epsilon=1, gamma=0.01, kernel=linear; total time=   0.9s\n",
      "[CV] END C=200, degree=4, epsilon=0.1, gamma=1, kernel=linear; total time=   0.8s\n",
      "[CV] END C=200, degree=4, epsilon=0.1, gamma=1, kernel=linear; total time=   1.0s\n",
      "[CV] END C=200, degree=4, epsilon=0.1, gamma=1, kernel=linear; total time=   0.8s\n",
      "[CV] END C=200, degree=4, epsilon=0.1, gamma=1, kernel=linear; total time=   0.8s\n",
      "[CV] END C=200, degree=4, epsilon=0.1, gamma=1, kernel=linear; total time=   0.9s\n",
      "[CV] END C=200, degree=4, epsilon=0.1, gamma=0.1, kernel=linear; total time=   0.8s\n",
      "[CV] END C=200, degree=4, epsilon=0.1, gamma=0.1, kernel=linear; total time=   1.0s\n",
      "[CV] END C=200, degree=4, epsilon=0.1, gamma=0.1, kernel=linear; total time=   0.8s\n",
      "[CV] END C=200, degree=4, epsilon=0.1, gamma=0.1, kernel=linear; total time=   0.8s\n",
      "[CV] END C=200, degree=4, epsilon=0.1, gamma=0.1, kernel=linear; total time=   0.9s\n",
      "[CV] END C=200, degree=4, epsilon=0.1, gamma=0.01, kernel=linear; total time=   0.8s\n",
      "[CV] END C=200, degree=4, epsilon=0.1, gamma=0.01, kernel=linear; total time=   1.0s\n",
      "[CV] END C=200, degree=4, epsilon=0.1, gamma=0.01, kernel=linear; total time=   0.8s\n",
      "[CV] END C=200, degree=4, epsilon=0.1, gamma=0.01, kernel=linear; total time=   0.8s\n",
      "[CV] END C=200, degree=4, epsilon=0.1, gamma=0.01, kernel=linear; total time=   0.9s\n",
      "[CV] END C=200, degree=4, epsilon=0.5, gamma=1, kernel=linear; total time=   0.8s\n",
      "[CV] END C=200, degree=4, epsilon=0.5, gamma=1, kernel=linear; total time=   0.8s\n",
      "[CV] END C=200, degree=4, epsilon=0.5, gamma=1, kernel=linear; total time=   0.9s\n",
      "[CV] END C=200, degree=4, epsilon=0.5, gamma=1, kernel=linear; total time=   0.9s\n",
      "[CV] END C=200, degree=4, epsilon=0.5, gamma=1, kernel=linear; total time=   0.8s\n",
      "[CV] END C=200, degree=4, epsilon=0.5, gamma=0.1, kernel=linear; total time=   0.8s\n",
      "[CV] END C=200, degree=4, epsilon=0.5, gamma=0.1, kernel=linear; total time=   0.8s\n",
      "[CV] END C=200, degree=4, epsilon=0.5, gamma=0.1, kernel=linear; total time=   0.9s\n",
      "[CV] END C=200, degree=4, epsilon=0.5, gamma=0.1, kernel=linear; total time=   0.9s\n",
      "[CV] END C=200, degree=4, epsilon=0.5, gamma=0.1, kernel=linear; total time=   0.8s\n",
      "[CV] END C=200, degree=4, epsilon=0.5, gamma=0.01, kernel=linear; total time=   0.8s\n",
      "[CV] END C=200, degree=4, epsilon=0.5, gamma=0.01, kernel=linear; total time=   0.8s\n",
      "[CV] END C=200, degree=4, epsilon=0.5, gamma=0.01, kernel=linear; total time=   0.9s\n",
      "[CV] END C=200, degree=4, epsilon=0.5, gamma=0.01, kernel=linear; total time=   0.9s\n",
      "[CV] END C=200, degree=4, epsilon=0.5, gamma=0.01, kernel=linear; total time=   0.8s\n",
      "[CV] END .C=200, degree=4, epsilon=1, gamma=1, kernel=linear; total time=   1.0s\n",
      "[CV] END .C=200, degree=4, epsilon=1, gamma=1, kernel=linear; total time=   0.9s\n",
      "[CV] END .C=200, degree=4, epsilon=1, gamma=1, kernel=linear; total time=   1.2s\n",
      "[CV] END .C=200, degree=4, epsilon=1, gamma=1, kernel=linear; total time=   1.0s\n",
      "[CV] END .C=200, degree=4, epsilon=1, gamma=1, kernel=linear; total time=   0.9s\n",
      "[CV] END C=200, degree=4, epsilon=1, gamma=0.1, kernel=linear; total time=   1.0s\n",
      "[CV] END C=200, degree=4, epsilon=1, gamma=0.1, kernel=linear; total time=   0.9s\n",
      "[CV] END C=200, degree=4, epsilon=1, gamma=0.1, kernel=linear; total time=   1.2s\n",
      "[CV] END C=200, degree=4, epsilon=1, gamma=0.1, kernel=linear; total time=   1.0s\n",
      "[CV] END C=200, degree=4, epsilon=1, gamma=0.1, kernel=linear; total time=   0.9s\n",
      "[CV] END C=200, degree=4, epsilon=1, gamma=0.01, kernel=linear; total time=   1.0s\n",
      "[CV] END C=200, degree=4, epsilon=1, gamma=0.01, kernel=linear; total time=   0.9s\n",
      "[CV] END C=200, degree=4, epsilon=1, gamma=0.01, kernel=linear; total time=   1.2s\n",
      "[CV] END C=200, degree=4, epsilon=1, gamma=0.01, kernel=linear; total time=   1.0s\n",
      "[CV] END C=200, degree=4, epsilon=1, gamma=0.01, kernel=linear; total time=   0.9s\n"
     ]
    },
    {
     "data": {
      "text/plain": [
       "GridSearchCV(cv=5, estimator=SVR(),\n",
       "             param_grid={'C': [10, 100, 200], 'degree': [2, 3, 4],\n",
       "                         'epsilon': [0.1, 0.5, 1], 'gamma': [1, 0.1, 0.01],\n",
       "                         'kernel': ['linear']},\n",
       "             scoring='neg_mean_squared_error', verbose=2)"
      ]
     },
     "execution_count": 536,
     "metadata": {},
     "output_type": "execute_result"
    }
   ],
   "source": [
    "grid_model.fit(scaled_X_train,y_train)"
   ]
  },
  {
   "cell_type": "code",
   "execution_count": 525,
   "id": "ef538a81",
   "metadata": {},
   "outputs": [
    {
     "data": {
      "text/plain": [
       "DecisionTreeRegressor(max_depth=12, random_state=42)"
      ]
     },
     "execution_count": 525,
     "metadata": {},
     "output_type": "execute_result"
    }
   ],
   "source": [
    "grid_model.best_estimator_"
   ]
  },
  {
   "cell_type": "code",
   "execution_count": 527,
   "id": "e2804f0a",
   "metadata": {},
   "outputs": [],
   "source": [
    "svm=SVR(C=100,degree=2,epsilon=0.5,kernel='linear')\n",
    "svm_model=svm.fit(scaled_X_train,y_train)\n",
    "result=svm.predict(X_test)"
   ]
  },
  {
   "cell_type": "code",
   "execution_count": 528,
   "id": "56d91935",
   "metadata": {},
   "outputs": [
    {
     "data": {
      "text/plain": [
       "array([206.15800521, 260.02980634, 217.2503709 , ..., 297.05275197,\n",
       "       352.51458044, 211.49388109])"
      ]
     },
     "execution_count": 528,
     "metadata": {},
     "output_type": "execute_result"
    }
   ],
   "source": [
    "svm_model_predict=svm_model.predict(scaled_X_test)\n",
    "svm_model_predict"
   ]
  },
  {
   "cell_type": "code",
   "execution_count": 457,
   "id": "29e60ee3",
   "metadata": {},
   "outputs": [
    {
     "name": "stdout",
     "output_type": "stream",
     "text": [
      "Accuracy of SVM regression on test set: 0.75\n"
     ]
    }
   ],
   "source": [
    "print('Accuracy of SVM regression on test set: {:.2f}'.format(svm_model.score(scaled_X_test, y_test)))"
   ]
  },
  {
   "cell_type": "code",
   "execution_count": 458,
   "id": "6084e067",
   "metadata": {},
   "outputs": [],
   "source": [
    "MAE = mean_absolute_error(y_test,result)\n",
    "MSE = mean_squared_error(y_test,result)\n",
    "RMSE = np.sqrt(MSE)"
   ]
  },
  {
   "cell_type": "code",
   "execution_count": 459,
   "id": "2ca822fa",
   "metadata": {},
   "outputs": [
    {
     "data": {
      "text/plain": [
       "(22.670419890094117, 30.218486080237692)"
      ]
     },
     "execution_count": 459,
     "metadata": {},
     "output_type": "execute_result"
    }
   ],
   "source": [
    "MAE,RMSE"
   ]
  },
  {
   "cell_type": "code",
   "execution_count": 460,
   "id": "3d25ed8b",
   "metadata": {},
   "outputs": [],
   "source": [
    "svm_model=svm_model.score(scaled_X_test, y_test)"
   ]
  },
  {
   "cell_type": "markdown",
   "id": "4800f43b",
   "metadata": {},
   "source": [
    "## Regression Tree"
   ]
  },
  {
   "cell_type": "code",
   "execution_count": 461,
   "id": "ef2fbf5f",
   "metadata": {},
   "outputs": [],
   "source": [
    "from sklearn.tree import DecisionTreeRegressor\n",
    "regressor = DecisionTreeRegressor(random_state = 42)"
   ]
  },
  {
   "cell_type": "code",
   "execution_count": 462,
   "id": "8e085237",
   "metadata": {},
   "outputs": [],
   "source": [
    "model=regressor.fit(X_train,y_train)"
   ]
  },
  {
   "cell_type": "code",
   "execution_count": 463,
   "id": "d2a84f89",
   "metadata": {},
   "outputs": [
    {
     "data": {
      "text/plain": [
       "0.8293812478108182"
      ]
     },
     "execution_count": 463,
     "metadata": {},
     "output_type": "execute_result"
    }
   ],
   "source": [
    "model.score(X_test, y_test)"
   ]
  },
  {
   "cell_type": "code",
   "execution_count": 464,
   "id": "c85e1604",
   "metadata": {},
   "outputs": [],
   "source": [
    "y_test_pred = model.predict(X_test)"
   ]
  },
  {
   "cell_type": "code",
   "execution_count": 465,
   "id": "2138c7e2",
   "metadata": {},
   "outputs": [
    {
     "data": {
      "text/plain": [
       "18.49124792728084"
      ]
     },
     "execution_count": 465,
     "metadata": {},
     "output_type": "execute_result"
    }
   ],
   "source": [
    "from sklearn.metrics import mean_absolute_error\n",
    "mean_absolute_error(y_test, y_test_pred)"
   ]
  },
  {
   "cell_type": "code",
   "execution_count": 466,
   "id": "87cd2b67",
   "metadata": {},
   "outputs": [
    {
     "data": {
      "image/png": "[encoded data removed]",
      "text/plain": [
       "<Figure size 2160x1080 with 1 Axes>"
      ]
     },
     "metadata": {
      "needs_background": "light"
     },
     "output_type": "display_data"
    }
   ],
   "source": [
    "plt.figure(figsize = (30,15))\n",
    "from sklearn import tree\n",
    "tree.plot_tree(model, \n",
    "               feature_names = list(X_train.columns), \n",
    "               filled = True,\n",
    "               max_depth = 2);"
   ]
  },
  {
   "cell_type": "code",
   "execution_count": 467,
   "id": "4c14ce25",
   "metadata": {},
   "outputs": [
    {
     "data": {
      "text/plain": [
       "array([4.36439393e-04, 3.22768412e-03, 0.00000000e+00, 1.61663767e-02,\n",
       "       9.35024844e-01, 3.72502044e-02, 7.89445160e-03])"
      ]
     },
     "execution_count": 467,
     "metadata": {},
     "output_type": "execute_result"
    }
   ],
   "source": [
    "importance = model.feature_importances_\n",
    "importance"
   ]
  },
  {
   "cell_type": "code",
   "execution_count": 468,
   "id": "31404e47",
   "metadata": {},
   "outputs": [
    {
     "data": {
      "image/png": "[encoded data removed]",
      "text/plain": [
       "<Figure size 432x288 with 1 Axes>"
      ]
     },
     "metadata": {
      "needs_background": "light"
     },
     "output_type": "display_data"
    }
   ],
   "source": [
    "feature_importance = pd.Series(importance, index = X_train.columns)\n",
    "feature_importance.sort_values().plot(kind = 'bar')\n",
    "plt.ylabel('Importance');"
   ]
  },
  {
   "cell_type": "markdown",
   "id": "92a8ef70",
   "metadata": {},
   "source": [
    "The most important feature is Engine Size(L) for this model."
   ]
  },
  {
   "cell_type": "code",
   "execution_count": 469,
   "id": "e45ffeb1",
   "metadata": {},
   "outputs": [
    {
     "data": {
      "text/plain": [
       "0.8220720697447578"
      ]
     },
     "execution_count": 469,
     "metadata": {},
     "output_type": "execute_result"
    }
   ],
   "source": [
    "model.score(X_train, y_train)"
   ]
  },
  {
   "cell_type": "code",
   "execution_count": 470,
   "id": "ed4b3f63",
   "metadata": {},
   "outputs": [
    {
     "data": {
      "text/plain": [
       "0.8293812478108182"
      ]
     },
     "execution_count": 470,
     "metadata": {},
     "output_type": "execute_result"
    }
   ],
   "source": [
    "model.score(X_test, y_test)"
   ]
  },
  {
   "cell_type": "markdown",
   "id": "648446c4",
   "metadata": {},
   "source": [
    "No pruning required as the model score for the train and testing set is same. This means there is no overfitting or underfitting of the data on the decision tree regression model.\n"
   ]
  },
  {
   "cell_type": "code",
   "execution_count": 471,
   "id": "4d99e563",
   "metadata": {},
   "outputs": [],
   "source": [
    "tree_param = {'max_depth':[4,5,6,7,8,9,10,11,12,15,20,30,40,50,70,90,120,150]}"
   ]
  },
  {
   "cell_type": "code",
   "execution_count": 472,
   "id": "0eb71dda",
   "metadata": {},
   "outputs": [],
   "source": [
    "grid_model = GridSearchCV(estimator=regressor,param_grid=tree_param,scoring='neg_mean_squared_error',\n",
    "                          cv=5,\n",
    "                          verbose=2)"
   ]
  },
  {
   "cell_type": "code",
   "execution_count": 473,
   "id": "531a43e0",
   "metadata": {},
   "outputs": [
    {
     "name": "stdout",
     "output_type": "stream",
     "text": [
      "Fitting 5 folds for each of 18 candidates, totalling 90 fits\n",
      "[CV] END ........................................max_depth=4; total time=   0.0s\n",
      "[CV] END ........................................max_depth=4; total time=   0.0s\n",
      "[CV] END ........................................max_depth=4; total time=   0.0s\n",
      "[CV] END ........................................max_depth=4; total time=   0.0s\n",
      "[CV] END ........................................max_depth=4; total time=   0.0s\n",
      "[CV] END ........................................max_depth=5; total time=   0.0s\n",
      "[CV] END ........................................max_depth=5; total time=   0.0s\n",
      "[CV] END ........................................max_depth=5; total time=   0.0s\n",
      "[CV] END ........................................max_depth=5; total time=   0.0s\n",
      "[CV] END ........................................max_depth=5; total time=   0.0s\n",
      "[CV] END ........................................max_depth=6; total time=   0.0s\n",
      "[CV] END ........................................max_depth=6; total time=   0.0s\n",
      "[CV] END ........................................max_depth=6; total time=   0.0s\n",
      "[CV] END ........................................max_depth=6; total time=   0.0s\n",
      "[CV] END ........................................max_depth=6; total time=   0.0s\n",
      "[CV] END ........................................max_depth=7; total time=   0.0s\n",
      "[CV] END ........................................max_depth=7; total time=   0.0s\n",
      "[CV] END ........................................max_depth=7; total time=   0.0s\n",
      "[CV] END ........................................max_depth=7; total time=   0.0s\n",
      "[CV] END ........................................max_depth=7; total time=   0.0s\n",
      "[CV] END ........................................max_depth=8; total time=   0.0s\n",
      "[CV] END ........................................max_depth=8; total time=   0.0s\n",
      "[CV] END ........................................max_depth=8; total time=   0.0s\n",
      "[CV] END ........................................max_depth=8; total time=   0.0s\n",
      "[CV] END ........................................max_depth=8; total time=   0.0s\n",
      "[CV] END ........................................max_depth=9; total time=   0.0s\n",
      "[CV] END ........................................max_depth=9; total time=   0.0s\n",
      "[CV] END ........................................max_depth=9; total time=   0.0s\n",
      "[CV] END ........................................max_depth=9; total time=   0.0s\n",
      "[CV] END ........................................max_depth=9; total time=   0.0s\n",
      "[CV] END .......................................max_depth=10; total time=   0.0s\n",
      "[CV] END .......................................max_depth=10; total time=   0.0s\n",
      "[CV] END .......................................max_depth=10; total time=   0.0s\n",
      "[CV] END .......................................max_depth=10; total time=   0.0s\n",
      "[CV] END .......................................max_depth=10; total time=   0.0s\n",
      "[CV] END .......................................max_depth=11; total time=   0.0s\n",
      "[CV] END .......................................max_depth=11; total time=   0.0s\n",
      "[CV] END .......................................max_depth=11; total time=   0.0s\n",
      "[CV] END .......................................max_depth=11; total time=   0.0s\n",
      "[CV] END .......................................max_depth=11; total time=   0.0s\n",
      "[CV] END .......................................max_depth=12; total time=   0.0s\n",
      "[CV] END .......................................max_depth=12; total time=   0.0s\n",
      "[CV] END .......................................max_depth=12; total time=   0.0s\n",
      "[CV] END .......................................max_depth=12; total time=   0.0s\n",
      "[CV] END .......................................max_depth=12; total time=   0.0s\n",
      "[CV] END .......................................max_depth=15; total time=   0.0s\n",
      "[CV] END .......................................max_depth=15; total time=   0.0s\n",
      "[CV] END .......................................max_depth=15; total time=   0.0s\n",
      "[CV] END .......................................max_depth=15; total time=   0.0s\n",
      "[CV] END .......................................max_depth=15; total time=   0.0s\n",
      "[CV] END .......................................max_depth=20; total time=   0.0s\n",
      "[CV] END .......................................max_depth=20; total time=   0.0s\n",
      "[CV] END .......................................max_depth=20; total time=   0.0s\n",
      "[CV] END .......................................max_depth=20; total time=   0.0s\n",
      "[CV] END .......................................max_depth=20; total time=   0.0s\n",
      "[CV] END .......................................max_depth=30; total time=   0.0s\n",
      "[CV] END .......................................max_depth=30; total time=   0.0s\n",
      "[CV] END .......................................max_depth=30; total time=   0.0s\n",
      "[CV] END .......................................max_depth=30; total time=   0.0s\n",
      "[CV] END .......................................max_depth=30; total time=   0.0s\n",
      "[CV] END .......................................max_depth=40; total time=   0.0s\n",
      "[CV] END .......................................max_depth=40; total time=   0.0s\n",
      "[CV] END .......................................max_depth=40; total time=   0.0s\n",
      "[CV] END .......................................max_depth=40; total time=   0.0s\n",
      "[CV] END .......................................max_depth=40; total time=   0.0s\n",
      "[CV] END .......................................max_depth=50; total time=   0.0s\n",
      "[CV] END .......................................max_depth=50; total time=   0.0s\n",
      "[CV] END .......................................max_depth=50; total time=   0.0s\n",
      "[CV] END .......................................max_depth=50; total time=   0.0s\n",
      "[CV] END .......................................max_depth=50; total time=   0.0s\n",
      "[CV] END .......................................max_depth=70; total time=   0.0s\n",
      "[CV] END .......................................max_depth=70; total time=   0.0s\n",
      "[CV] END .......................................max_depth=70; total time=   0.0s\n",
      "[CV] END .......................................max_depth=70; total time=   0.0s\n",
      "[CV] END .......................................max_depth=70; total time=   0.0s\n",
      "[CV] END .......................................max_depth=90; total time=   0.0s\n",
      "[CV] END .......................................max_depth=90; total time=   0.0s\n",
      "[CV] END .......................................max_depth=90; total time=   0.0s\n",
      "[CV] END .......................................max_depth=90; total time=   0.0s\n",
      "[CV] END .......................................max_depth=90; total time=   0.0s\n",
      "[CV] END ......................................max_depth=120; total time=   0.0s\n",
      "[CV] END ......................................max_depth=120; total time=   0.0s\n",
      "[CV] END ......................................max_depth=120; total time=   0.0s\n",
      "[CV] END ......................................max_depth=120; total time=   0.0s\n",
      "[CV] END ......................................max_depth=120; total time=   0.0s\n",
      "[CV] END ......................................max_depth=150; total time=   0.0s\n",
      "[CV] END ......................................max_depth=150; total time=   0.0s\n",
      "[CV] END ......................................max_depth=150; total time=   0.0s\n",
      "[CV] END ......................................max_depth=150; total time=   0.0s\n",
      "[CV] END ......................................max_depth=150; total time=   0.0s\n"
     ]
    }
   ],
   "source": [
    "model=grid_model.fit(X_train,y_train)"
   ]
  },
  {
   "cell_type": "code",
   "execution_count": 541,
   "id": "c357b4e0",
   "metadata": {},
   "outputs": [],
   "source": [
    "y_test_pred = grid_model.predict(X_test)"
   ]
  },
  {
   "cell_type": "code",
   "execution_count": 542,
   "id": "61c7490d",
   "metadata": {},
   "outputs": [
    {
     "data": {
      "text/plain": [
       "SVR(C=100, degree=2, epsilon=0.5, gamma=1, kernel='linear')"
      ]
     },
     "execution_count": 542,
     "metadata": {},
     "output_type": "execute_result"
    }
   ],
   "source": [
    "grid_model.best_estimator_"
   ]
  },
  {
   "cell_type": "code",
   "execution_count": 543,
   "id": "97be891f",
   "metadata": {},
   "outputs": [],
   "source": [
    "regressor = DecisionTreeRegressor(random_state = 42,max_depth=12)"
   ]
  },
  {
   "cell_type": "code",
   "execution_count": 544,
   "id": "68b9c76f",
   "metadata": {},
   "outputs": [],
   "source": [
    "model2=regressor.fit(X_train,y_train)"
   ]
  },
  {
   "cell_type": "code",
   "execution_count": 545,
   "id": "31523515",
   "metadata": {},
   "outputs": [
    {
     "data": {
      "text/plain": [
       "array([202.88847584, 269.93413174, 218.60264901, ..., 316.33333333,\n",
       "       333.15      , 217.90981432])"
      ]
     },
     "execution_count": 545,
     "metadata": {},
     "output_type": "execute_result"
    }
   ],
   "source": [
    "regression_tree_pred=model2.predict(X_test)\n",
    "regression_tree_pred"
   ]
  },
  {
   "cell_type": "code",
   "execution_count": 546,
   "id": "a144ee53",
   "metadata": {},
   "outputs": [
    {
     "data": {
      "text/plain": [
       "0.8293812478108182"
      ]
     },
     "execution_count": 546,
     "metadata": {},
     "output_type": "execute_result"
    }
   ],
   "source": [
    "model2.score(X_test, y_test)"
   ]
  },
  {
   "cell_type": "code",
   "execution_count": 549,
   "id": "fb748354",
   "metadata": {},
   "outputs": [
    {
     "data": {
      "text/plain": [
       "18.49124792728084"
      ]
     },
     "execution_count": 549,
     "metadata": {},
     "output_type": "execute_result"
    }
   ],
   "source": [
    "mean_absolute_error(y_test, regression_tree_pred)"
   ]
  },
  {
   "cell_type": "code",
   "execution_count": 551,
   "id": "938ee7be",
   "metadata": {},
   "outputs": [
    {
     "data": {
      "text/plain": [
       "0.8293812478108182"
      ]
     },
     "execution_count": 551,
     "metadata": {},
     "output_type": "execute_result"
    }
   ],
   "source": [
    "model2_score=model2.score(X_test, y_test)\n",
    "model2_score"
   ]
  },
  {
   "cell_type": "markdown",
   "id": "d0078c87",
   "metadata": {},
   "source": [
    "## GRADIENT BOOSTING"
   ]
  },
  {
   "cell_type": "code",
   "execution_count": 482,
   "id": "160a3f9d",
   "metadata": {},
   "outputs": [
    {
     "name": "stdout",
     "output_type": "stream",
     "text": [
      "MAE: -20.180 (1.208)\n"
     ]
    }
   ],
   "source": [
    "from sklearn.model_selection import RepeatedKFold\n",
    "from sklearn.ensemble import GradientBoostingRegressor\n",
    "from sklearn.model_selection import cross_val_score\n",
    "\n",
    "gbModel = GradientBoostingRegressor()\n",
    "gbModel.fit(X_train, y_train)\n",
    "\n",
    "cv = RepeatedKFold(n_splits=10, n_repeats=3, random_state=42)\n",
    "n_scores = cross_val_score(gbModel, X_test, y_test, scoring='neg_mean_absolute_error', cv=cv, n_jobs=-1)\n",
    "\n",
    "print('MAE: %.3f (%.3f)' % (np.mean(n_scores), np.std(n_scores)))"
   ]
  },
  {
   "cell_type": "code",
   "execution_count": 483,
   "id": "e7aba632",
   "metadata": {},
   "outputs": [
    {
     "name": "stdout",
     "output_type": "stream",
     "text": [
      ">10 -25.935 (1.574)\n",
      ">20 -21.759 (1.282)\n",
      ">30 -21.041 (1.184)\n",
      ">40 -20.707 (1.194)\n",
      ">50 -20.523 (1.191)\n",
      ">60 -20.424 (1.200)\n",
      ">70 -20.340 (1.211)\n",
      ">80 -20.284 (1.212)\n",
      ">90 -20.227 (1.210)\n",
      ">100 -20.175 (1.212)\n",
      ">200 -19.650 (1.261)\n",
      ">500 -19.213 (1.392)\n",
      ">600 -19.175 (1.389)\n"
     ]
    },
    {
     "data": {
      "image/png": "[encoded data removed]",
      "text/plain": [
       "<Figure size 720x432 with 1 Axes>"
      ]
     },
     "metadata": {
      "needs_background": "light"
     },
     "output_type": "display_data"
    }
   ],
   "source": [
    "def get_models():\n",
    "    models = dict()\n",
    "    n_trees = [10, 20, 30, 40, 50, 60, 70, 80, 90, 100,200,500,600]\n",
    "    for n in n_trees:\n",
    "        models[str(n)] = GradientBoostingRegressor(n_estimators=n)\n",
    "        models[str(n)].fit(X_train,y_train)\n",
    "    return models\n",
    "\n",
    "def evaluate_model(model, X, y):\n",
    "    cv = RepeatedKFold(n_splits=10, n_repeats=3, random_state=1)\n",
    "    scores = cross_val_score(model, X, y, scoring='neg_mean_absolute_error', cv=cv, n_jobs=-1)\n",
    "    return scores\n",
    "\n",
    "models = get_models()\n",
    "results, names = list(), list()\n",
    "for name, model in models.items():\n",
    "    scores = evaluate_model(model, X_test, y_test)\n",
    "    results.append(scores)\n",
    "    names.append(name)\n",
    "    print('>%s %.3f (%.3f)' % (name, np.mean(scores), np.std(scores)))\n",
    "\n",
    "fig,ax = fig, ax = plt.subplots(1, 1, figsize=(10,6))\n",
    "ax.boxplot(results, labels=names)\n",
    "plt.title('Average MAE based on number of trees (Ensemble Size)')\n",
    "plt.show();"
   ]
  },
  {
   "cell_type": "code",
   "execution_count": 484,
   "id": "133ebea9",
   "metadata": {},
   "outputs": [
    {
     "name": "stdout",
     "output_type": "stream",
     "text": [
      "MAE: -19.214 (1.395)\n"
     ]
    }
   ],
   "source": [
    "from sklearn.model_selection import RepeatedKFold\n",
    "from sklearn.ensemble import GradientBoostingRegressor\n",
    "from sklearn.model_selection import cross_val_score\n",
    "\n",
    "gbModel_best = GradientBoostingRegressor(n_estimators=500)\n",
    "gbModel_best.fit(X_train, y_train)\n",
    "\n",
    "cv = RepeatedKFold(n_splits=10, n_repeats=3, random_state=1)\n",
    "n_scores = cross_val_score(gbModel_best, X_test, y_test, scoring='neg_mean_absolute_error', cv=cv, n_jobs=-1)\n",
    "\n",
    "print('MAE: %.3f (%.3f)' % (np.mean(n_scores), np.std(n_scores)))"
   ]
  },
  {
   "cell_type": "code",
   "execution_count": 485,
   "id": "2ee9f8c4",
   "metadata": {},
   "outputs": [],
   "source": [
    "from sklearn.model_selection import GridSearchCV"
   ]
  },
  {
   "cell_type": "code",
   "execution_count": 486,
   "id": "d20767a3",
   "metadata": {},
   "outputs": [],
   "source": [
    "param_grid = {\"n_estimators\":[1,5,10,20,40,100,200,300,500],'max_depth':[3,4,5,6,8]}"
   ]
  },
  {
   "cell_type": "code",
   "execution_count": 487,
   "id": "bdd00417",
   "metadata": {},
   "outputs": [],
   "source": [
    "gb_model = GradientBoostingRegressor()"
   ]
  },
  {
   "cell_type": "code",
   "execution_count": 488,
   "id": "bcc83118",
   "metadata": {},
   "outputs": [],
   "source": [
    "grid_gb_model = GridSearchCV(gb_model,param_grid)"
   ]
  },
  {
   "cell_type": "code",
   "execution_count": 489,
   "id": "ea99b950",
   "metadata": {},
   "outputs": [
    {
     "data": {
      "text/plain": [
       "GridSearchCV(estimator=GradientBoostingRegressor(),\n",
       "             param_grid={'max_depth': [3, 4, 5, 6, 8],\n",
       "                         'n_estimators': [1, 5, 10, 20, 40, 100, 200, 300,\n",
       "                                          500]})"
      ]
     },
     "execution_count": 489,
     "metadata": {},
     "output_type": "execute_result"
    }
   ],
   "source": [
    "grid_gb_model.fit(X_train,y_train)"
   ]
  },
  {
   "cell_type": "code",
   "execution_count": 490,
   "id": "0c323cbb",
   "metadata": {},
   "outputs": [
    {
     "data": {
      "text/plain": [
       "{'max_depth': 6, 'n_estimators': 200}"
      ]
     },
     "execution_count": 490,
     "metadata": {},
     "output_type": "execute_result"
    }
   ],
   "source": [
    "grid_gb_model.best_params_"
   ]
  },
  {
   "cell_type": "code",
   "execution_count": 491,
   "id": "ba8ddf8c",
   "metadata": {},
   "outputs": [],
   "source": [
    "gb_model_predictions = grid_gb_model.predict(X_test)"
   ]
  },
  {
   "cell_type": "code",
   "execution_count": 492,
   "id": "934463f3",
   "metadata": {},
   "outputs": [
    {
     "data": {
      "text/plain": [
       "array([202.84107158, 269.90282763, 218.52545466, ..., 316.39325077,\n",
       "       333.17512656, 217.91858161])"
      ]
     },
     "execution_count": 492,
     "metadata": {},
     "output_type": "execute_result"
    }
   ],
   "source": [
    "gb_model_predictions"
   ]
  },
  {
   "cell_type": "code",
   "execution_count": 493,
   "id": "a48b7081",
   "metadata": {},
   "outputs": [
    {
     "data": {
      "text/plain": [
       "array([2.71550731e-04, 2.86365186e-03, 0.00000000e+00, 1.56143550e-02,\n",
       "       9.36887149e-01, 3.73121712e-02, 7.05112187e-03])"
      ]
     },
     "execution_count": 493,
     "metadata": {},
     "output_type": "execute_result"
    }
   ],
   "source": [
    "grid_gb_model.best_estimator_.feature_importances_"
   ]
  },
  {
   "cell_type": "code",
   "execution_count": 494,
   "id": "424df678",
   "metadata": {},
   "outputs": [
    {
     "data": {
      "text/plain": [
       "array([2.71550731e-04, 2.86365186e-03, 0.00000000e+00, 1.56143550e-02,\n",
       "       9.36887149e-01, 3.73121712e-02, 7.05112187e-03])"
      ]
     },
     "execution_count": 494,
     "metadata": {},
     "output_type": "execute_result"
    }
   ],
   "source": [
    "feat_import = grid_gb_model.best_estimator_.feature_importances_\n",
    "feat_import"
   ]
  },
  {
   "cell_type": "code",
   "execution_count": 495,
   "id": "4e958534",
   "metadata": {},
   "outputs": [],
   "source": [
    "imp_feats = pd.DataFrame(index=X.columns,data=feat_import,columns=['Importance'])"
   ]
  },
  {
   "cell_type": "code",
   "execution_count": 496,
   "id": "342fb4c0",
   "metadata": {},
   "outputs": [
    {
     "data": {
      "text/html": [
       "<div>\n",
       "<style scoped>\n",
       "    .dataframe tbody tr th:only-of-type {\n",
       "        vertical-align: middle;\n",
       "    }\n",
       "\n",
       "    .dataframe tbody tr th {\n",
       "        vertical-align: top;\n",
       "    }\n",
       "\n",
       "    .dataframe thead th {\n",
       "        text-align: right;\n",
       "    }\n",
       "</style>\n",
       "<table border=\"1\" class=\"dataframe\">\n",
       "  <thead>\n",
       "    <tr style=\"text-align: right;\">\n",
       "      <th></th>\n",
       "      <th>Importance</th>\n",
       "    </tr>\n",
       "  </thead>\n",
       "  <tbody>\n",
       "    <tr>\n",
       "      <th>NATURAL GAS</th>\n",
       "      <td>0.000000</td>\n",
       "    </tr>\n",
       "    <tr>\n",
       "      <th>DIESEL</th>\n",
       "      <td>0.000272</td>\n",
       "    </tr>\n",
       "    <tr>\n",
       "      <th>ETHANOL</th>\n",
       "      <td>0.002864</td>\n",
       "    </tr>\n",
       "    <tr>\n",
       "      <th>Automatic</th>\n",
       "      <td>0.007051</td>\n",
       "    </tr>\n",
       "    <tr>\n",
       "      <th>PREMIUM GASOLINE</th>\n",
       "      <td>0.015614</td>\n",
       "    </tr>\n",
       "    <tr>\n",
       "      <th>Cylinders</th>\n",
       "      <td>0.037312</td>\n",
       "    </tr>\n",
       "    <tr>\n",
       "      <th>Engine Size(L)</th>\n",
       "      <td>0.936887</td>\n",
       "    </tr>\n",
       "  </tbody>\n",
       "</table>\n",
       "</div>"
      ],
      "text/plain": [
       "                  Importance\n",
       "NATURAL GAS         0.000000\n",
       "DIESEL              0.000272\n",
       "ETHANOL             0.002864\n",
       "Automatic           0.007051\n",
       "PREMIUM GASOLINE    0.015614\n",
       "Cylinders           0.037312\n",
       "Engine Size(L)      0.936887"
      ]
     },
     "execution_count": 496,
     "metadata": {},
     "output_type": "execute_result"
    }
   ],
   "source": [
    "imp_feats.sort_values(by='Importance')"
   ]
  },
  {
   "cell_type": "code",
   "execution_count": 538,
   "id": "4d4954be",
   "metadata": {},
   "outputs": [
    {
     "data": {
      "image/png": "[encoded data removed]",
      "text/plain": [
       "<Figure size 2400x800 with 1 Axes>"
      ]
     },
     "metadata": {
      "needs_background": "light"
     },
     "output_type": "display_data"
    }
   ],
   "source": [
    "plt.figure(figsize=(12,4),dpi=200)\n",
    "sns.barplot(data=imp_feats.sort_values(by='Importance'),x=imp_feats.sort_values(by='Importance').index,y='Importance')\n",
    "\n",
    "plt.xticks(rotation=90);\n",
    "plt.savefig('important_features.png')"
   ]
  },
  {
   "cell_type": "markdown",
   "id": "cfc5508c",
   "metadata": {},
   "source": [
    "Engine Size(L) is the most important feature for predicting CO2 Emissions"
   ]
  },
  {
   "cell_type": "code",
   "execution_count": 498,
   "id": "e863abdd",
   "metadata": {},
   "outputs": [
    {
     "data": {
      "text/plain": [
       "0.8284566580536801"
      ]
     },
     "execution_count": 498,
     "metadata": {},
     "output_type": "execute_result"
    }
   ],
   "source": [
    "grid_gb_model.score(X_test, y_test)"
   ]
  },
  {
   "cell_type": "code",
   "execution_count": 499,
   "id": "8f7331e0",
   "metadata": {},
   "outputs": [
    {
     "data": {
      "text/plain": [
       "GradientBoostingRegressor()"
      ]
     },
     "execution_count": 499,
     "metadata": {},
     "output_type": "execute_result"
    }
   ],
   "source": [
    "gb_model.fit(X_train,y_train)"
   ]
  },
  {
   "cell_type": "code",
   "execution_count": 500,
   "id": "feab37f9",
   "metadata": {},
   "outputs": [
    {
     "data": {
      "text/plain": [
       "0.8110087878436367"
      ]
     },
     "execution_count": 500,
     "metadata": {},
     "output_type": "execute_result"
    }
   ],
   "source": [
    "gb_model.score(X_test, y_test)"
   ]
  },
  {
   "cell_type": "code",
   "execution_count": 501,
   "id": "7d8eab04",
   "metadata": {},
   "outputs": [
    {
     "name": "stdout",
     "output_type": "stream",
     "text": [
      "Accuracy of GB cross validation regression on test set: 0.83\n"
     ]
    }
   ],
   "source": [
    "print('Accuracy of GB cross validation regression on test set: {:.2f}'.format(grid_gb_model.score(X_test, y_test)))"
   ]
  },
  {
   "cell_type": "code",
   "execution_count": 502,
   "id": "b996e4b9",
   "metadata": {},
   "outputs": [],
   "source": [
    "gradient_boosting=grid_gb_model.score(X_test, y_test)"
   ]
  },
  {
   "cell_type": "markdown",
   "id": "3f978e4f",
   "metadata": {},
   "source": [
    "## Random Forest Regression"
   ]
  },
  {
   "cell_type": "code",
   "execution_count": 503,
   "id": "ee7bdfd3",
   "metadata": {},
   "outputs": [],
   "source": [
    "from sklearn.ensemble import RandomForestRegressor"
   ]
  },
  {
   "cell_type": "code",
   "execution_count": 504,
   "id": "7f1f890d",
   "metadata": {},
   "outputs": [],
   "source": [
    "rfr_model = RandomForestRegressor().fit(X_train, y_train)"
   ]
  },
  {
   "cell_type": "code",
   "execution_count": 505,
   "id": "8fccf552",
   "metadata": {},
   "outputs": [],
   "source": [
    "y_pred = rfr_model.predict(X_test)"
   ]
  },
  {
   "cell_type": "code",
   "execution_count": 506,
   "id": "81b06130",
   "metadata": {},
   "outputs": [
    {
     "name": "stdout",
     "output_type": "stream",
     "text": [
      "Accuracy of RF regression on test set: 0.83\n"
     ]
    }
   ],
   "source": [
    "print('Accuracy of RF regression on test set: {:.2f}'.format(rfr_model.score(X_test, y_test)))"
   ]
  },
  {
   "cell_type": "code",
   "execution_count": 507,
   "id": "cc8d949f",
   "metadata": {},
   "outputs": [],
   "source": [
    "MAE = mean_absolute_error(y_test,y_pred)\n",
    "MSE = mean_squared_error(y_test,y_pred)\n",
    "RMSE = np.sqrt(MSE)"
   ]
  },
  {
   "cell_type": "code",
   "execution_count": 508,
   "id": "52cc5d65",
   "metadata": {},
   "outputs": [
    {
     "data": {
      "text/plain": [
       "(18.582807233055338, 25.107616148575588)"
      ]
     },
     "execution_count": 508,
     "metadata": {},
     "output_type": "execute_result"
    }
   ],
   "source": [
    "MAE,RMSE"
   ]
  },
  {
   "cell_type": "code",
   "execution_count": 509,
   "id": "fe338f0b",
   "metadata": {},
   "outputs": [],
   "source": [
    "random_forest=rfr_model.score(X_test, y_test)"
   ]
  },
  {
   "cell_type": "markdown",
   "id": "180a159a",
   "metadata": {},
   "source": [
    "## Random Search with Cross Validation"
   ]
  },
  {
   "cell_type": "code",
   "execution_count": 510,
   "id": "4ced8f0e",
   "metadata": {},
   "outputs": [
    {
     "name": "stdout",
     "output_type": "stream",
     "text": [
      "{'bootstrap': [True, False],\n",
      " 'max_depth': [10, 20, 30, 40, 50, 60, 70, 80, 90, 100],\n",
      " 'max_features': ['auto', 'sqrt'],\n",
      " 'min_samples_leaf': [1, 2, 4],\n",
      " 'min_samples_split': [2, 5, 10],\n",
      " 'n_estimators': [100, 200, 300, 400, 500, 600, 700, 800, 900, 1000]}\n"
     ]
    }
   ],
   "source": [
    "from sklearn.model_selection import RandomizedSearchCV\n",
    "from pprint import pprint\n",
    "\n",
    "# Number of trees in random forest\n",
    "n_estimators = [int(x) for x in np.linspace(start = 100, stop = 1000, num = 10)]\n",
    "# Number of features to consider at every split\n",
    "max_features = ['auto', 'sqrt']\n",
    "# Maximum number of levels in tree\n",
    "max_depth = [int(x) for x in np.linspace(10, 100, num = 10)]\n",
    "# Minimum number of samples required to split a node\n",
    "min_samples_split = [2, 5, 10]\n",
    "# Minimum number of samples required at each leaf node\n",
    "min_samples_leaf = [1, 2, 4]\n",
    "# Method of selecting samples for training each tree\n",
    "bootstrap = [True, False]\n",
    "\n",
    "# Create the random grid\n",
    "random_grid = {'n_estimators': n_estimators,\n",
    "               'max_features': max_features,\n",
    "               'max_depth': max_depth,\n",
    "               'min_samples_split': min_samples_split,\n",
    "               'min_samples_leaf': min_samples_leaf,\n",
    "               'bootstrap': bootstrap}\n",
    "\n",
    "pprint(random_grid)"
   ]
  },
  {
   "cell_type": "code",
   "execution_count": 511,
   "id": "6a2dfff7",
   "metadata": {},
   "outputs": [
    {
     "name": "stdout",
     "output_type": "stream",
     "text": [
      "Fitting 5 folds for each of 50 candidates, totalling 250 fits\n"
     ]
    },
    {
     "data": {
      "text/plain": [
       "RandomizedSearchCV(cv=5, estimator=RandomForestRegressor(), n_iter=50,\n",
       "                   n_jobs=-1,\n",
       "                   param_distributions={'bootstrap': [True, False],\n",
       "                                        'max_depth': [10, 20, 30, 40, 50, 60,\n",
       "                                                      70, 80, 90, 100],\n",
       "                                        'max_features': ['auto', 'sqrt'],\n",
       "                                        'min_samples_leaf': [1, 2, 4],\n",
       "                                        'min_samples_split': [2, 5, 10],\n",
       "                                        'n_estimators': [100, 200, 300, 400,\n",
       "                                                         500, 600, 700, 800,\n",
       "                                                         900, 1000]},\n",
       "                   random_state=42, verbose=2)"
      ]
     },
     "execution_count": 511,
     "metadata": {},
     "output_type": "execute_result"
    }
   ],
   "source": [
    "# Use the random grid to search for best hyperparameters\n",
    "# First create the base model to tune\n",
    "rf = RandomForestRegressor()\n",
    "# Random search of parameters, using 5 fold cross validation, \n",
    "# search across 50 different combinations, and use all available cores\n",
    "rf_random = RandomizedSearchCV(estimator = rf, param_distributions = random_grid, n_iter = 50, cv = 5, verbose=2, random_state=42, n_jobs = -1)\n",
    "# Fit the random search model\n",
    "rf_random.fit(X_train, y_train)"
   ]
  },
  {
   "cell_type": "code",
   "execution_count": 512,
   "id": "9ff3cdbf",
   "metadata": {},
   "outputs": [
    {
     "data": {
      "text/plain": [
       "{'n_estimators': 800,\n",
       " 'min_samples_split': 2,\n",
       " 'min_samples_leaf': 1,\n",
       " 'max_features': 'auto',\n",
       " 'max_depth': 60,\n",
       " 'bootstrap': False}"
      ]
     },
     "execution_count": 512,
     "metadata": {},
     "output_type": "execute_result"
    }
   ],
   "source": [
    "rf_random.best_params_"
   ]
  },
  {
   "cell_type": "code",
   "execution_count": 513,
   "id": "f51abb75",
   "metadata": {},
   "outputs": [
    {
     "data": {
      "text/plain": [
       "array([202.88847584, 269.93413174, 218.60264901, ..., 316.33333333,\n",
       "       333.15      , 217.90981432])"
      ]
     },
     "execution_count": 513,
     "metadata": {},
     "output_type": "execute_result"
    }
   ],
   "source": [
    "rf_random_pred = rf_random.predict(X_test)\n",
    "rf_random_pred"
   ]
  },
  {
   "cell_type": "code",
   "execution_count": 514,
   "id": "6048ee94",
   "metadata": {},
   "outputs": [
    {
     "name": "stdout",
     "output_type": "stream",
     "text": [
      "Accuracy of RF cross validation regression on test set: 0.83\n"
     ]
    }
   ],
   "source": [
    "print('Accuracy of RF cross validation regression on test set: {:.2f}'.format(rf_random.score(X_test, y_test)))"
   ]
  },
  {
   "cell_type": "code",
   "execution_count": 515,
   "id": "48a9b363",
   "metadata": {},
   "outputs": [],
   "source": [
    "rf_random_score=rf_random.score(X_test, y_test)"
   ]
  },
  {
   "cell_type": "code",
   "execution_count": 516,
   "id": "9cc08c7e",
   "metadata": {},
   "outputs": [
    {
     "data": {
      "text/html": [
       "<div>\n",
       "<style scoped>\n",
       "    .dataframe tbody tr th:only-of-type {\n",
       "        vertical-align: middle;\n",
       "    }\n",
       "\n",
       "    .dataframe tbody tr th {\n",
       "        vertical-align: top;\n",
       "    }\n",
       "\n",
       "    .dataframe thead th {\n",
       "        text-align: right;\n",
       "    }\n",
       "</style>\n",
       "<table border=\"1\" class=\"dataframe\">\n",
       "  <thead>\n",
       "    <tr style=\"text-align: right;\">\n",
       "      <th></th>\n",
       "      <th>Model</th>\n",
       "      <th>Model_Score</th>\n",
       "    </tr>\n",
       "  </thead>\n",
       "  <tbody>\n",
       "    <tr>\n",
       "      <th>0</th>\n",
       "      <td>linear_regression</td>\n",
       "      <td>0.751553</td>\n",
       "    </tr>\n",
       "    <tr>\n",
       "      <th>1</th>\n",
       "      <td>ridge_regression</td>\n",
       "      <td>0.751638</td>\n",
       "    </tr>\n",
       "    <tr>\n",
       "      <th>2</th>\n",
       "      <td>lasso_regression</td>\n",
       "      <td>0.732634</td>\n",
       "    </tr>\n",
       "    <tr>\n",
       "      <th>3</th>\n",
       "      <td>elastic_regression</td>\n",
       "      <td>0.751755</td>\n",
       "    </tr>\n",
       "    <tr>\n",
       "      <th>4</th>\n",
       "      <td>knn_regression</td>\n",
       "      <td>0.809349</td>\n",
       "    </tr>\n",
       "    <tr>\n",
       "      <th>5</th>\n",
       "      <td>svm_regression</td>\n",
       "      <td>0.750893</td>\n",
       "    </tr>\n",
       "    <tr>\n",
       "      <th>6</th>\n",
       "      <td>decision_tree_regression</td>\n",
       "      <td>0.829381</td>\n",
       "    </tr>\n",
       "    <tr>\n",
       "      <th>7</th>\n",
       "      <td>gradient_boosting_regression</td>\n",
       "      <td>0.828457</td>\n",
       "    </tr>\n",
       "    <tr>\n",
       "      <th>8</th>\n",
       "      <td>random_forest_regression</td>\n",
       "      <td>0.828031</td>\n",
       "    </tr>\n",
       "  </tbody>\n",
       "</table>\n",
       "</div>"
      ],
      "text/plain": [
       "                          Model  Model_Score\n",
       "0             linear_regression     0.751553\n",
       "1              ridge_regression     0.751638\n",
       "2              lasso_regression     0.732634\n",
       "3            elastic_regression     0.751755\n",
       "4                knn_regression     0.809349\n",
       "5                svm_regression     0.750893\n",
       "6      decision_tree_regression     0.829381\n",
       "7  gradient_boosting_regression     0.828457\n",
       "8      random_forest_regression     0.828031"
      ]
     },
     "execution_count": 516,
     "metadata": {},
     "output_type": "execute_result"
    }
   ],
   "source": [
    "data ={'Model':['linear_regression','ridge_regression', 'lasso_regression','elastic_regression',\n",
    "                   'knn_regression', 'svm_regression', 'decision_tree_regression','gradient_boosting_regression',\n",
    "                    'random_forest_regression'],'Model_Score':[regression_score,ridge_score, lasso_score,elastic_score,\n",
    "                   knn_score, svm_model, decision_tree_score,gradient_boosting,\n",
    "                    random_forest]}\n",
    "\n",
    "df_model= pd.DataFrame(data=data);\n",
    "df_model"
   ]
  },
  {
   "cell_type": "code",
   "execution_count": 573,
   "id": "dfd193d2",
   "metadata": {},
   "outputs": [
    {
     "data": {
      "image/png": "[encoded data removed]",
      "text/plain": [
       "<Figure size 720x360 with 1 Axes>"
      ]
     },
     "metadata": {
      "needs_background": "light"
     },
     "output_type": "display_data"
    }
   ],
   "source": [
    "plt.figure(figsize = (10,5))\n",
    "sns.barplot(data=df_model,x='Model_Score',y='Model',color='g')\n",
    "plt.ylabel('Model',fontsize=15)\n",
    "plt.xlabel('Score',fontsize=15)\n",
    "plt.xticks(fontsize=15,rotation=90,ha='right')\n",
    "plt.yticks(fontsize=15)\n",
    "plt.savefig('scores.png')\n",
    "plt.savefig('scores.png',dpi=300, bbox_inches='tight');"
   ]
  },
  {
   "cell_type": "markdown",
   "id": "cd0d3225",
   "metadata": {},
   "source": [
    "# Testing Each Model Against Predicted Data"
   ]
  },
  {
   "cell_type": "code",
   "execution_count": 568,
   "id": "80fa398b",
   "metadata": {},
   "outputs": [
    {
     "data": {
      "image/png": "[encoded data removed]",
      "text/plain": [
       "<Figure size 1296x288 with 4 Axes>"
      ]
     },
     "metadata": {
      "needs_background": "light"
     },
     "output_type": "display_data"
    },
    {
     "data": {
      "image/png": "[encoded data removed]",
      "text/plain": [
       "<Figure size 1296x288 with 4 Axes>"
      ]
     },
     "metadata": {
      "needs_background": "light"
     },
     "output_type": "display_data"
    },
    {
     "data": {
      "image/png": "[encoded data removed]",
      "text/plain": [
       "<Figure size 576x288 with 2 Axes>"
      ]
     },
     "metadata": {
      "needs_background": "light"
     },
     "output_type": "display_data"
    }
   ],
   "source": [
    "linear_y_pred\n",
    "ridge_test_predictions\n",
    "lasso_test_predictions\n",
    "elastic_test_predictions\n",
    "knn_test_predictions\n",
    "svm_model_predict\n",
    "gb_model_predictions\n",
    "rf_random_pred\n",
    "regression_tree_pred\n",
    "actual_data= df['CO2 Emissions(g/km)']\n",
    "\n",
    "lr_mean = int(np.mean(linear_y_pred))\n",
    "ri_mean = int(np.mean(ridge_test_predictions))\n",
    "las_mean = int(np.mean(lasso_test_predictions))\n",
    "elas_mean = int(np.mean(elastic_test_predictions))\n",
    "knn_mean = int(np.mean(knn_test_predictions))\n",
    "svm_mean = int(np.mean(svm_model_predict))\n",
    "gb_mean = int(np.mean(gb_model_predictions))\n",
    "rf_mean = int(np.mean(rf_random_pred))\n",
    "reg_tree_mean = int(np.mean(regression_tree_pred))\n",
    "actual_mean=int(np.mean(actual_data))\n",
    "\n",
    "\n",
    "fig,ax = plt.subplots(1,4,sharex=True,sharey=True,figsize=(18,4))\n",
    "ax[0].plot(linear_y_pred)\n",
    "ax[0].axhline(y=lr_mean, color='r', linestyle='-')\n",
    "ax[0].set_title('Linear Regression Prediction: ' + str(lr_mean) + ' avg')\n",
    "ax[1].plot(ridge_test_predictions)\n",
    "ax[1].axhline(y=ri_mean, color='r', linestyle='-')\n",
    "ax[1].set_title('Ridge Regression Prediction: ' + str(ri_mean) + ' avg')\n",
    "ax[2].plot(lasso_test_predictions)\n",
    "ax[2].axhline(y=las_mean, color='r', linestyle='-')\n",
    "ax[2].set_title('Lasso Regression Prediction: ' + str(las_mean) + ' avg')\n",
    "ax[3].plot(elastic_test_predictions)\n",
    "ax[3].axhline(y=gb_mean, color='r', linestyle='-')\n",
    "ax[3].set_title('Elastic Regression Prediction: ' + str(gb_mean) + ' avg')\n",
    "\n",
    "fig,ax = plt.subplots(1,4,sharex=True,sharey=True,figsize=(18,4))\n",
    "ax[0].plot(knn_test_predictions)\n",
    "ax[0].axhline(y=knn_mean, color='r', linestyle='-')\n",
    "ax[0].set_title('KNN Regression Prediction: ' + str(knn_mean) + ' avg')\n",
    "ax[1].plot(svm_model_predict)\n",
    "ax[1].axhline(y=svm_mean, color='r', linestyle='-')\n",
    "ax[1].set_title('SVM Regression Prediction: ' + str(svm_mean) + ' avg')\n",
    "ax[2].plot(gb_model_predictions)\n",
    "ax[2].axhline(y=gb_mean, color='r', linestyle='-')\n",
    "ax[2].set_title('GB Regression Prediction: ' + str(gb_mean) + ' avg')\n",
    "ax[3].plot(rf_random_pred)\n",
    "ax[3].axhline(y=rf_mean, color='r', linestyle='-')\n",
    "ax[3].set_title('RF Regression Prediction: ' + str(rf_mean) + ' avg')\n",
    "\n",
    "fig,ax = plt.subplots(1,2,sharex=False,sharey=True,figsize=(8,4))\n",
    "ax[0].plot(regression_tree_pred)\n",
    "ax[0].axhline(y=reg_tree_mean, color='r', linestyle='-')\n",
    "ax[0].set_title('Regression Tree Prediction: ' + str(reg_tree_mean) + ' avg')\n",
    "ax[1].plot(actual_data)\n",
    "ax[1].axhline(y=actual_mean, color='r', linestyle='-')\n",
    "ax[1].set_title('Actual Data: ' + str(actual_mean) + ' avg')\n",
    "\n",
    "\n",
    "fig.show;\n"
   ]
  },
  {
   "cell_type": "markdown",
   "id": "9667f10d",
   "metadata": {},
   "source": [
    "## SUMMARY"
   ]
  },
  {
   "cell_type": "markdown",
   "id": "c7559ebd",
   "metadata": {},
   "source": [
    "From all these models, random forest regression, gradient boosting and decision regression tree produced the best score of 0.83 which shows that these models are best for predicting the carbon dioxide emissions from vehicles."
   ]
  }
 ],
 "metadata": {
  "kernelspec": {
   "display_name": "Python 3 (ipykernel)",
   "language": "python",
   "name": "python3"
  },
  "language_info": {
   "codemirror_mode": {
    "name": "ipython",
    "version": 3
   },
   "file_extension": ".py",
   "mimetype": "text/x-python",
   "name": "python",
   "nbconvert_exporter": "python",
   "pygments_lexer": "ipython3",
   "version": "3.9.7"
  }
 },
 "nbformat": 4,
 "nbformat_minor": 5
}
