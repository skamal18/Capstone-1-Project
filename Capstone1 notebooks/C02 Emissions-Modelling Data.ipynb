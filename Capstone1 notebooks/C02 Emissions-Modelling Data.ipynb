{
 "cells": [
  {
   "cell_type": "markdown",
   "id": "cc63c1e1",
   "metadata": {},
   "source": [
    "# C02 Emissions-Modelling Data"
   ]
  },
  {
   "cell_type": "code",
   "execution_count": 58,
   "id": "74c3fca6",
   "metadata": {},
   "outputs": [],
   "source": [
    "import pandas as pd\n",
    "import matplotlib.pyplot as plt\n",
    "import seaborn as sns\n",
    "import os\n",
    "import numpy as np\n",
    "from sklearn.decomposition import PCA\n",
    "from sklearn.preprocessing import scale\n",
    "import random\n",
    "import matplotlib.colors as mcolors\n",
    "import matplotlib.lines as mlines\n",
    "import plotly.express as px\n",
    "import plotly.graph_objects as go\n",
    "import statsmodels.api as sm \n",
    "from statsmodels.graphics.api import abline_plot\n",
    "from sklearn.metrics import mean_squared_error, r2_score \n",
    "from sklearn.model_selection import train_test_split \n",
    "from sklearn import linear_model, preprocessing\n",
    "from sklearn.linear_model import LinearRegression "
   ]
  },
  {
   "cell_type": "code",
   "execution_count": 59,
   "id": "9c648502",
   "metadata": {},
   "outputs": [],
   "source": [
    "df=pd.read_csv('df.csv', index_col=False)"
   ]
  },
  {
   "cell_type": "code",
   "execution_count": 60,
   "id": "5d08dcd9",
   "metadata": {},
   "outputs": [
    {
     "data": {
      "text/plain": [
       "0          0\n",
       "1          1\n",
       "2          2\n",
       "3          3\n",
       "4          4\n",
       "        ... \n",
       "5986    7380\n",
       "5987    7381\n",
       "5988    7382\n",
       "5989    7383\n",
       "5990    7384\n",
       "Name: Unnamed: 0, Length: 5991, dtype: int64"
      ]
     },
     "execution_count": 60,
     "metadata": {},
     "output_type": "execute_result"
    }
   ],
   "source": [
    "df.pop(\"Unnamed: 0\")"
   ]
  },
  {
   "cell_type": "code",
   "execution_count": 61,
   "id": "4260083a",
   "metadata": {},
   "outputs": [],
   "source": [
    "#converting the categorical data into dummy variables\n",
    "df_dummy=pd.get_dummies(df, prefix='', prefix_sep='',columns=['Fuel Type','Transmission_Type'])"
   ]
  },
  {
   "cell_type": "code",
   "execution_count": 62,
   "id": "f9872c88",
   "metadata": {},
   "outputs": [
    {
     "data": {
      "text/html": [
       "<div>\n",
       "<style scoped>\n",
       "    .dataframe tbody tr th:only-of-type {\n",
       "        vertical-align: middle;\n",
       "    }\n",
       "\n",
       "    .dataframe tbody tr th {\n",
       "        vertical-align: top;\n",
       "    }\n",
       "\n",
       "    .dataframe thead th {\n",
       "        text-align: right;\n",
       "    }\n",
       "</style>\n",
       "<table border=\"1\" class=\"dataframe\">\n",
       "  <thead>\n",
       "    <tr style=\"text-align: right;\">\n",
       "      <th></th>\n",
       "      <th>Make</th>\n",
       "      <th>Model</th>\n",
       "      <th>Vehicle Class</th>\n",
       "      <th>Engine Size(L)</th>\n",
       "      <th>Cylinders</th>\n",
       "      <th>Transmission</th>\n",
       "      <th>Fuel Consumption City (L/100 km)</th>\n",
       "      <th>Fuel Consumption Hwy (L/100 km)</th>\n",
       "      <th>Fuel Consumption Comb (L/100 km)</th>\n",
       "      <th>CO2 Emissions(g/km)</th>\n",
       "      <th>DIESEL</th>\n",
       "      <th>ETHANOL</th>\n",
       "      <th>NATURAL GAS</th>\n",
       "      <th>PREMIUM GASOLINE</th>\n",
       "      <th>REGULAR GASOLINE</th>\n",
       "      <th>Automatic</th>\n",
       "      <th>Manual</th>\n",
       "    </tr>\n",
       "  </thead>\n",
       "  <tbody>\n",
       "    <tr>\n",
       "      <th>0</th>\n",
       "      <td>ACURA</td>\n",
       "      <td>ILX</td>\n",
       "      <td>COMPACT</td>\n",
       "      <td>2.0</td>\n",
       "      <td>4</td>\n",
       "      <td>AS5</td>\n",
       "      <td>9.9</td>\n",
       "      <td>6.7</td>\n",
       "      <td>8.5</td>\n",
       "      <td>196</td>\n",
       "      <td>0</td>\n",
       "      <td>0</td>\n",
       "      <td>0</td>\n",
       "      <td>1</td>\n",
       "      <td>0</td>\n",
       "      <td>1</td>\n",
       "      <td>0</td>\n",
       "    </tr>\n",
       "  </tbody>\n",
       "</table>\n",
       "</div>"
      ],
      "text/plain": [
       "    Make Model Vehicle Class  Engine Size(L)  Cylinders Transmission  \\\n",
       "0  ACURA   ILX       COMPACT             2.0          4          AS5   \n",
       "\n",
       "   Fuel Consumption City (L/100 km)  Fuel Consumption Hwy (L/100 km)  \\\n",
       "0                               9.9                              6.7   \n",
       "\n",
       "   Fuel Consumption Comb (L/100 km)  CO2 Emissions(g/km)  DIESEL  ETHANOL  \\\n",
       "0                               8.5                  196       0        0   \n",
       "\n",
       "   NATURAL GAS  PREMIUM GASOLINE  REGULAR GASOLINE  Automatic  Manual  \n",
       "0            0                 1                 0          1       0  "
      ]
     },
     "execution_count": 62,
     "metadata": {},
     "output_type": "execute_result"
    }
   ],
   "source": [
    "df_dummy.head(1)"
   ]
  },
  {
   "cell_type": "code",
   "execution_count": 63,
   "id": "dc818c28",
   "metadata": {},
   "outputs": [],
   "source": [
    "#to avoid the duplication of data, dropping one unique column for each categorical feature.\n",
    "df_dummy.drop(['REGULAR GASOLINE','Manual'],inplace=True,axis=1)"
   ]
  },
  {
   "cell_type": "markdown",
   "id": "a84d742e",
   "metadata": {},
   "source": [
    "## Linear Regression Model"
   ]
  },
  {
   "cell_type": "code",
   "execution_count": 64,
   "id": "0c7d3e8e",
   "metadata": {},
   "outputs": [],
   "source": [
    "#defining the X and y variable\n",
    "X = df_dummy[['DIESEL','ETHANOL','NATURAL GAS','PREMIUM GASOLINE','Engine Size(L)','Cylinders','Automatic']]\n",
    "y = df_dummy[\"CO2 Emissions(g/km)\"]"
   ]
  },
  {
   "cell_type": "code",
   "execution_count": 65,
   "id": "fbd655b3",
   "metadata": {},
   "outputs": [],
   "source": [
    "#splitting the X and y dataset\n",
    "X_train, X_test, y_train, y_test= train_test_split(X, y, test_size=0.3, random_state=42)"
   ]
  },
  {
   "cell_type": "code",
   "execution_count": 66,
   "id": "583d6095",
   "metadata": {},
   "outputs": [],
   "source": [
    "#to avoid bias in the data outcome, we are standardizing the data by scaling it\n",
    "from sklearn.preprocessing import StandardScaler"
   ]
  },
  {
   "cell_type": "code",
   "execution_count": 67,
   "id": "6d180ff0",
   "metadata": {},
   "outputs": [],
   "source": [
    "scaler = StandardScaler()"
   ]
  },
  {
   "cell_type": "code",
   "execution_count": 68,
   "id": "3c3d7b75",
   "metadata": {},
   "outputs": [],
   "source": [
    "scaled_X_train = scaler.fit_transform(X_train)\n",
    "scaled_X_test = scaler.transform(X_test)"
   ]
  },
  {
   "cell_type": "code",
   "execution_count": 69,
   "id": "dc4d732d",
   "metadata": {},
   "outputs": [
    {
     "data": {
      "text/plain": [
       "LinearRegression()"
      ]
     },
     "execution_count": 69,
     "metadata": {},
     "output_type": "execute_result"
    }
   ],
   "source": [
    "reg_all=LinearRegression()\n",
    "reg_all.fit(scaled_X_train,y_train)"
   ]
  },
  {
   "cell_type": "code",
   "execution_count": 70,
   "id": "db4d55dd",
   "metadata": {},
   "outputs": [
    {
     "name": "stdout",
     "output_type": "stream",
     "text": [
      "(4193, 7) (4193,)\n",
      "(1798, 7) (1798,)\n"
     ]
    }
   ],
   "source": [
    "print(X_train.shape, y_train.shape)\n",
    "print(scaled_X_test.shape, y_test.shape)"
   ]
  },
  {
   "cell_type": "code",
   "execution_count": 71,
   "id": "a4052f22",
   "metadata": {},
   "outputs": [
    {
     "data": {
      "text/plain": [
       "array([205.39409838, 262.1195004 , 215.92134634, ..., 301.81418803,\n",
       "       354.45042784, 209.41787993])"
      ]
     },
     "execution_count": 71,
     "metadata": {},
     "output_type": "execute_result"
    }
   ],
   "source": [
    "y_pred=reg_all.predict(scaled_X_test)\n",
    "y_pred"
   ]
  },
  {
   "cell_type": "code",
   "execution_count": 72,
   "id": "ca06e384",
   "metadata": {},
   "outputs": [
    {
     "name": "stdout",
     "output_type": "stream",
     "text": [
      "Accuracy of linear regression on test set: 0.75\n"
     ]
    }
   ],
   "source": [
    "print('Accuracy of linear regression on test set: {:.2f}'.format(reg_all.score(scaled_X_test, y_test)))"
   ]
  },
  {
   "cell_type": "code",
   "execution_count": 73,
   "id": "2c5cb4c9",
   "metadata": {},
   "outputs": [
    {
     "data": {
      "text/plain": [
       "pandas.core.series.Series"
      ]
     },
     "execution_count": 73,
     "metadata": {},
     "output_type": "execute_result"
    }
   ],
   "source": [
    "#finding the residuals\n",
    "test_res = y_test - y_pred\n",
    "type(test_res)"
   ]
  },
  {
   "cell_type": "code",
   "execution_count": 74,
   "id": "5ae686a8",
   "metadata": {},
   "outputs": [],
   "source": [
    "from sklearn.metrics import mean_squared_error\n",
    "from sklearn.metrics import mean_absolute_error"
   ]
  },
  {
   "cell_type": "code",
   "execution_count": 75,
   "id": "2b984029",
   "metadata": {},
   "outputs": [],
   "source": [
    "#Mean Squared Error, Root Mean Squared Error\n",
    "MAE = mean_absolute_error(y_test,y_pred)\n",
    "MSE = mean_squared_error(y_test,y_pred)\n",
    "RMSE = np.sqrt(MSE)"
   ]
  },
  {
   "cell_type": "code",
   "execution_count": 76,
   "id": "71d39187",
   "metadata": {},
   "outputs": [
    {
     "data": {
      "text/plain": [
       "(22.99259787072235, 30.178428293529244)"
      ]
     },
     "execution_count": 76,
     "metadata": {},
     "output_type": "execute_result"
    }
   ],
   "source": [
    "MAE,RMSE"
   ]
  },
  {
   "cell_type": "markdown",
   "id": "0457f4af",
   "metadata": {},
   "source": [
    "## Cross-validation:"
   ]
  },
  {
   "cell_type": "code",
   "execution_count": 77,
   "id": "23fb1154",
   "metadata": {},
   "outputs": [],
   "source": [
    "#Cross-validation used to estimate the skill of a machine learning model on unseen data\n",
    "#results in less-bias\n",
    "from sklearn.model_selection import cross_val_score, KFold"
   ]
  },
  {
   "cell_type": "code",
   "execution_count": 78,
   "id": "319ea898",
   "metadata": {},
   "outputs": [],
   "source": [
    "kf=KFold(n_splits=5,shuffle=True,random_state=42)\n",
    "reg=LinearRegression()"
   ]
  },
  {
   "cell_type": "code",
   "execution_count": 79,
   "id": "bf14cac1",
   "metadata": {},
   "outputs": [
    {
     "name": "stdout",
     "output_type": "stream",
     "text": [
      "[0.75589225 0.72442665 0.74155752 0.74935762 0.7511444 ]\n"
     ]
    }
   ],
   "source": [
    "cv_results=cross_val_score(reg,X,y,cv=kf)\n",
    "print(cv_results)"
   ]
  },
  {
   "cell_type": "code",
   "execution_count": 80,
   "id": "47942f1d",
   "metadata": {},
   "outputs": [
    {
     "name": "stdout",
     "output_type": "stream",
     "text": [
      "0.7444756873832603 0.011037414028931054\n"
     ]
    }
   ],
   "source": [
    "print(np.mean(cv_results),np.std(cv_results))"
   ]
  },
  {
   "cell_type": "code",
   "execution_count": 81,
   "id": "7d2408d8",
   "metadata": {},
   "outputs": [
    {
     "name": "stdout",
     "output_type": "stream",
     "text": [
      "[0.72613974 0.75541747]\n"
     ]
    }
   ],
   "source": [
    "print(np.quantile(cv_results,[0.025,0.975]))"
   ]
  },
  {
   "cell_type": "markdown",
   "id": "1a5fdca8",
   "metadata": {},
   "source": [
    "## Ridge Regression"
   ]
  },
  {
   "cell_type": "code",
   "execution_count": 82,
   "id": "ac49192b",
   "metadata": {},
   "outputs": [],
   "source": [
    "from sklearn.linear_model import Ridge"
   ]
  },
  {
   "cell_type": "code",
   "execution_count": 83,
   "id": "9a1a9552",
   "metadata": {},
   "outputs": [],
   "source": [
    "#ridge regression model with hyperparameter tuning\n",
    "ridge_model = Ridge(alpha=0.1)"
   ]
  },
  {
   "cell_type": "code",
   "execution_count": 84,
   "id": "4383df4f",
   "metadata": {},
   "outputs": [
    {
     "data": {
      "text/plain": [
       "Ridge(alpha=0.1)"
      ]
     },
     "execution_count": 84,
     "metadata": {},
     "output_type": "execute_result"
    }
   ],
   "source": [
    "ridge_model.fit(X_train,y_train)"
   ]
  },
  {
   "cell_type": "code",
   "execution_count": 85,
   "id": "bea74a3f",
   "metadata": {},
   "outputs": [],
   "source": [
    "test_predictions = ridge_model.predict(X_test)"
   ]
  },
  {
   "cell_type": "code",
   "execution_count": 86,
   "id": "f5da1a39",
   "metadata": {},
   "outputs": [],
   "source": [
    "from sklearn.metrics import mean_absolute_error,mean_squared_error"
   ]
  },
  {
   "cell_type": "code",
   "execution_count": 87,
   "id": "83b0fea7",
   "metadata": {},
   "outputs": [],
   "source": [
    "MAE = mean_absolute_error(y_test,test_predictions)\n",
    "MSE = mean_squared_error(y_test,test_predictions)\n",
    "RMSE = np.sqrt(MSE)"
   ]
  },
  {
   "cell_type": "code",
   "execution_count": 88,
   "id": "4be133c5",
   "metadata": {},
   "outputs": [
    {
     "data": {
      "text/plain": [
       "(22.992510776338424, 30.17836228754734)"
      ]
     },
     "execution_count": 88,
     "metadata": {},
     "output_type": "execute_result"
    }
   ],
   "source": [
    "MAE,RMSE"
   ]
  },
  {
   "cell_type": "code",
   "execution_count": 89,
   "id": "5aee892f",
   "metadata": {},
   "outputs": [
    {
     "name": "stdout",
     "output_type": "stream",
     "text": [
      "Accuracy of ridge regression on test set: 0.75\n"
     ]
    }
   ],
   "source": [
    "print('Accuracy of ridge regression on test set: {:.2f}'.format(ridge_model.score(X_test, y_test)))"
   ]
  },
  {
   "cell_type": "code",
   "execution_count": 90,
   "id": "34966ff6",
   "metadata": {},
   "outputs": [],
   "source": [
    "from sklearn.linear_model import RidgeCV"
   ]
  },
  {
   "cell_type": "code",
   "execution_count": 91,
   "id": "0a04155e",
   "metadata": {},
   "outputs": [],
   "source": [
    "#penalty strength parameter as alpha\n",
    "ridge_cv_model = RidgeCV(alphas=(0.1, 1.0, 10.0,20.0),scoring='neg_mean_absolute_error')"
   ]
  },
  {
   "cell_type": "code",
   "execution_count": 92,
   "id": "8f0c6958",
   "metadata": {},
   "outputs": [
    {
     "data": {
      "text/plain": [
       "RidgeCV(alphas=array([ 0.1,  1. , 10. , 20. ]),\n",
       "        scoring='neg_mean_absolute_error')"
      ]
     },
     "execution_count": 92,
     "metadata": {},
     "output_type": "execute_result"
    }
   ],
   "source": [
    "#k-fold cross validation fit to the training dataset\n",
    "ridge_cv_model.fit(X_train,y_train)"
   ]
  },
  {
   "cell_type": "code",
   "execution_count": 93,
   "id": "73432b3c",
   "metadata": {},
   "outputs": [
    {
     "data": {
      "text/plain": [
       "10.0"
      ]
     },
     "execution_count": 93,
     "metadata": {},
     "output_type": "execute_result"
    }
   ],
   "source": [
    "#optimal alpha\n",
    "ridge_cv_model.alpha_"
   ]
  },
  {
   "cell_type": "code",
   "execution_count": 94,
   "id": "eb7b1011",
   "metadata": {},
   "outputs": [],
   "source": [
    "test_predictions = ridge_cv_model.predict(X_test)"
   ]
  },
  {
   "cell_type": "code",
   "execution_count": 95,
   "id": "c0ba5b7b",
   "metadata": {},
   "outputs": [],
   "source": [
    "MAE = mean_absolute_error(y_test,test_predictions)\n",
    "MSE = mean_squared_error(y_test,test_predictions)\n",
    "RMSE = np.sqrt(MSE)"
   ]
  },
  {
   "cell_type": "code",
   "execution_count": 96,
   "id": "b4c8965e",
   "metadata": {},
   "outputs": [
    {
     "data": {
      "text/plain": [
       "(22.98529428849865, 30.173288337874546)"
      ]
     },
     "execution_count": 96,
     "metadata": {},
     "output_type": "execute_result"
    }
   ],
   "source": [
    "MAE,RMSE"
   ]
  },
  {
   "cell_type": "code",
   "execution_count": 97,
   "id": "825678a8",
   "metadata": {},
   "outputs": [
    {
     "data": {
      "text/plain": [
       "array([ 9.41002256, -7.04529021,  0.        ,  3.93739401, 26.06805448,\n",
       "        8.78259913,  0.17411884])"
      ]
     },
     "execution_count": 97,
     "metadata": {},
     "output_type": "execute_result"
    }
   ],
   "source": [
    "ridge_cv_model.coef_"
   ]
  },
  {
   "cell_type": "code",
   "execution_count": 98,
   "id": "9e16d092",
   "metadata": {},
   "outputs": [
    {
     "name": "stdout",
     "output_type": "stream",
     "text": [
      "Accuracy of ridge regression on test set: 0.75\n"
     ]
    }
   ],
   "source": [
    "print('Accuracy of ridge regression on test set: {:.2f}'.format(ridge_cv_model.score(X_test, y_test)))"
   ]
  },
  {
   "cell_type": "markdown",
   "id": "3c2dee27",
   "metadata": {},
   "source": [
    "## Lasso Regression"
   ]
  },
  {
   "cell_type": "code",
   "execution_count": 99,
   "id": "f9e63d4b",
   "metadata": {},
   "outputs": [],
   "source": [
    "from sklearn.linear_model import LassoCV"
   ]
  },
  {
   "cell_type": "code",
   "execution_count": 100,
   "id": "e4f24b3b",
   "metadata": {},
   "outputs": [],
   "source": [
    "lasso_cv_model = LassoCV(eps=0.1,n_alphas=10,cv=5)"
   ]
  },
  {
   "cell_type": "code",
   "execution_count": 101,
   "id": "d69e7426",
   "metadata": {},
   "outputs": [
    {
     "data": {
      "text/plain": [
       "LassoCV(cv=5, eps=0.1, n_alphas=10)"
      ]
     },
     "execution_count": 101,
     "metadata": {},
     "output_type": "execute_result"
    }
   ],
   "source": [
    "lasso_cv_model.fit(X_train,y_train)"
   ]
  },
  {
   "cell_type": "code",
   "execution_count": 102,
   "id": "0e4339d8",
   "metadata": {},
   "outputs": [
    {
     "data": {
      "text/plain": [
       "8.969859393948726"
      ]
     },
     "execution_count": 102,
     "metadata": {},
     "output_type": "execute_result"
    }
   ],
   "source": [
    "lasso_cv_model.alpha_"
   ]
  },
  {
   "cell_type": "code",
   "execution_count": 103,
   "id": "cd82d482",
   "metadata": {},
   "outputs": [],
   "source": [
    "test_predictions = lasso_cv_model.predict(X_test)"
   ]
  },
  {
   "cell_type": "code",
   "execution_count": 104,
   "id": "2dae6766",
   "metadata": {},
   "outputs": [],
   "source": [
    "MAE = mean_absolute_error(y_test,test_predictions)\n",
    "MSE = mean_squared_error(y_test,test_predictions)\n",
    "RMSE = np.sqrt(MSE)"
   ]
  },
  {
   "cell_type": "code",
   "execution_count": 105,
   "id": "a098c31f",
   "metadata": {},
   "outputs": [
    {
     "data": {
      "text/plain": [
       "(23.302243923594848, 31.30641740608961)"
      ]
     },
     "execution_count": 105,
     "metadata": {},
     "output_type": "execute_result"
    }
   ],
   "source": [
    "MAE,RMSE"
   ]
  },
  {
   "cell_type": "code",
   "execution_count": 106,
   "id": "c96786b9",
   "metadata": {},
   "outputs": [
    {
     "data": {
      "text/plain": [
       "array([ 0.        , -0.        ,  0.        ,  0.        , 13.38574599,\n",
       "       14.87839714,  0.        ])"
      ]
     },
     "execution_count": 106,
     "metadata": {},
     "output_type": "execute_result"
    }
   ],
   "source": [
    "lasso_cv_model.coef_"
   ]
  },
  {
   "cell_type": "code",
   "execution_count": 107,
   "id": "4658d3ed",
   "metadata": {},
   "outputs": [
    {
     "name": "stdout",
     "output_type": "stream",
     "text": [
      "Accuracy of lasso regression on test set: 0.73\n"
     ]
    }
   ],
   "source": [
    "print('Accuracy of lasso regression on test set: {:.2f}'.format(lasso_cv_model.score(X_test, y_test)))"
   ]
  },
  {
   "cell_type": "markdown",
   "id": "260a26d9",
   "metadata": {},
   "source": [
    "## Elastic Net Regression"
   ]
  },
  {
   "cell_type": "code",
   "execution_count": 108,
   "id": "c43251d0",
   "metadata": {},
   "outputs": [],
   "source": [
    "from sklearn.linear_model import ElasticNetCV"
   ]
  },
  {
   "cell_type": "code",
   "execution_count": 109,
   "id": "48e3c944",
   "metadata": {},
   "outputs": [],
   "source": [
    "#improve the regularization by combining lasso and ridge regression\n",
    "#minimize the RSS(residual sum of squares) and the absolute and squared value terms(absolute for lasso and square for ridge)\n",
    "elastic_model = ElasticNetCV(l1_ratio=[.1, .5, .7,.9, .95, .99, 1],tol=0.01)"
   ]
  },
  {
   "cell_type": "code",
   "execution_count": 110,
   "id": "5bdb8a4e",
   "metadata": {},
   "outputs": [
    {
     "data": {
      "text/plain": [
       "ElasticNetCV(l1_ratio=[0.1, 0.5, 0.7, 0.9, 0.95, 0.99, 1], tol=0.01)"
      ]
     },
     "execution_count": 110,
     "metadata": {},
     "output_type": "execute_result"
    }
   ],
   "source": [
    "elastic_model.fit(X_train,y_train)"
   ]
  },
  {
   "cell_type": "code",
   "execution_count": 111,
   "id": "07ab0241",
   "metadata": {},
   "outputs": [
    {
     "data": {
      "text/plain": [
       "1.0"
      ]
     },
     "execution_count": 111,
     "metadata": {},
     "output_type": "execute_result"
    }
   ],
   "source": [
    "elastic_model.l1_ratio_"
   ]
  },
  {
   "cell_type": "code",
   "execution_count": 112,
   "id": "6226bd82",
   "metadata": {},
   "outputs": [],
   "source": [
    "test_predictions = elastic_model.predict(X_test)"
   ]
  },
  {
   "cell_type": "code",
   "execution_count": 113,
   "id": "10888e3c",
   "metadata": {},
   "outputs": [],
   "source": [
    "MAE = mean_absolute_error(y_test,test_predictions)\n",
    "MSE = mean_squared_error(y_test,test_predictions)\n",
    "RMSE = np.sqrt(MSE)"
   ]
  },
  {
   "cell_type": "code",
   "execution_count": 114,
   "id": "570ee45b",
   "metadata": {},
   "outputs": [
    {
     "data": {
      "text/plain": [
       "(22.976596119057856, 30.16707494117302)"
      ]
     },
     "execution_count": 114,
     "metadata": {},
     "output_type": "execute_result"
    }
   ],
   "source": [
    "MAE,RMSE"
   ]
  },
  {
   "cell_type": "code",
   "execution_count": 115,
   "id": "2c8263c2",
   "metadata": {},
   "outputs": [
    {
     "data": {
      "text/plain": [
       "22.7934041861518"
      ]
     },
     "execution_count": 115,
     "metadata": {},
     "output_type": "execute_result"
    }
   ],
   "source": [
    "# Training Set Performance\n",
    "train_predictions = elastic_model.predict(X_train)\n",
    "MAE = mean_absolute_error(y_train,train_predictions)\n",
    "MAE"
   ]
  },
  {
   "cell_type": "code",
   "execution_count": 116,
   "id": "75fbd2ff",
   "metadata": {},
   "outputs": [
    {
     "data": {
      "text/plain": [
       "array([ 6.56075569, -5.98954917,  0.        ,  3.80760836, 26.80905803,\n",
       "        8.24491728,  0.        ])"
      ]
     },
     "execution_count": 116,
     "metadata": {},
     "output_type": "execute_result"
    }
   ],
   "source": [
    "elastic_model.coef_"
   ]
  },
  {
   "cell_type": "code",
   "execution_count": 117,
   "id": "343e5435",
   "metadata": {},
   "outputs": [
    {
     "name": "stdout",
     "output_type": "stream",
     "text": [
      "Accuracy of elestic regression on test set: 0.75\n"
     ]
    }
   ],
   "source": [
    "print('Accuracy of elestic regression on test set: {:.2f}'.format(elastic_model.score(X_test, y_test)))"
   ]
  },
  {
   "cell_type": "markdown",
   "id": "77844a30",
   "metadata": {},
   "source": [
    "## KNN Regression"
   ]
  },
  {
   "cell_type": "code",
   "execution_count": 118,
   "id": "5a5deb37",
   "metadata": {},
   "outputs": [],
   "source": [
    "from sklearn.neighbors import KNeighborsRegressor"
   ]
  },
  {
   "cell_type": "code",
   "execution_count": 119,
   "id": "1b7aa6b5",
   "metadata": {},
   "outputs": [
    {
     "data": {
      "text/plain": [
       "Text(0.5, 1.0, 'ELBOW PLOT')"
      ]
     },
     "execution_count": 119,
     "metadata": {},
     "output_type": "execute_result"
    },
    {
     "data": {
      "image/png": "[encoded data removed]",
      "text/plain": [
       "<Figure size 576x576 with 1 Axes>"
      ]
     },
     "metadata": {
      "needs_background": "light"
     },
     "output_type": "display_data"
    }
   ],
   "source": [
    "#Elbow plot to determine the optimal value of K that yields lowest MSE\n",
    "fig,ax=plt.subplots(figsize=(8,8))\n",
    "k_list=np.arange(1,60,1)\n",
    "knn_dict={} # To store k and mse pairs\n",
    "for i in k_list:\n",
    "#Knn Model Creation\n",
    "    knn=KNeighborsRegressor(n_neighbors=int(i))\n",
    "    model_knn=knn.fit(X_train,y_train)\n",
    "    y_knn_pred=model_knn.predict(X_test)\n",
    "#Storing MSE \n",
    "    mse=mean_squared_error(y_test,y_knn_pred)\n",
    "    knn_dict[i]=mse\n",
    "#Plotting the results\n",
    "ax.plot(knn_dict.keys(),knn_dict.values())\n",
    "ax.set_xlabel('K-VALUE', fontsize=20)\n",
    "ax.set_ylabel('MSE' ,fontsize=20)\n",
    "ax.set_title('ELBOW PLOT' ,fontsize=28)"
   ]
  },
  {
   "cell_type": "code",
   "execution_count": 120,
   "id": "8520c24e",
   "metadata": {},
   "outputs": [],
   "source": [
    "knn=KNeighborsRegressor(n_neighbors=7)"
   ]
  },
  {
   "cell_type": "code",
   "execution_count": 121,
   "id": "586b4e57",
   "metadata": {},
   "outputs": [],
   "source": [
    "model_knn=knn.fit(X_train,y_train)\n",
    "test_predictions=model_knn.predict(X_test)"
   ]
  },
  {
   "cell_type": "code",
   "execution_count": 122,
   "id": "b3dfe65b",
   "metadata": {},
   "outputs": [],
   "source": [
    "MAE = mean_absolute_error(y_test,test_predictions)\n",
    "MSE = mean_squared_error(y_test,test_predictions)\n",
    "RMSE = np.sqrt(MSE)"
   ]
  },
  {
   "cell_type": "code",
   "execution_count": 123,
   "id": "5b9b87d7",
   "metadata": {},
   "outputs": [
    {
     "data": {
      "text/plain": [
       "(19.53448275862069, 26.436245294391956)"
      ]
     },
     "execution_count": 123,
     "metadata": {},
     "output_type": "execute_result"
    }
   ],
   "source": [
    "MAE,RMSE"
   ]
  },
  {
   "cell_type": "code",
   "execution_count": 124,
   "id": "76c03dfa",
   "metadata": {},
   "outputs": [
    {
     "name": "stdout",
     "output_type": "stream",
     "text": [
      "Accuracy of knn regressor on test set: 0.81\n"
     ]
    }
   ],
   "source": [
    "print('Accuracy of knn regressor on test set: {:.2f}'.format(model_knn.score(X_test, y_test)))"
   ]
  },
  {
   "cell_type": "markdown",
   "id": "fca6b2f7",
   "metadata": {},
   "source": [
    "## Support Vector Regression"
   ]
  },
  {
   "cell_type": "code",
   "execution_count": 125,
   "id": "7f9e8349",
   "metadata": {},
   "outputs": [],
   "source": [
    "#create a hypothetical hyperplane that maximizes the margin\n",
    "#choose linear kernel\n",
    "from sklearn.svm import SVR"
   ]
  },
  {
   "cell_type": "code",
   "execution_count": 126,
   "id": "b8959b7b",
   "metadata": {},
   "outputs": [],
   "source": [
    "base_model = SVR()"
   ]
  },
  {
   "cell_type": "code",
   "execution_count": 127,
   "id": "70346603",
   "metadata": {},
   "outputs": [
    {
     "data": {
      "text/plain": [
       "SVR()"
      ]
     },
     "execution_count": 127,
     "metadata": {},
     "output_type": "execute_result"
    }
   ],
   "source": [
    "base_model.fit(scaled_X_train,y_train)"
   ]
  },
  {
   "cell_type": "code",
   "execution_count": 128,
   "id": "86d74b72",
   "metadata": {},
   "outputs": [],
   "source": [
    "base_preds = base_model.predict(scaled_X_test)"
   ]
  },
  {
   "cell_type": "code",
   "execution_count": 129,
   "id": "373768f6",
   "metadata": {},
   "outputs": [
    {
     "data": {
      "text/plain": [
       "23.42771761198186"
      ]
     },
     "execution_count": 129,
     "metadata": {},
     "output_type": "execute_result"
    }
   ],
   "source": [
    "mean_absolute_error(y_test,base_preds)"
   ]
  },
  {
   "cell_type": "code",
   "execution_count": 130,
   "id": "25934e70",
   "metadata": {},
   "outputs": [
    {
     "data": {
      "text/plain": [
       "32.10741245024187"
      ]
     },
     "execution_count": 130,
     "metadata": {},
     "output_type": "execute_result"
    }
   ],
   "source": [
    "np.sqrt(mean_squared_error(y_test,base_preds))"
   ]
  },
  {
   "cell_type": "code",
   "execution_count": 131,
   "id": "6b89ac9e",
   "metadata": {},
   "outputs": [],
   "source": [
    "param_grid = {'C':[10, 100,200],\n",
    "             'kernel':['linear'],\n",
    "              'degree':[2,3,4],\n",
    "              'gamma':[1,0.1,0.01],\n",
    "              'epsilon':[0.1,0.5,1]}"
   ]
  },
  {
   "cell_type": "code",
   "execution_count": 132,
   "id": "3f8f116b",
   "metadata": {},
   "outputs": [],
   "source": [
    "from sklearn.model_selection import GridSearchCV"
   ]
  },
  {
   "cell_type": "code",
   "execution_count": 133,
   "id": "933196bb",
   "metadata": {},
   "outputs": [],
   "source": [
    "svr = SVR()\n",
    "grid_model = GridSearchCV(estimator=svr,param_grid=param_grid,scoring='neg_mean_squared_error',\n",
    "                          cv=5,\n",
    "                          verbose=2)"
   ]
  },
  {
   "cell_type": "code",
   "execution_count": 134,
   "id": "936731dd",
   "metadata": {},
   "outputs": [
    {
     "name": "stdout",
     "output_type": "stream",
     "text": [
      "Fitting 5 folds for each of 81 candidates, totalling 405 fits\n",
      "[CV] END C=10, degree=2, epsilon=0.1, gamma=1, kernel=linear; total time=   0.5s\n",
      "[CV] END C=10, degree=2, epsilon=0.1, gamma=1, kernel=linear; total time=   0.5s\n",
      "[CV] END C=10, degree=2, epsilon=0.1, gamma=1, kernel=linear; total time=   0.5s\n",
      "[CV] END C=10, degree=2, epsilon=0.1, gamma=1, kernel=linear; total time=   0.5s\n",
      "[CV] END C=10, degree=2, epsilon=0.1, gamma=1, kernel=linear; total time=   0.5s\n",
      "[CV] END C=10, degree=2, epsilon=0.1, gamma=0.1, kernel=linear; total time=   0.5s\n",
      "[CV] END C=10, degree=2, epsilon=0.1, gamma=0.1, kernel=linear; total time=   0.5s\n",
      "[CV] END C=10, degree=2, epsilon=0.1, gamma=0.1, kernel=linear; total time=   0.5s\n",
      "[CV] END C=10, degree=2, epsilon=0.1, gamma=0.1, kernel=linear; total time=   0.5s\n",
      "[CV] END C=10, degree=2, epsilon=0.1, gamma=0.1, kernel=linear; total time=   0.5s\n",
      "[CV] END C=10, degree=2, epsilon=0.1, gamma=0.01, kernel=linear; total time=   0.5s\n",
      "[CV] END C=10, degree=2, epsilon=0.1, gamma=0.01, kernel=linear; total time=   0.5s\n",
      "[CV] END C=10, degree=2, epsilon=0.1, gamma=0.01, kernel=linear; total time=   0.5s\n",
      "[CV] END C=10, degree=2, epsilon=0.1, gamma=0.01, kernel=linear; total time=   0.6s\n",
      "[CV] END C=10, degree=2, epsilon=0.1, gamma=0.01, kernel=linear; total time=   0.5s\n",
      "[CV] END C=10, degree=2, epsilon=0.5, gamma=1, kernel=linear; total time=   0.5s\n",
      "[CV] END C=10, degree=2, epsilon=0.5, gamma=1, kernel=linear; total time=   0.5s\n",
      "[CV] END C=10, degree=2, epsilon=0.5, gamma=1, kernel=linear; total time=   0.5s\n",
      "[CV] END C=10, degree=2, epsilon=0.5, gamma=1, kernel=linear; total time=   0.5s\n",
      "[CV] END C=10, degree=2, epsilon=0.5, gamma=1, kernel=linear; total time=   0.5s\n",
      "[CV] END C=10, degree=2, epsilon=0.5, gamma=0.1, kernel=linear; total time=   0.5s\n",
      "[CV] END C=10, degree=2, epsilon=0.5, gamma=0.1, kernel=linear; total time=   0.5s\n",
      "[CV] END C=10, degree=2, epsilon=0.5, gamma=0.1, kernel=linear; total time=   0.5s\n",
      "[CV] END C=10, degree=2, epsilon=0.5, gamma=0.1, kernel=linear; total time=   0.5s\n",
      "[CV] END C=10, degree=2, epsilon=0.5, gamma=0.1, kernel=linear; total time=   0.5s\n",
      "[CV] END C=10, degree=2, epsilon=0.5, gamma=0.01, kernel=linear; total time=   0.5s\n",
      "[CV] END C=10, degree=2, epsilon=0.5, gamma=0.01, kernel=linear; total time=   0.5s\n",
      "[CV] END C=10, degree=2, epsilon=0.5, gamma=0.01, kernel=linear; total time=   0.5s\n",
      "[CV] END C=10, degree=2, epsilon=0.5, gamma=0.01, kernel=linear; total time=   0.5s\n",
      "[CV] END C=10, degree=2, epsilon=0.5, gamma=0.01, kernel=linear; total time=   0.5s\n",
      "[CV] END ..C=10, degree=2, epsilon=1, gamma=1, kernel=linear; total time=   0.5s\n",
      "[CV] END ..C=10, degree=2, epsilon=1, gamma=1, kernel=linear; total time=   0.5s\n",
      "[CV] END ..C=10, degree=2, epsilon=1, gamma=1, kernel=linear; total time=   0.5s\n",
      "[CV] END ..C=10, degree=2, epsilon=1, gamma=1, kernel=linear; total time=   0.5s\n",
      "[CV] END ..C=10, degree=2, epsilon=1, gamma=1, kernel=linear; total time=   0.5s\n",
      "[CV] END C=10, degree=2, epsilon=1, gamma=0.1, kernel=linear; total time=   0.5s\n",
      "[CV] END C=10, degree=2, epsilon=1, gamma=0.1, kernel=linear; total time=   0.5s\n",
      "[CV] END C=10, degree=2, epsilon=1, gamma=0.1, kernel=linear; total time=   0.5s\n",
      "[CV] END C=10, degree=2, epsilon=1, gamma=0.1, kernel=linear; total time=   0.5s\n",
      "[CV] END C=10, degree=2, epsilon=1, gamma=0.1, kernel=linear; total time=   0.5s\n",
      "[CV] END C=10, degree=2, epsilon=1, gamma=0.01, kernel=linear; total time=   0.5s\n",
      "[CV] END C=10, degree=2, epsilon=1, gamma=0.01, kernel=linear; total time=   0.5s\n",
      "[CV] END C=10, degree=2, epsilon=1, gamma=0.01, kernel=linear; total time=   0.5s\n",
      "[CV] END C=10, degree=2, epsilon=1, gamma=0.01, kernel=linear; total time=   0.5s\n",
      "[CV] END C=10, degree=2, epsilon=1, gamma=0.01, kernel=linear; total time=   0.5s\n",
      "[CV] END C=10, degree=3, epsilon=0.1, gamma=1, kernel=linear; total time=   0.5s\n",
      "[CV] END C=10, degree=3, epsilon=0.1, gamma=1, kernel=linear; total time=   0.5s\n",
      "[CV] END C=10, degree=3, epsilon=0.1, gamma=1, kernel=linear; total time=   0.5s\n",
      "[CV] END C=10, degree=3, epsilon=0.1, gamma=1, kernel=linear; total time=   0.5s\n",
      "[CV] END C=10, degree=3, epsilon=0.1, gamma=1, kernel=linear; total time=   0.5s\n",
      "[CV] END C=10, degree=3, epsilon=0.1, gamma=0.1, kernel=linear; total time=   0.5s\n",
      "[CV] END C=10, degree=3, epsilon=0.1, gamma=0.1, kernel=linear; total time=   0.5s\n",
      "[CV] END C=10, degree=3, epsilon=0.1, gamma=0.1, kernel=linear; total time=   0.5s\n",
      "[CV] END C=10, degree=3, epsilon=0.1, gamma=0.1, kernel=linear; total time=   0.5s\n",
      "[CV] END C=10, degree=3, epsilon=0.1, gamma=0.1, kernel=linear; total time=   0.5s\n",
      "[CV] END C=10, degree=3, epsilon=0.1, gamma=0.01, kernel=linear; total time=   0.5s\n",
      "[CV] END C=10, degree=3, epsilon=0.1, gamma=0.01, kernel=linear; total time=   0.5s\n",
      "[CV] END C=10, degree=3, epsilon=0.1, gamma=0.01, kernel=linear; total time=   0.5s\n",
      "[CV] END C=10, degree=3, epsilon=0.1, gamma=0.01, kernel=linear; total time=   0.5s\n",
      "[CV] END C=10, degree=3, epsilon=0.1, gamma=0.01, kernel=linear; total time=   0.5s\n",
      "[CV] END C=10, degree=3, epsilon=0.5, gamma=1, kernel=linear; total time=   0.5s\n",
      "[CV] END C=10, degree=3, epsilon=0.5, gamma=1, kernel=linear; total time=   0.5s\n",
      "[CV] END C=10, degree=3, epsilon=0.5, gamma=1, kernel=linear; total time=   0.5s\n",
      "[CV] END C=10, degree=3, epsilon=0.5, gamma=1, kernel=linear; total time=   0.5s\n",
      "[CV] END C=10, degree=3, epsilon=0.5, gamma=1, kernel=linear; total time=   0.5s\n",
      "[CV] END C=10, degree=3, epsilon=0.5, gamma=0.1, kernel=linear; total time=   0.5s\n",
      "[CV] END C=10, degree=3, epsilon=0.5, gamma=0.1, kernel=linear; total time=   0.5s\n",
      "[CV] END C=10, degree=3, epsilon=0.5, gamma=0.1, kernel=linear; total time=   0.5s\n",
      "[CV] END C=10, degree=3, epsilon=0.5, gamma=0.1, kernel=linear; total time=   0.5s\n",
      "[CV] END C=10, degree=3, epsilon=0.5, gamma=0.1, kernel=linear; total time=   0.5s\n",
      "[CV] END C=10, degree=3, epsilon=0.5, gamma=0.01, kernel=linear; total time=   0.5s\n",
      "[CV] END C=10, degree=3, epsilon=0.5, gamma=0.01, kernel=linear; total time=   0.5s\n",
      "[CV] END C=10, degree=3, epsilon=0.5, gamma=0.01, kernel=linear; total time=   0.5s\n",
      "[CV] END C=10, degree=3, epsilon=0.5, gamma=0.01, kernel=linear; total time=   0.5s\n",
      "[CV] END C=10, degree=3, epsilon=0.5, gamma=0.01, kernel=linear; total time=   0.5s\n",
      "[CV] END ..C=10, degree=3, epsilon=1, gamma=1, kernel=linear; total time=   0.5s\n",
      "[CV] END ..C=10, degree=3, epsilon=1, gamma=1, kernel=linear; total time=   0.5s\n",
      "[CV] END ..C=10, degree=3, epsilon=1, gamma=1, kernel=linear; total time=   0.5s\n",
      "[CV] END ..C=10, degree=3, epsilon=1, gamma=1, kernel=linear; total time=   0.5s\n",
      "[CV] END ..C=10, degree=3, epsilon=1, gamma=1, kernel=linear; total time=   0.5s\n",
      "[CV] END C=10, degree=3, epsilon=1, gamma=0.1, kernel=linear; total time=   0.5s\n",
      "[CV] END C=10, degree=3, epsilon=1, gamma=0.1, kernel=linear; total time=   0.5s\n",
      "[CV] END C=10, degree=3, epsilon=1, gamma=0.1, kernel=linear; total time=   0.5s\n",
      "[CV] END C=10, degree=3, epsilon=1, gamma=0.1, kernel=linear; total time=   0.5s\n",
      "[CV] END C=10, degree=3, epsilon=1, gamma=0.1, kernel=linear; total time=   0.5s\n",
      "[CV] END C=10, degree=3, epsilon=1, gamma=0.01, kernel=linear; total time=   0.5s\n",
      "[CV] END C=10, degree=3, epsilon=1, gamma=0.01, kernel=linear; total time=   0.5s\n",
      "[CV] END C=10, degree=3, epsilon=1, gamma=0.01, kernel=linear; total time=   0.5s\n",
      "[CV] END C=10, degree=3, epsilon=1, gamma=0.01, kernel=linear; total time=   0.5s\n",
      "[CV] END C=10, degree=3, epsilon=1, gamma=0.01, kernel=linear; total time=   0.5s\n",
      "[CV] END C=10, degree=4, epsilon=0.1, gamma=1, kernel=linear; total time=   0.5s\n",
      "[CV] END C=10, degree=4, epsilon=0.1, gamma=1, kernel=linear; total time=   0.5s\n",
      "[CV] END C=10, degree=4, epsilon=0.1, gamma=1, kernel=linear; total time=   0.5s\n",
      "[CV] END C=10, degree=4, epsilon=0.1, gamma=1, kernel=linear; total time=   0.5s\n",
      "[CV] END C=10, degree=4, epsilon=0.1, gamma=1, kernel=linear; total time=   0.5s\n",
      "[CV] END C=10, degree=4, epsilon=0.1, gamma=0.1, kernel=linear; total time=   0.5s\n",
      "[CV] END C=10, degree=4, epsilon=0.1, gamma=0.1, kernel=linear; total time=   0.5s\n",
      "[CV] END C=10, degree=4, epsilon=0.1, gamma=0.1, kernel=linear; total time=   0.5s\n",
      "[CV] END C=10, degree=4, epsilon=0.1, gamma=0.1, kernel=linear; total time=   0.5s\n",
      "[CV] END C=10, degree=4, epsilon=0.1, gamma=0.1, kernel=linear; total time=   0.5s\n",
      "[CV] END C=10, degree=4, epsilon=0.1, gamma=0.01, kernel=linear; total time=   0.5s\n",
      "[CV] END C=10, degree=4, epsilon=0.1, gamma=0.01, kernel=linear; total time=   0.5s\n",
      "[CV] END C=10, degree=4, epsilon=0.1, gamma=0.01, kernel=linear; total time=   0.5s\n",
      "[CV] END C=10, degree=4, epsilon=0.1, gamma=0.01, kernel=linear; total time=   0.5s\n",
      "[CV] END C=10, degree=4, epsilon=0.1, gamma=0.01, kernel=linear; total time=   0.5s\n",
      "[CV] END C=10, degree=4, epsilon=0.5, gamma=1, kernel=linear; total time=   0.5s\n",
      "[CV] END C=10, degree=4, epsilon=0.5, gamma=1, kernel=linear; total time=   0.5s\n",
      "[CV] END C=10, degree=4, epsilon=0.5, gamma=1, kernel=linear; total time=   0.5s\n",
      "[CV] END C=10, degree=4, epsilon=0.5, gamma=1, kernel=linear; total time=   0.5s\n",
      "[CV] END C=10, degree=4, epsilon=0.5, gamma=1, kernel=linear; total time=   0.5s\n",
      "[CV] END C=10, degree=4, epsilon=0.5, gamma=0.1, kernel=linear; total time=   0.5s\n",
      "[CV] END C=10, degree=4, epsilon=0.5, gamma=0.1, kernel=linear; total time=   0.5s\n",
      "[CV] END C=10, degree=4, epsilon=0.5, gamma=0.1, kernel=linear; total time=   0.5s\n",
      "[CV] END C=10, degree=4, epsilon=0.5, gamma=0.1, kernel=linear; total time=   0.5s\n",
      "[CV] END C=10, degree=4, epsilon=0.5, gamma=0.1, kernel=linear; total time=   0.5s\n",
      "[CV] END C=10, degree=4, epsilon=0.5, gamma=0.01, kernel=linear; total time=   0.5s\n",
      "[CV] END C=10, degree=4, epsilon=0.5, gamma=0.01, kernel=linear; total time=   0.5s\n",
      "[CV] END C=10, degree=4, epsilon=0.5, gamma=0.01, kernel=linear; total time=   0.5s\n",
      "[CV] END C=10, degree=4, epsilon=0.5, gamma=0.01, kernel=linear; total time=   0.5s\n",
      "[CV] END C=10, degree=4, epsilon=0.5, gamma=0.01, kernel=linear; total time=   0.5s\n",
      "[CV] END ..C=10, degree=4, epsilon=1, gamma=1, kernel=linear; total time=   0.5s\n",
      "[CV] END ..C=10, degree=4, epsilon=1, gamma=1, kernel=linear; total time=   0.5s\n",
      "[CV] END ..C=10, degree=4, epsilon=1, gamma=1, kernel=linear; total time=   0.5s\n",
      "[CV] END ..C=10, degree=4, epsilon=1, gamma=1, kernel=linear; total time=   0.5s\n",
      "[CV] END ..C=10, degree=4, epsilon=1, gamma=1, kernel=linear; total time=   0.5s\n",
      "[CV] END C=10, degree=4, epsilon=1, gamma=0.1, kernel=linear; total time=   0.5s\n",
      "[CV] END C=10, degree=4, epsilon=1, gamma=0.1, kernel=linear; total time=   0.5s\n",
      "[CV] END C=10, degree=4, epsilon=1, gamma=0.1, kernel=linear; total time=   0.5s\n",
      "[CV] END C=10, degree=4, epsilon=1, gamma=0.1, kernel=linear; total time=   0.5s\n",
      "[CV] END C=10, degree=4, epsilon=1, gamma=0.1, kernel=linear; total time=   0.5s\n",
      "[CV] END C=10, degree=4, epsilon=1, gamma=0.01, kernel=linear; total time=   0.5s\n",
      "[CV] END C=10, degree=4, epsilon=1, gamma=0.01, kernel=linear; total time=   0.5s\n",
      "[CV] END C=10, degree=4, epsilon=1, gamma=0.01, kernel=linear; total time=   0.5s\n",
      "[CV] END C=10, degree=4, epsilon=1, gamma=0.01, kernel=linear; total time=   0.5s\n",
      "[CV] END C=10, degree=4, epsilon=1, gamma=0.01, kernel=linear; total time=   0.5s\n",
      "[CV] END C=100, degree=2, epsilon=0.1, gamma=1, kernel=linear; total time=   0.7s\n",
      "[CV] END C=100, degree=2, epsilon=0.1, gamma=1, kernel=linear; total time=   0.8s\n",
      "[CV] END C=100, degree=2, epsilon=0.1, gamma=1, kernel=linear; total time=   0.7s\n",
      "[CV] END C=100, degree=2, epsilon=0.1, gamma=1, kernel=linear; total time=   0.7s\n",
      "[CV] END C=100, degree=2, epsilon=0.1, gamma=1, kernel=linear; total time=   1.4s\n",
      "[CV] END C=100, degree=2, epsilon=0.1, gamma=0.1, kernel=linear; total time=   0.7s\n",
      "[CV] END C=100, degree=2, epsilon=0.1, gamma=0.1, kernel=linear; total time=   0.8s\n",
      "[CV] END C=100, degree=2, epsilon=0.1, gamma=0.1, kernel=linear; total time=   0.7s\n",
      "[CV] END C=100, degree=2, epsilon=0.1, gamma=0.1, kernel=linear; total time=   0.7s\n",
      "[CV] END C=100, degree=2, epsilon=0.1, gamma=0.1, kernel=linear; total time=   1.4s\n",
      "[CV] END C=100, degree=2, epsilon=0.1, gamma=0.01, kernel=linear; total time=   0.7s\n",
      "[CV] END C=100, degree=2, epsilon=0.1, gamma=0.01, kernel=linear; total time=   0.8s\n",
      "[CV] END C=100, degree=2, epsilon=0.1, gamma=0.01, kernel=linear; total time=   0.7s\n",
      "[CV] END C=100, degree=2, epsilon=0.1, gamma=0.01, kernel=linear; total time=   0.7s\n",
      "[CV] END C=100, degree=2, epsilon=0.1, gamma=0.01, kernel=linear; total time=   1.4s\n",
      "[CV] END C=100, degree=2, epsilon=0.5, gamma=1, kernel=linear; total time=   0.7s\n",
      "[CV] END C=100, degree=2, epsilon=0.5, gamma=1, kernel=linear; total time=   0.7s\n",
      "[CV] END C=100, degree=2, epsilon=0.5, gamma=1, kernel=linear; total time=   0.8s\n",
      "[CV] END C=100, degree=2, epsilon=0.5, gamma=1, kernel=linear; total time=   0.7s\n",
      "[CV] END C=100, degree=2, epsilon=0.5, gamma=1, kernel=linear; total time=   0.7s\n",
      "[CV] END C=100, degree=2, epsilon=0.5, gamma=0.1, kernel=linear; total time=   0.7s\n",
      "[CV] END C=100, degree=2, epsilon=0.5, gamma=0.1, kernel=linear; total time=   0.7s\n",
      "[CV] END C=100, degree=2, epsilon=0.5, gamma=0.1, kernel=linear; total time=   0.8s\n",
      "[CV] END C=100, degree=2, epsilon=0.5, gamma=0.1, kernel=linear; total time=   0.8s\n",
      "[CV] END C=100, degree=2, epsilon=0.5, gamma=0.1, kernel=linear; total time=   0.7s\n",
      "[CV] END C=100, degree=2, epsilon=0.5, gamma=0.01, kernel=linear; total time=   0.7s\n",
      "[CV] END C=100, degree=2, epsilon=0.5, gamma=0.01, kernel=linear; total time=   0.7s\n",
      "[CV] END C=100, degree=2, epsilon=0.5, gamma=0.01, kernel=linear; total time=   0.8s\n",
      "[CV] END C=100, degree=2, epsilon=0.5, gamma=0.01, kernel=linear; total time=   0.8s\n",
      "[CV] END C=100, degree=2, epsilon=0.5, gamma=0.01, kernel=linear; total time=   0.7s\n",
      "[CV] END .C=100, degree=2, epsilon=1, gamma=1, kernel=linear; total time=   0.9s\n",
      "[CV] END .C=100, degree=2, epsilon=1, gamma=1, kernel=linear; total time=   0.6s\n",
      "[CV] END .C=100, degree=2, epsilon=1, gamma=1, kernel=linear; total time=   0.7s\n",
      "[CV] END .C=100, degree=2, epsilon=1, gamma=1, kernel=linear; total time=   0.7s\n",
      "[CV] END .C=100, degree=2, epsilon=1, gamma=1, kernel=linear; total time=   0.7s\n",
      "[CV] END C=100, degree=2, epsilon=1, gamma=0.1, kernel=linear; total time=   0.9s\n",
      "[CV] END C=100, degree=2, epsilon=1, gamma=0.1, kernel=linear; total time=   0.7s\n",
      "[CV] END C=100, degree=2, epsilon=1, gamma=0.1, kernel=linear; total time=   0.7s\n",
      "[CV] END C=100, degree=2, epsilon=1, gamma=0.1, kernel=linear; total time=   0.6s\n",
      "[CV] END C=100, degree=2, epsilon=1, gamma=0.1, kernel=linear; total time=   0.7s\n",
      "[CV] END C=100, degree=2, epsilon=1, gamma=0.01, kernel=linear; total time=   0.9s\n",
      "[CV] END C=100, degree=2, epsilon=1, gamma=0.01, kernel=linear; total time=   0.7s\n",
      "[CV] END C=100, degree=2, epsilon=1, gamma=0.01, kernel=linear; total time=   0.7s\n",
      "[CV] END C=100, degree=2, epsilon=1, gamma=0.01, kernel=linear; total time=   0.7s\n",
      "[CV] END C=100, degree=2, epsilon=1, gamma=0.01, kernel=linear; total time=   0.7s\n",
      "[CV] END C=100, degree=3, epsilon=0.1, gamma=1, kernel=linear; total time=   0.7s\n",
      "[CV] END C=100, degree=3, epsilon=0.1, gamma=1, kernel=linear; total time=   0.8s\n",
      "[CV] END C=100, degree=3, epsilon=0.1, gamma=1, kernel=linear; total time=   0.7s\n",
      "[CV] END C=100, degree=3, epsilon=0.1, gamma=1, kernel=linear; total time=   0.7s\n",
      "[CV] END C=100, degree=3, epsilon=0.1, gamma=1, kernel=linear; total time=   1.4s\n",
      "[CV] END C=100, degree=3, epsilon=0.1, gamma=0.1, kernel=linear; total time=   0.7s\n",
      "[CV] END C=100, degree=3, epsilon=0.1, gamma=0.1, kernel=linear; total time=   0.8s\n",
      "[CV] END C=100, degree=3, epsilon=0.1, gamma=0.1, kernel=linear; total time=   0.7s\n",
      "[CV] END C=100, degree=3, epsilon=0.1, gamma=0.1, kernel=linear; total time=   0.7s\n",
      "[CV] END C=100, degree=3, epsilon=0.1, gamma=0.1, kernel=linear; total time=   1.4s\n",
      "[CV] END C=100, degree=3, epsilon=0.1, gamma=0.01, kernel=linear; total time=   0.7s\n",
      "[CV] END C=100, degree=3, epsilon=0.1, gamma=0.01, kernel=linear; total time=   0.8s\n",
      "[CV] END C=100, degree=3, epsilon=0.1, gamma=0.01, kernel=linear; total time=   0.7s\n",
      "[CV] END C=100, degree=3, epsilon=0.1, gamma=0.01, kernel=linear; total time=   0.7s\n",
      "[CV] END C=100, degree=3, epsilon=0.1, gamma=0.01, kernel=linear; total time=   1.4s\n",
      "[CV] END C=100, degree=3, epsilon=0.5, gamma=1, kernel=linear; total time=   0.7s\n",
      "[CV] END C=100, degree=3, epsilon=0.5, gamma=1, kernel=linear; total time=   0.7s\n",
      "[CV] END C=100, degree=3, epsilon=0.5, gamma=1, kernel=linear; total time=   0.8s\n",
      "[CV] END C=100, degree=3, epsilon=0.5, gamma=1, kernel=linear; total time=   0.8s\n",
      "[CV] END C=100, degree=3, epsilon=0.5, gamma=1, kernel=linear; total time=   0.7s\n",
      "[CV] END C=100, degree=3, epsilon=0.5, gamma=0.1, kernel=linear; total time=   0.7s\n",
      "[CV] END C=100, degree=3, epsilon=0.5, gamma=0.1, kernel=linear; total time=   0.7s\n",
      "[CV] END C=100, degree=3, epsilon=0.5, gamma=0.1, kernel=linear; total time=   0.8s\n",
      "[CV] END C=100, degree=3, epsilon=0.5, gamma=0.1, kernel=linear; total time=   0.8s\n",
      "[CV] END C=100, degree=3, epsilon=0.5, gamma=0.1, kernel=linear; total time=   0.7s\n",
      "[CV] END C=100, degree=3, epsilon=0.5, gamma=0.01, kernel=linear; total time=   0.7s\n",
      "[CV] END C=100, degree=3, epsilon=0.5, gamma=0.01, kernel=linear; total time=   0.7s\n",
      "[CV] END C=100, degree=3, epsilon=0.5, gamma=0.01, kernel=linear; total time=   0.8s\n",
      "[CV] END C=100, degree=3, epsilon=0.5, gamma=0.01, kernel=linear; total time=   0.8s\n",
      "[CV] END C=100, degree=3, epsilon=0.5, gamma=0.01, kernel=linear; total time=   0.7s\n",
      "[CV] END .C=100, degree=3, epsilon=1, gamma=1, kernel=linear; total time=   0.9s\n",
      "[CV] END .C=100, degree=3, epsilon=1, gamma=1, kernel=linear; total time=   0.6s\n",
      "[CV] END .C=100, degree=3, epsilon=1, gamma=1, kernel=linear; total time=   0.7s\n",
      "[CV] END .C=100, degree=3, epsilon=1, gamma=1, kernel=linear; total time=   0.7s\n",
      "[CV] END .C=100, degree=3, epsilon=1, gamma=1, kernel=linear; total time=   0.7s\n",
      "[CV] END C=100, degree=3, epsilon=1, gamma=0.1, kernel=linear; total time=   0.9s\n",
      "[CV] END C=100, degree=3, epsilon=1, gamma=0.1, kernel=linear; total time=   0.6s\n",
      "[CV] END C=100, degree=3, epsilon=1, gamma=0.1, kernel=linear; total time=   0.7s\n",
      "[CV] END C=100, degree=3, epsilon=1, gamma=0.1, kernel=linear; total time=   0.7s\n",
      "[CV] END C=100, degree=3, epsilon=1, gamma=0.1, kernel=linear; total time=   0.7s\n",
      "[CV] END C=100, degree=3, epsilon=1, gamma=0.01, kernel=linear; total time=   0.9s\n",
      "[CV] END C=100, degree=3, epsilon=1, gamma=0.01, kernel=linear; total time=   0.7s\n",
      "[CV] END C=100, degree=3, epsilon=1, gamma=0.01, kernel=linear; total time=   0.7s\n",
      "[CV] END C=100, degree=3, epsilon=1, gamma=0.01, kernel=linear; total time=   0.7s\n",
      "[CV] END C=100, degree=3, epsilon=1, gamma=0.01, kernel=linear; total time=   0.7s\n",
      "[CV] END C=100, degree=4, epsilon=0.1, gamma=1, kernel=linear; total time=   0.7s\n",
      "[CV] END C=100, degree=4, epsilon=0.1, gamma=1, kernel=linear; total time=   0.7s\n",
      "[CV] END C=100, degree=4, epsilon=0.1, gamma=1, kernel=linear; total time=   0.7s\n",
      "[CV] END C=100, degree=4, epsilon=0.1, gamma=1, kernel=linear; total time=   0.7s\n",
      "[CV] END C=100, degree=4, epsilon=0.1, gamma=1, kernel=linear; total time=   1.4s\n",
      "[CV] END C=100, degree=4, epsilon=0.1, gamma=0.1, kernel=linear; total time=   0.7s\n",
      "[CV] END C=100, degree=4, epsilon=0.1, gamma=0.1, kernel=linear; total time=   0.7s\n",
      "[CV] END C=100, degree=4, epsilon=0.1, gamma=0.1, kernel=linear; total time=   0.7s\n",
      "[CV] END C=100, degree=4, epsilon=0.1, gamma=0.1, kernel=linear; total time=   0.7s\n",
      "[CV] END C=100, degree=4, epsilon=0.1, gamma=0.1, kernel=linear; total time=   1.4s\n",
      "[CV] END C=100, degree=4, epsilon=0.1, gamma=0.01, kernel=linear; total time=   0.7s\n",
      "[CV] END C=100, degree=4, epsilon=0.1, gamma=0.01, kernel=linear; total time=   0.8s\n",
      "[CV] END C=100, degree=4, epsilon=0.1, gamma=0.01, kernel=linear; total time=   0.7s\n",
      "[CV] END C=100, degree=4, epsilon=0.1, gamma=0.01, kernel=linear; total time=   0.7s\n",
      "[CV] END C=100, degree=4, epsilon=0.1, gamma=0.01, kernel=linear; total time=   1.4s\n",
      "[CV] END C=100, degree=4, epsilon=0.5, gamma=1, kernel=linear; total time=   0.7s\n",
      "[CV] END C=100, degree=4, epsilon=0.5, gamma=1, kernel=linear; total time=   0.7s\n",
      "[CV] END C=100, degree=4, epsilon=0.5, gamma=1, kernel=linear; total time=   0.8s\n",
      "[CV] END C=100, degree=4, epsilon=0.5, gamma=1, kernel=linear; total time=   0.8s\n",
      "[CV] END C=100, degree=4, epsilon=0.5, gamma=1, kernel=linear; total time=   0.7s\n",
      "[CV] END C=100, degree=4, epsilon=0.5, gamma=0.1, kernel=linear; total time=   0.7s\n",
      "[CV] END C=100, degree=4, epsilon=0.5, gamma=0.1, kernel=linear; total time=   0.7s\n",
      "[CV] END C=100, degree=4, epsilon=0.5, gamma=0.1, kernel=linear; total time=   0.8s\n",
      "[CV] END C=100, degree=4, epsilon=0.5, gamma=0.1, kernel=linear; total time=   0.8s\n",
      "[CV] END C=100, degree=4, epsilon=0.5, gamma=0.1, kernel=linear; total time=   0.7s\n",
      "[CV] END C=100, degree=4, epsilon=0.5, gamma=0.01, kernel=linear; total time=   0.7s\n",
      "[CV] END C=100, degree=4, epsilon=0.5, gamma=0.01, kernel=linear; total time=   0.7s\n",
      "[CV] END C=100, degree=4, epsilon=0.5, gamma=0.01, kernel=linear; total time=   0.8s\n",
      "[CV] END C=100, degree=4, epsilon=0.5, gamma=0.01, kernel=linear; total time=   0.8s\n",
      "[CV] END C=100, degree=4, epsilon=0.5, gamma=0.01, kernel=linear; total time=   0.7s\n",
      "[CV] END .C=100, degree=4, epsilon=1, gamma=1, kernel=linear; total time=   0.9s\n",
      "[CV] END .C=100, degree=4, epsilon=1, gamma=1, kernel=linear; total time=   0.6s\n",
      "[CV] END .C=100, degree=4, epsilon=1, gamma=1, kernel=linear; total time=   0.7s\n",
      "[CV] END .C=100, degree=4, epsilon=1, gamma=1, kernel=linear; total time=   0.7s\n",
      "[CV] END .C=100, degree=4, epsilon=1, gamma=1, kernel=linear; total time=   0.7s\n",
      "[CV] END C=100, degree=4, epsilon=1, gamma=0.1, kernel=linear; total time=   1.0s\n",
      "[CV] END C=100, degree=4, epsilon=1, gamma=0.1, kernel=linear; total time=   0.7s\n",
      "[CV] END C=100, degree=4, epsilon=1, gamma=0.1, kernel=linear; total time=   0.7s\n",
      "[CV] END C=100, degree=4, epsilon=1, gamma=0.1, kernel=linear; total time=   0.7s\n",
      "[CV] END C=100, degree=4, epsilon=1, gamma=0.1, kernel=linear; total time=   0.7s\n",
      "[CV] END C=100, degree=4, epsilon=1, gamma=0.01, kernel=linear; total time=   0.9s\n",
      "[CV] END C=100, degree=4, epsilon=1, gamma=0.01, kernel=linear; total time=   0.6s\n",
      "[CV] END C=100, degree=4, epsilon=1, gamma=0.01, kernel=linear; total time=   0.7s\n",
      "[CV] END C=100, degree=4, epsilon=1, gamma=0.01, kernel=linear; total time=   0.7s\n",
      "[CV] END C=100, degree=4, epsilon=1, gamma=0.01, kernel=linear; total time=   0.7s\n",
      "[CV] END C=200, degree=2, epsilon=0.1, gamma=1, kernel=linear; total time=   0.8s\n",
      "[CV] END C=200, degree=2, epsilon=0.1, gamma=1, kernel=linear; total time=   1.0s\n",
      "[CV] END C=200, degree=2, epsilon=0.1, gamma=1, kernel=linear; total time=   0.8s\n",
      "[CV] END C=200, degree=2, epsilon=0.1, gamma=1, kernel=linear; total time=   0.8s\n",
      "[CV] END C=200, degree=2, epsilon=0.1, gamma=1, kernel=linear; total time=   0.9s\n",
      "[CV] END C=200, degree=2, epsilon=0.1, gamma=0.1, kernel=linear; total time=   0.8s\n",
      "[CV] END C=200, degree=2, epsilon=0.1, gamma=0.1, kernel=linear; total time=   1.0s\n",
      "[CV] END C=200, degree=2, epsilon=0.1, gamma=0.1, kernel=linear; total time=   0.8s\n",
      "[CV] END C=200, degree=2, epsilon=0.1, gamma=0.1, kernel=linear; total time=   0.8s\n",
      "[CV] END C=200, degree=2, epsilon=0.1, gamma=0.1, kernel=linear; total time=   0.9s\n",
      "[CV] END C=200, degree=2, epsilon=0.1, gamma=0.01, kernel=linear; total time=   0.8s\n",
      "[CV] END C=200, degree=2, epsilon=0.1, gamma=0.01, kernel=linear; total time=   1.0s\n",
      "[CV] END C=200, degree=2, epsilon=0.1, gamma=0.01, kernel=linear; total time=   0.8s\n",
      "[CV] END C=200, degree=2, epsilon=0.1, gamma=0.01, kernel=linear; total time=   0.8s\n",
      "[CV] END C=200, degree=2, epsilon=0.1, gamma=0.01, kernel=linear; total time=   0.9s\n",
      "[CV] END C=200, degree=2, epsilon=0.5, gamma=1, kernel=linear; total time=   0.8s\n",
      "[CV] END C=200, degree=2, epsilon=0.5, gamma=1, kernel=linear; total time=   0.8s\n",
      "[CV] END C=200, degree=2, epsilon=0.5, gamma=1, kernel=linear; total time=   0.9s\n",
      "[CV] END C=200, degree=2, epsilon=0.5, gamma=1, kernel=linear; total time=   0.9s\n",
      "[CV] END C=200, degree=2, epsilon=0.5, gamma=1, kernel=linear; total time=   0.9s\n",
      "[CV] END C=200, degree=2, epsilon=0.5, gamma=0.1, kernel=linear; total time=   0.8s\n",
      "[CV] END C=200, degree=2, epsilon=0.5, gamma=0.1, kernel=linear; total time=   0.8s\n",
      "[CV] END C=200, degree=2, epsilon=0.5, gamma=0.1, kernel=linear; total time=   1.0s\n",
      "[CV] END C=200, degree=2, epsilon=0.5, gamma=0.1, kernel=linear; total time=   0.9s\n",
      "[CV] END C=200, degree=2, epsilon=0.5, gamma=0.1, kernel=linear; total time=   0.8s\n",
      "[CV] END C=200, degree=2, epsilon=0.5, gamma=0.01, kernel=linear; total time=   0.8s\n",
      "[CV] END C=200, degree=2, epsilon=0.5, gamma=0.01, kernel=linear; total time=   0.8s\n",
      "[CV] END C=200, degree=2, epsilon=0.5, gamma=0.01, kernel=linear; total time=   0.9s\n",
      "[CV] END C=200, degree=2, epsilon=0.5, gamma=0.01, kernel=linear; total time=   1.0s\n",
      "[CV] END C=200, degree=2, epsilon=0.5, gamma=0.01, kernel=linear; total time=   0.8s\n",
      "[CV] END .C=200, degree=2, epsilon=1, gamma=1, kernel=linear; total time=   1.1s\n",
      "[CV] END .C=200, degree=2, epsilon=1, gamma=1, kernel=linear; total time=   0.9s\n",
      "[CV] END .C=200, degree=2, epsilon=1, gamma=1, kernel=linear; total time=   1.2s\n",
      "[CV] END .C=200, degree=2, epsilon=1, gamma=1, kernel=linear; total time=   1.1s\n",
      "[CV] END .C=200, degree=2, epsilon=1, gamma=1, kernel=linear; total time=   0.9s\n",
      "[CV] END C=200, degree=2, epsilon=1, gamma=0.1, kernel=linear; total time=   1.1s\n",
      "[CV] END C=200, degree=2, epsilon=1, gamma=0.1, kernel=linear; total time=   0.9s\n",
      "[CV] END C=200, degree=2, epsilon=1, gamma=0.1, kernel=linear; total time=   1.2s\n",
      "[CV] END C=200, degree=2, epsilon=1, gamma=0.1, kernel=linear; total time=   1.1s\n",
      "[CV] END C=200, degree=2, epsilon=1, gamma=0.1, kernel=linear; total time=   0.9s\n",
      "[CV] END C=200, degree=2, epsilon=1, gamma=0.01, kernel=linear; total time=   1.1s\n",
      "[CV] END C=200, degree=2, epsilon=1, gamma=0.01, kernel=linear; total time=   0.9s\n",
      "[CV] END C=200, degree=2, epsilon=1, gamma=0.01, kernel=linear; total time=   1.2s\n",
      "[CV] END C=200, degree=2, epsilon=1, gamma=0.01, kernel=linear; total time=   1.1s\n",
      "[CV] END C=200, degree=2, epsilon=1, gamma=0.01, kernel=linear; total time=   0.9s\n",
      "[CV] END C=200, degree=3, epsilon=0.1, gamma=1, kernel=linear; total time=   0.8s\n",
      "[CV] END C=200, degree=3, epsilon=0.1, gamma=1, kernel=linear; total time=   1.0s\n",
      "[CV] END C=200, degree=3, epsilon=0.1, gamma=1, kernel=linear; total time=   0.8s\n",
      "[CV] END C=200, degree=3, epsilon=0.1, gamma=1, kernel=linear; total time=   0.8s\n",
      "[CV] END C=200, degree=3, epsilon=0.1, gamma=1, kernel=linear; total time=   0.9s\n",
      "[CV] END C=200, degree=3, epsilon=0.1, gamma=0.1, kernel=linear; total time=   0.8s\n",
      "[CV] END C=200, degree=3, epsilon=0.1, gamma=0.1, kernel=linear; total time=   1.0s\n",
      "[CV] END C=200, degree=3, epsilon=0.1, gamma=0.1, kernel=linear; total time=   0.8s\n",
      "[CV] END C=200, degree=3, epsilon=0.1, gamma=0.1, kernel=linear; total time=   0.8s\n",
      "[CV] END C=200, degree=3, epsilon=0.1, gamma=0.1, kernel=linear; total time=   0.9s\n",
      "[CV] END C=200, degree=3, epsilon=0.1, gamma=0.01, kernel=linear; total time=   0.8s\n",
      "[CV] END C=200, degree=3, epsilon=0.1, gamma=0.01, kernel=linear; total time=   1.0s\n",
      "[CV] END C=200, degree=3, epsilon=0.1, gamma=0.01, kernel=linear; total time=   0.8s\n",
      "[CV] END C=200, degree=3, epsilon=0.1, gamma=0.01, kernel=linear; total time=   0.8s\n",
      "[CV] END C=200, degree=3, epsilon=0.1, gamma=0.01, kernel=linear; total time=   0.9s\n",
      "[CV] END C=200, degree=3, epsilon=0.5, gamma=1, kernel=linear; total time=   0.8s\n",
      "[CV] END C=200, degree=3, epsilon=0.5, gamma=1, kernel=linear; total time=   0.8s\n",
      "[CV] END C=200, degree=3, epsilon=0.5, gamma=1, kernel=linear; total time=   0.9s\n",
      "[CV] END C=200, degree=3, epsilon=0.5, gamma=1, kernel=linear; total time=   0.9s\n",
      "[CV] END C=200, degree=3, epsilon=0.5, gamma=1, kernel=linear; total time=   0.8s\n",
      "[CV] END C=200, degree=3, epsilon=0.5, gamma=0.1, kernel=linear; total time=   0.8s\n",
      "[CV] END C=200, degree=3, epsilon=0.5, gamma=0.1, kernel=linear; total time=   0.8s\n",
      "[CV] END C=200, degree=3, epsilon=0.5, gamma=0.1, kernel=linear; total time=   0.9s\n",
      "[CV] END C=200, degree=3, epsilon=0.5, gamma=0.1, kernel=linear; total time=   0.9s\n",
      "[CV] END C=200, degree=3, epsilon=0.5, gamma=0.1, kernel=linear; total time=   0.9s\n",
      "[CV] END C=200, degree=3, epsilon=0.5, gamma=0.01, kernel=linear; total time=   0.8s\n",
      "[CV] END C=200, degree=3, epsilon=0.5, gamma=0.01, kernel=linear; total time=   0.8s\n",
      "[CV] END C=200, degree=3, epsilon=0.5, gamma=0.01, kernel=linear; total time=   1.0s\n",
      "[CV] END C=200, degree=3, epsilon=0.5, gamma=0.01, kernel=linear; total time=   0.9s\n",
      "[CV] END C=200, degree=3, epsilon=0.5, gamma=0.01, kernel=linear; total time=   0.9s\n",
      "[CV] END .C=200, degree=3, epsilon=1, gamma=1, kernel=linear; total time=   1.1s\n",
      "[CV] END .C=200, degree=3, epsilon=1, gamma=1, kernel=linear; total time=   0.9s\n",
      "[CV] END .C=200, degree=3, epsilon=1, gamma=1, kernel=linear; total time=   1.2s\n",
      "[CV] END .C=200, degree=3, epsilon=1, gamma=1, kernel=linear; total time=   1.1s\n",
      "[CV] END .C=200, degree=3, epsilon=1, gamma=1, kernel=linear; total time=   0.9s\n",
      "[CV] END C=200, degree=3, epsilon=1, gamma=0.1, kernel=linear; total time=   1.0s\n",
      "[CV] END C=200, degree=3, epsilon=1, gamma=0.1, kernel=linear; total time=   0.9s\n",
      "[CV] END C=200, degree=3, epsilon=1, gamma=0.1, kernel=linear; total time=   1.2s\n",
      "[CV] END C=200, degree=3, epsilon=1, gamma=0.1, kernel=linear; total time=   1.0s\n",
      "[CV] END C=200, degree=3, epsilon=1, gamma=0.1, kernel=linear; total time=   0.9s\n",
      "[CV] END C=200, degree=3, epsilon=1, gamma=0.01, kernel=linear; total time=   1.0s\n",
      "[CV] END C=200, degree=3, epsilon=1, gamma=0.01, kernel=linear; total time=   0.9s\n",
      "[CV] END C=200, degree=3, epsilon=1, gamma=0.01, kernel=linear; total time=   1.2s\n",
      "[CV] END C=200, degree=3, epsilon=1, gamma=0.01, kernel=linear; total time=   1.1s\n",
      "[CV] END C=200, degree=3, epsilon=1, gamma=0.01, kernel=linear; total time=   0.9s\n",
      "[CV] END C=200, degree=4, epsilon=0.1, gamma=1, kernel=linear; total time=   0.8s\n",
      "[CV] END C=200, degree=4, epsilon=0.1, gamma=1, kernel=linear; total time=   1.0s\n",
      "[CV] END C=200, degree=4, epsilon=0.1, gamma=1, kernel=linear; total time=   0.8s\n",
      "[CV] END C=200, degree=4, epsilon=0.1, gamma=1, kernel=linear; total time=   0.8s\n",
      "[CV] END C=200, degree=4, epsilon=0.1, gamma=1, kernel=linear; total time=   0.9s\n",
      "[CV] END C=200, degree=4, epsilon=0.1, gamma=0.1, kernel=linear; total time=   0.8s\n",
      "[CV] END C=200, degree=4, epsilon=0.1, gamma=0.1, kernel=linear; total time=   1.0s\n",
      "[CV] END C=200, degree=4, epsilon=0.1, gamma=0.1, kernel=linear; total time=   0.8s\n",
      "[CV] END C=200, degree=4, epsilon=0.1, gamma=0.1, kernel=linear; total time=   0.8s\n",
      "[CV] END C=200, degree=4, epsilon=0.1, gamma=0.1, kernel=linear; total time=   0.9s\n",
      "[CV] END C=200, degree=4, epsilon=0.1, gamma=0.01, kernel=linear; total time=   0.8s\n",
      "[CV] END C=200, degree=4, epsilon=0.1, gamma=0.01, kernel=linear; total time=   1.0s\n",
      "[CV] END C=200, degree=4, epsilon=0.1, gamma=0.01, kernel=linear; total time=   0.8s\n",
      "[CV] END C=200, degree=4, epsilon=0.1, gamma=0.01, kernel=linear; total time=   0.8s\n",
      "[CV] END C=200, degree=4, epsilon=0.1, gamma=0.01, kernel=linear; total time=   0.9s\n",
      "[CV] END C=200, degree=4, epsilon=0.5, gamma=1, kernel=linear; total time=   0.8s\n",
      "[CV] END C=200, degree=4, epsilon=0.5, gamma=1, kernel=linear; total time=   0.8s\n",
      "[CV] END C=200, degree=4, epsilon=0.5, gamma=1, kernel=linear; total time=   0.9s\n",
      "[CV] END C=200, degree=4, epsilon=0.5, gamma=1, kernel=linear; total time=   0.9s\n",
      "[CV] END C=200, degree=4, epsilon=0.5, gamma=1, kernel=linear; total time=   0.9s\n",
      "[CV] END C=200, degree=4, epsilon=0.5, gamma=0.1, kernel=linear; total time=   0.8s\n",
      "[CV] END C=200, degree=4, epsilon=0.5, gamma=0.1, kernel=linear; total time=   0.8s\n",
      "[CV] END C=200, degree=4, epsilon=0.5, gamma=0.1, kernel=linear; total time=   1.0s\n",
      "[CV] END C=200, degree=4, epsilon=0.5, gamma=0.1, kernel=linear; total time=   1.0s\n",
      "[CV] END C=200, degree=4, epsilon=0.5, gamma=0.1, kernel=linear; total time=   0.9s\n",
      "[CV] END C=200, degree=4, epsilon=0.5, gamma=0.01, kernel=linear; total time=   0.8s\n",
      "[CV] END C=200, degree=4, epsilon=0.5, gamma=0.01, kernel=linear; total time=   0.8s\n",
      "[CV] END C=200, degree=4, epsilon=0.5, gamma=0.01, kernel=linear; total time=   0.9s\n",
      "[CV] END C=200, degree=4, epsilon=0.5, gamma=0.01, kernel=linear; total time=   1.0s\n",
      "[CV] END C=200, degree=4, epsilon=0.5, gamma=0.01, kernel=linear; total time=   0.9s\n",
      "[CV] END .C=200, degree=4, epsilon=1, gamma=1, kernel=linear; total time=   1.1s\n",
      "[CV] END .C=200, degree=4, epsilon=1, gamma=1, kernel=linear; total time=   0.9s\n",
      "[CV] END .C=200, degree=4, epsilon=1, gamma=1, kernel=linear; total time=   1.2s\n",
      "[CV] END .C=200, degree=4, epsilon=1, gamma=1, kernel=linear; total time=   1.1s\n",
      "[CV] END .C=200, degree=4, epsilon=1, gamma=1, kernel=linear; total time=   0.9s\n",
      "[CV] END C=200, degree=4, epsilon=1, gamma=0.1, kernel=linear; total time=   1.1s\n",
      "[CV] END C=200, degree=4, epsilon=1, gamma=0.1, kernel=linear; total time=   0.9s\n",
      "[CV] END C=200, degree=4, epsilon=1, gamma=0.1, kernel=linear; total time=   1.2s\n",
      "[CV] END C=200, degree=4, epsilon=1, gamma=0.1, kernel=linear; total time=   1.1s\n",
      "[CV] END C=200, degree=4, epsilon=1, gamma=0.1, kernel=linear; total time=   0.9s\n",
      "[CV] END C=200, degree=4, epsilon=1, gamma=0.01, kernel=linear; total time=   1.1s\n",
      "[CV] END C=200, degree=4, epsilon=1, gamma=0.01, kernel=linear; total time=   0.9s\n",
      "[CV] END C=200, degree=4, epsilon=1, gamma=0.01, kernel=linear; total time=   1.2s\n",
      "[CV] END C=200, degree=4, epsilon=1, gamma=0.01, kernel=linear; total time=   1.1s\n",
      "[CV] END C=200, degree=4, epsilon=1, gamma=0.01, kernel=linear; total time=   1.0s\n"
     ]
    },
    {
     "data": {
      "text/plain": [
       "GridSearchCV(cv=5, estimator=SVR(),\n",
       "             param_grid={'C': [10, 100, 200], 'degree': [2, 3, 4],\n",
       "                         'epsilon': [0.1, 0.5, 1], 'gamma': [1, 0.1, 0.01],\n",
       "                         'kernel': ['linear']},\n",
       "             scoring='neg_mean_squared_error', verbose=2)"
      ]
     },
     "execution_count": 134,
     "metadata": {},
     "output_type": "execute_result"
    }
   ],
   "source": [
    "grid_model.fit(scaled_X_train,y_train)"
   ]
  },
  {
   "cell_type": "code",
   "execution_count": 135,
   "id": "ef538a81",
   "metadata": {},
   "outputs": [
    {
     "data": {
      "text/plain": [
       "SVR(C=100, degree=2, epsilon=0.5, gamma=1, kernel='linear')"
      ]
     },
     "execution_count": 135,
     "metadata": {},
     "output_type": "execute_result"
    }
   ],
   "source": [
    "grid_model.best_estimator_"
   ]
  },
  {
   "cell_type": "code",
   "execution_count": 136,
   "id": "e2804f0a",
   "metadata": {},
   "outputs": [],
   "source": [
    "svm=SVR(C=100,degree=2,epsilon=0.5,kernel='linear')\n",
    "svm_model=svm.fit(scaled_X_train,y_train)\n",
    "result=svm.predict(scaled_X_test)"
   ]
  },
  {
   "cell_type": "code",
   "execution_count": 137,
   "id": "29e60ee3",
   "metadata": {},
   "outputs": [
    {
     "name": "stdout",
     "output_type": "stream",
     "text": [
      "Accuracy of SVM regression on test set: 0.75\n"
     ]
    }
   ],
   "source": [
    "print('Accuracy of SVM regression on test set: {:.2f}'.format(svm_model.score(scaled_X_test, y_test)))"
   ]
  },
  {
   "cell_type": "code",
   "execution_count": 138,
   "id": "6084e067",
   "metadata": {},
   "outputs": [],
   "source": [
    "MAE = mean_absolute_error(y_test,result)\n",
    "MSE = mean_squared_error(y_test,result)\n",
    "RMSE = np.sqrt(MSE)"
   ]
  },
  {
   "cell_type": "code",
   "execution_count": 139,
   "id": "2ca822fa",
   "metadata": {},
   "outputs": [
    {
     "data": {
      "text/plain": [
       "(22.670419890094117, 30.218486080237692)"
      ]
     },
     "execution_count": 139,
     "metadata": {},
     "output_type": "execute_result"
    }
   ],
   "source": [
    "MAE,RMSE"
   ]
  },
  {
   "cell_type": "markdown",
   "id": "4800f43b",
   "metadata": {},
   "source": [
    "## Regression Tree"
   ]
  },
  {
   "cell_type": "code",
   "execution_count": 140,
   "id": "ef2fbf5f",
   "metadata": {},
   "outputs": [],
   "source": [
    "from sklearn.tree import DecisionTreeRegressor\n",
    "regressor = DecisionTreeRegressor(random_state = 42)"
   ]
  },
  {
   "cell_type": "code",
   "execution_count": 141,
   "id": "8e085237",
   "metadata": {},
   "outputs": [],
   "source": [
    "model=regressor.fit(X_train,y_train)"
   ]
  },
  {
   "cell_type": "code",
   "execution_count": 142,
   "id": "d2a84f89",
   "metadata": {},
   "outputs": [
    {
     "data": {
      "text/plain": [
       "0.8293812478108182"
      ]
     },
     "execution_count": 142,
     "metadata": {},
     "output_type": "execute_result"
    }
   ],
   "source": [
    "model.score(X_test, y_test)"
   ]
  },
  {
   "cell_type": "code",
   "execution_count": 143,
   "id": "c85e1604",
   "metadata": {},
   "outputs": [],
   "source": [
    "y_test_pred = model.predict(X_test)"
   ]
  },
  {
   "cell_type": "code",
   "execution_count": 144,
   "id": "2138c7e2",
   "metadata": {},
   "outputs": [
    {
     "data": {
      "text/plain": [
       "18.49124792728084"
      ]
     },
     "execution_count": 144,
     "metadata": {},
     "output_type": "execute_result"
    }
   ],
   "source": [
    "from sklearn.metrics import mean_absolute_error\n",
    "mean_absolute_error(y_test, y_test_pred)"
   ]
  },
  {
   "cell_type": "code",
   "execution_count": 145,
   "id": "87cd2b67",
   "metadata": {},
   "outputs": [
    {
     "data": {
      "image/png": "[encoded data removed]",
      "text/plain": [
       "<Figure size 2160x1080 with 1 Axes>"
      ]
     },
     "metadata": {
      "needs_background": "light"
     },
     "output_type": "display_data"
    }
   ],
   "source": [
    "plt.figure(figsize = (30,15))\n",
    "from sklearn import tree\n",
    "tree.plot_tree(model, \n",
    "               feature_names = list(X_train.columns), \n",
    "               filled = True,\n",
    "               max_depth = 2);"
   ]
  },
  {
   "cell_type": "code",
   "execution_count": 146,
   "id": "4c14ce25",
   "metadata": {},
   "outputs": [
    {
     "data": {
      "text/plain": [
       "array([4.36439393e-04, 3.22768412e-03, 0.00000000e+00, 1.61663767e-02,\n",
       "       9.35024844e-01, 3.72502044e-02, 7.89445160e-03])"
      ]
     },
     "execution_count": 146,
     "metadata": {},
     "output_type": "execute_result"
    }
   ],
   "source": [
    "importance = model.feature_importances_\n",
    "importance"
   ]
  },
  {
   "cell_type": "code",
   "execution_count": 147,
   "id": "31404e47",
   "metadata": {},
   "outputs": [
    {
     "data": {
      "image/png": "[encoded data removed]",
      "text/plain": [
       "<Figure size 432x288 with 1 Axes>"
      ]
     },
     "metadata": {
      "needs_background": "light"
     },
     "output_type": "display_data"
    }
   ],
   "source": [
    "feature_importance = pd.Series(importance, index = X_train.columns)\n",
    "feature_importance.sort_values().plot(kind = 'bar')\n",
    "plt.ylabel('Importance');"
   ]
  },
  {
   "cell_type": "markdown",
   "id": "92a8ef70",
   "metadata": {},
   "source": [
    "The most important feature is Engine Size(L) for this model."
   ]
  },
  {
   "cell_type": "code",
   "execution_count": 148,
   "id": "e45ffeb1",
   "metadata": {},
   "outputs": [
    {
     "data": {
      "text/plain": [
       "0.8220720697447578"
      ]
     },
     "execution_count": 148,
     "metadata": {},
     "output_type": "execute_result"
    }
   ],
   "source": [
    "model.score(X_train, y_train)"
   ]
  },
  {
   "cell_type": "code",
   "execution_count": 149,
   "id": "ed4b3f63",
   "metadata": {},
   "outputs": [
    {
     "data": {
      "text/plain": [
       "0.8293812478108182"
      ]
     },
     "execution_count": 149,
     "metadata": {},
     "output_type": "execute_result"
    }
   ],
   "source": [
    "model.score(X_test, y_test)"
   ]
  },
  {
   "cell_type": "markdown",
   "id": "648446c4",
   "metadata": {},
   "source": [
    "No pruning required as the model score for the train and testing set is same. This means there is no overfitting or underfitting of the data on the decision tree regression model.\n"
   ]
  },
  {
   "cell_type": "code",
   "execution_count": 150,
   "id": "4d99e563",
   "metadata": {},
   "outputs": [],
   "source": [
    "tree_param = {'max_depth':[4,5,6,7,8,9,10,11,12,15,20,30,40,50,70,90,120,150]}"
   ]
  },
  {
   "cell_type": "code",
   "execution_count": 151,
   "id": "0eb71dda",
   "metadata": {},
   "outputs": [],
   "source": [
    "grid_model = GridSearchCV(estimator=regressor,param_grid=tree_param,scoring='neg_mean_squared_error',\n",
    "                          cv=5,\n",
    "                          verbose=2)"
   ]
  },
  {
   "cell_type": "code",
   "execution_count": 152,
   "id": "531a43e0",
   "metadata": {},
   "outputs": [
    {
     "name": "stdout",
     "output_type": "stream",
     "text": [
      "Fitting 5 folds for each of 18 candidates, totalling 90 fits\n",
      "[CV] END ........................................max_depth=4; total time=   0.0s\n",
      "[CV] END ........................................max_depth=4; total time=   0.0s\n",
      "[CV] END ........................................max_depth=4; total time=   0.0s\n",
      "[CV] END ........................................max_depth=4; total time=   0.0s\n",
      "[CV] END ........................................max_depth=4; total time=   0.0s\n",
      "[CV] END ........................................max_depth=5; total time=   0.0s\n",
      "[CV] END ........................................max_depth=5; total time=   0.0s\n",
      "[CV] END ........................................max_depth=5; total time=   0.0s\n",
      "[CV] END ........................................max_depth=5; total time=   0.0s\n",
      "[CV] END ........................................max_depth=5; total time=   0.0s\n",
      "[CV] END ........................................max_depth=6; total time=   0.0s\n",
      "[CV] END ........................................max_depth=6; total time=   0.0s\n",
      "[CV] END ........................................max_depth=6; total time=   0.0s\n",
      "[CV] END ........................................max_depth=6; total time=   0.0s\n",
      "[CV] END ........................................max_depth=6; total time=   0.0s\n",
      "[CV] END ........................................max_depth=7; total time=   0.0s\n",
      "[CV] END ........................................max_depth=7; total time=   0.0s\n",
      "[CV] END ........................................max_depth=7; total time=   0.0s\n",
      "[CV] END ........................................max_depth=7; total time=   0.0s\n",
      "[CV] END ........................................max_depth=7; total time=   0.0s\n",
      "[CV] END ........................................max_depth=8; total time=   0.0s\n",
      "[CV] END ........................................max_depth=8; total time=   0.0s\n",
      "[CV] END ........................................max_depth=8; total time=   0.0s\n",
      "[CV] END ........................................max_depth=8; total time=   0.1s\n",
      "[CV] END ........................................max_depth=8; total time=   0.0s\n",
      "[CV] END ........................................max_depth=9; total time=   0.0s\n",
      "[CV] END ........................................max_depth=9; total time=   0.0s\n",
      "[CV] END ........................................max_depth=9; total time=   0.0s\n",
      "[CV] END ........................................max_depth=9; total time=   0.0s\n",
      "[CV] END ........................................max_depth=9; total time=   0.0s\n",
      "[CV] END .......................................max_depth=10; total time=   0.0s\n",
      "[CV] END .......................................max_depth=10; total time=   0.0s\n",
      "[CV] END .......................................max_depth=10; total time=   0.0s\n",
      "[CV] END .......................................max_depth=10; total time=   0.0s\n",
      "[CV] END .......................................max_depth=10; total time=   0.0s\n",
      "[CV] END .......................................max_depth=11; total time=   0.0s\n",
      "[CV] END .......................................max_depth=11; total time=   0.0s\n",
      "[CV] END .......................................max_depth=11; total time=   0.0s\n",
      "[CV] END .......................................max_depth=11; total time=   0.0s\n",
      "[CV] END .......................................max_depth=11; total time=   0.0s\n",
      "[CV] END .......................................max_depth=12; total time=   0.0s\n",
      "[CV] END .......................................max_depth=12; total time=   0.0s\n",
      "[CV] END .......................................max_depth=12; total time=   0.0s\n",
      "[CV] END .......................................max_depth=12; total time=   0.0s\n",
      "[CV] END .......................................max_depth=12; total time=   0.0s\n",
      "[CV] END .......................................max_depth=15; total time=   0.0s\n",
      "[CV] END .......................................max_depth=15; total time=   0.0s\n",
      "[CV] END .......................................max_depth=15; total time=   0.0s\n",
      "[CV] END .......................................max_depth=15; total time=   0.0s\n",
      "[CV] END .......................................max_depth=15; total time=   0.0s\n",
      "[CV] END .......................................max_depth=20; total time=   0.0s\n",
      "[CV] END .......................................max_depth=20; total time=   0.0s\n",
      "[CV] END .......................................max_depth=20; total time=   0.0s\n",
      "[CV] END .......................................max_depth=20; total time=   0.0s\n",
      "[CV] END .......................................max_depth=20; total time=   0.0s\n",
      "[CV] END .......................................max_depth=30; total time=   0.0s\n",
      "[CV] END .......................................max_depth=30; total time=   0.0s\n",
      "[CV] END .......................................max_depth=30; total time=   0.0s\n",
      "[CV] END .......................................max_depth=30; total time=   0.0s\n",
      "[CV] END .......................................max_depth=30; total time=   0.0s\n",
      "[CV] END .......................................max_depth=40; total time=   0.0s\n",
      "[CV] END .......................................max_depth=40; total time=   0.0s\n",
      "[CV] END .......................................max_depth=40; total time=   0.0s\n",
      "[CV] END .......................................max_depth=40; total time=   0.0s\n",
      "[CV] END .......................................max_depth=40; total time=   0.0s\n",
      "[CV] END .......................................max_depth=50; total time=   0.0s\n",
      "[CV] END .......................................max_depth=50; total time=   0.0s\n",
      "[CV] END .......................................max_depth=50; total time=   0.0s\n",
      "[CV] END .......................................max_depth=50; total time=   0.0s\n",
      "[CV] END .......................................max_depth=50; total time=   0.0s\n",
      "[CV] END .......................................max_depth=70; total time=   0.0s\n",
      "[CV] END .......................................max_depth=70; total time=   0.0s\n",
      "[CV] END .......................................max_depth=70; total time=   0.0s\n",
      "[CV] END .......................................max_depth=70; total time=   0.0s\n",
      "[CV] END .......................................max_depth=70; total time=   0.0s\n",
      "[CV] END .......................................max_depth=90; total time=   0.0s\n",
      "[CV] END .......................................max_depth=90; total time=   0.0s\n",
      "[CV] END .......................................max_depth=90; total time=   0.0s\n",
      "[CV] END .......................................max_depth=90; total time=   0.0s\n",
      "[CV] END .......................................max_depth=90; total time=   0.0s\n",
      "[CV] END ......................................max_depth=120; total time=   0.0s\n",
      "[CV] END ......................................max_depth=120; total time=   0.0s\n",
      "[CV] END ......................................max_depth=120; total time=   0.0s\n",
      "[CV] END ......................................max_depth=120; total time=   0.0s\n",
      "[CV] END ......................................max_depth=120; total time=   0.0s\n",
      "[CV] END ......................................max_depth=150; total time=   0.0s\n",
      "[CV] END ......................................max_depth=150; total time=   0.0s\n",
      "[CV] END ......................................max_depth=150; total time=   0.0s\n",
      "[CV] END ......................................max_depth=150; total time=   0.0s\n",
      "[CV] END ......................................max_depth=150; total time=   0.0s\n"
     ]
    }
   ],
   "source": [
    "model=grid_model.fit(X_train,y_train)"
   ]
  },
  {
   "cell_type": "code",
   "execution_count": 153,
   "id": "c357b4e0",
   "metadata": {},
   "outputs": [],
   "source": [
    "y_test_pred = grid_model.predict(X_test)"
   ]
  },
  {
   "cell_type": "code",
   "execution_count": 154,
   "id": "61c7490d",
   "metadata": {},
   "outputs": [
    {
     "data": {
      "text/plain": [
       "DecisionTreeRegressor(max_depth=12, random_state=42)"
      ]
     },
     "execution_count": 154,
     "metadata": {},
     "output_type": "execute_result"
    }
   ],
   "source": [
    "grid_model.best_estimator_"
   ]
  },
  {
   "cell_type": "code",
   "execution_count": 155,
   "id": "97be891f",
   "metadata": {},
   "outputs": [],
   "source": [
    "regressor = DecisionTreeRegressor(random_state = 42,max_depth=12)"
   ]
  },
  {
   "cell_type": "code",
   "execution_count": 156,
   "id": "68b9c76f",
   "metadata": {},
   "outputs": [],
   "source": [
    "model2=regressor.fit(X_train,y_train)"
   ]
  },
  {
   "cell_type": "code",
   "execution_count": 157,
   "id": "31523515",
   "metadata": {},
   "outputs": [],
   "source": [
    "model2pred=model2.predict(X_test)"
   ]
  },
  {
   "cell_type": "code",
   "execution_count": 158,
   "id": "a144ee53",
   "metadata": {},
   "outputs": [
    {
     "data": {
      "text/plain": [
       "0.8293812478108182"
      ]
     },
     "execution_count": 158,
     "metadata": {},
     "output_type": "execute_result"
    }
   ],
   "source": [
    "model2.score(X_test, y_test)"
   ]
  },
  {
   "cell_type": "code",
   "execution_count": 159,
   "id": "fb748354",
   "metadata": {},
   "outputs": [
    {
     "data": {
      "text/plain": [
       "18.49124792728084"
      ]
     },
     "execution_count": 159,
     "metadata": {},
     "output_type": "execute_result"
    }
   ],
   "source": [
    "mean_absolute_error(y_test, y_test_pred)"
   ]
  },
  {
   "cell_type": "markdown",
   "id": "d0078c87",
   "metadata": {},
   "source": [
    "## GRADIENT BOOSTING"
   ]
  },
  {
   "cell_type": "code",
   "execution_count": 160,
   "id": "720ded2f",
   "metadata": {},
   "outputs": [],
   "source": [
    "from sklearn.ensemble import GradientBoostingRegressor"
   ]
  },
  {
   "cell_type": "code",
   "execution_count": 161,
   "id": "160a3f9d",
   "metadata": {},
   "outputs": [
    {
     "name": "stdout",
     "output_type": "stream",
     "text": [
      "Help on class GradientBoostingRegressor in module sklearn.ensemble._gb:\n",
      "\n",
      "class GradientBoostingRegressor(sklearn.base.RegressorMixin, BaseGradientBoosting)\n",
      " |  GradientBoostingRegressor(*, loss='ls', learning_rate=0.1, n_estimators=100, subsample=1.0, criterion='friedman_mse', min_samples_split=2, min_samples_leaf=1, min_weight_fraction_leaf=0.0, max_depth=3, min_impurity_decrease=0.0, min_impurity_split=None, init=None, random_state=None, max_features=None, alpha=0.9, verbose=0, max_leaf_nodes=None, warm_start=False, validation_fraction=0.1, n_iter_no_change=None, tol=0.0001, ccp_alpha=0.0)\n",
      " |  \n",
      " |  Gradient Boosting for regression.\n",
      " |  \n",
      " |  GB builds an additive model in a forward stage-wise fashion;\n",
      " |  it allows for the optimization of arbitrary differentiable loss functions.\n",
      " |  In each stage a regression tree is fit on the negative gradient of the\n",
      " |  given loss function.\n",
      " |  \n",
      " |  Read more in the :ref:`User Guide <gradient_boosting>`.\n",
      " |  \n",
      " |  Parameters\n",
      " |  ----------\n",
      " |  loss : {'ls', 'lad', 'huber', 'quantile'}, default='ls'\n",
      " |      Loss function to be optimized. 'ls' refers to least squares\n",
      " |      regression. 'lad' (least absolute deviation) is a highly robust\n",
      " |      loss function solely based on order information of the input\n",
      " |      variables. 'huber' is a combination of the two. 'quantile'\n",
      " |      allows quantile regression (use `alpha` to specify the quantile).\n",
      " |  \n",
      " |  learning_rate : float, default=0.1\n",
      " |      Learning rate shrinks the contribution of each tree by `learning_rate`.\n",
      " |      There is a trade-off between learning_rate and n_estimators.\n",
      " |  \n",
      " |  n_estimators : int, default=100\n",
      " |      The number of boosting stages to perform. Gradient boosting\n",
      " |      is fairly robust to over-fitting so a large number usually\n",
      " |      results in better performance.\n",
      " |  \n",
      " |  subsample : float, default=1.0\n",
      " |      The fraction of samples to be used for fitting the individual base\n",
      " |      learners. If smaller than 1.0 this results in Stochastic Gradient\n",
      " |      Boosting. `subsample` interacts with the parameter `n_estimators`.\n",
      " |      Choosing `subsample < 1.0` leads to a reduction of variance\n",
      " |      and an increase in bias.\n",
      " |  \n",
      " |  criterion : {'friedman_mse', 'mse', 'mae'}, default='friedman_mse'\n",
      " |      The function to measure the quality of a split. Supported criteria\n",
      " |      are \"friedman_mse\" for the mean squared error with improvement\n",
      " |      score by Friedman, \"mse\" for mean squared error, and \"mae\" for\n",
      " |      the mean absolute error. The default value of \"friedman_mse\" is\n",
      " |      generally the best as it can provide a better approximation in\n",
      " |      some cases.\n",
      " |  \n",
      " |      .. versionadded:: 0.18\n",
      " |      .. deprecated:: 0.24\n",
      " |          `criterion='mae'` is deprecated and will be removed in version\n",
      " |          1.1 (renaming of 0.26). The correct way of minimizing the absolute\n",
      " |          error is to use `loss='lad'` instead.\n",
      " |  \n",
      " |  min_samples_split : int or float, default=2\n",
      " |      The minimum number of samples required to split an internal node:\n",
      " |  \n",
      " |      - If int, then consider `min_samples_split` as the minimum number.\n",
      " |      - If float, then `min_samples_split` is a fraction and\n",
      " |        `ceil(min_samples_split * n_samples)` are the minimum\n",
      " |        number of samples for each split.\n",
      " |  \n",
      " |      .. versionchanged:: 0.18\n",
      " |         Added float values for fractions.\n",
      " |  \n",
      " |  min_samples_leaf : int or float, default=1\n",
      " |      The minimum number of samples required to be at a leaf node.\n",
      " |      A split point at any depth will only be considered if it leaves at\n",
      " |      least ``min_samples_leaf`` training samples in each of the left and\n",
      " |      right branches.  This may have the effect of smoothing the model,\n",
      " |      especially in regression.\n",
      " |  \n",
      " |      - If int, then consider `min_samples_leaf` as the minimum number.\n",
      " |      - If float, then `min_samples_leaf` is a fraction and\n",
      " |        `ceil(min_samples_leaf * n_samples)` are the minimum\n",
      " |        number of samples for each node.\n",
      " |  \n",
      " |      .. versionchanged:: 0.18\n",
      " |         Added float values for fractions.\n",
      " |  \n",
      " |  min_weight_fraction_leaf : float, default=0.0\n",
      " |      The minimum weighted fraction of the sum total of weights (of all\n",
      " |      the input samples) required to be at a leaf node. Samples have\n",
      " |      equal weight when sample_weight is not provided.\n",
      " |  \n",
      " |  max_depth : int, default=3\n",
      " |      Maximum depth of the individual regression estimators. The maximum\n",
      " |      depth limits the number of nodes in the tree. Tune this parameter\n",
      " |      for best performance; the best value depends on the interaction\n",
      " |      of the input variables.\n",
      " |  \n",
      " |  min_impurity_decrease : float, default=0.0\n",
      " |      A node will be split if this split induces a decrease of the impurity\n",
      " |      greater than or equal to this value.\n",
      " |  \n",
      " |      The weighted impurity decrease equation is the following::\n",
      " |  \n",
      " |          N_t / N * (impurity - N_t_R / N_t * right_impurity\n",
      " |                              - N_t_L / N_t * left_impurity)\n",
      " |  \n",
      " |      where ``N`` is the total number of samples, ``N_t`` is the number of\n",
      " |      samples at the current node, ``N_t_L`` is the number of samples in the\n",
      " |      left child, and ``N_t_R`` is the number of samples in the right child.\n",
      " |  \n",
      " |      ``N``, ``N_t``, ``N_t_R`` and ``N_t_L`` all refer to the weighted sum,\n",
      " |      if ``sample_weight`` is passed.\n",
      " |  \n",
      " |      .. versionadded:: 0.19\n",
      " |  \n",
      " |  min_impurity_split : float, default=None\n",
      " |      Threshold for early stopping in tree growth. A node will split\n",
      " |      if its impurity is above the threshold, otherwise it is a leaf.\n",
      " |  \n",
      " |      .. deprecated:: 0.19\n",
      " |         ``min_impurity_split`` has been deprecated in favor of\n",
      " |         ``min_impurity_decrease`` in 0.19. The default value of\n",
      " |         ``min_impurity_split`` has changed from 1e-7 to 0 in 0.23 and it\n",
      " |         will be removed in 1.0 (renaming of 0.25).\n",
      " |         Use ``min_impurity_decrease`` instead.\n",
      " |  \n",
      " |  init : estimator or 'zero', default=None\n",
      " |      An estimator object that is used to compute the initial predictions.\n",
      " |      ``init`` has to provide :term:`fit` and :term:`predict`. If 'zero', the\n",
      " |      initial raw predictions are set to zero. By default a\n",
      " |      ``DummyEstimator`` is used, predicting either the average target value\n",
      " |      (for loss='ls'), or a quantile for the other losses.\n",
      " |  \n",
      " |  random_state : int, RandomState instance or None, default=None\n",
      " |      Controls the random seed given to each Tree estimator at each\n",
      " |      boosting iteration.\n",
      " |      In addition, it controls the random permutation of the features at\n",
      " |      each split (see Notes for more details).\n",
      " |      It also controls the random spliting of the training data to obtain a\n",
      " |      validation set if `n_iter_no_change` is not None.\n",
      " |      Pass an int for reproducible output across multiple function calls.\n",
      " |      See :term:`Glossary <random_state>`.\n",
      " |  \n",
      " |  max_features : {'auto', 'sqrt', 'log2'}, int or float, default=None\n",
      " |      The number of features to consider when looking for the best split:\n",
      " |  \n",
      " |      - If int, then consider `max_features` features at each split.\n",
      " |      - If float, then `max_features` is a fraction and\n",
      " |        `int(max_features * n_features)` features are considered at each\n",
      " |        split.\n",
      " |      - If \"auto\", then `max_features=n_features`.\n",
      " |      - If \"sqrt\", then `max_features=sqrt(n_features)`.\n",
      " |      - If \"log2\", then `max_features=log2(n_features)`.\n",
      " |      - If None, then `max_features=n_features`.\n",
      " |  \n",
      " |      Choosing `max_features < n_features` leads to a reduction of variance\n",
      " |      and an increase in bias.\n",
      " |  \n",
      " |      Note: the search for a split does not stop until at least one\n",
      " |      valid partition of the node samples is found, even if it requires to\n",
      " |      effectively inspect more than ``max_features`` features.\n",
      " |  \n",
      " |  alpha : float, default=0.9\n",
      " |      The alpha-quantile of the huber loss function and the quantile\n",
      " |      loss function. Only if ``loss='huber'`` or ``loss='quantile'``.\n",
      " |  \n",
      " |  verbose : int, default=0\n",
      " |      Enable verbose output. If 1 then it prints progress and performance\n",
      " |      once in a while (the more trees the lower the frequency). If greater\n",
      " |      than 1 then it prints progress and performance for every tree.\n",
      " |  \n",
      " |  max_leaf_nodes : int, default=None\n",
      " |      Grow trees with ``max_leaf_nodes`` in best-first fashion.\n",
      " |      Best nodes are defined as relative reduction in impurity.\n",
      " |      If None then unlimited number of leaf nodes.\n",
      " |  \n",
      " |  warm_start : bool, default=False\n",
      " |      When set to ``True``, reuse the solution of the previous call to fit\n",
      " |      and add more estimators to the ensemble, otherwise, just erase the\n",
      " |      previous solution. See :term:`the Glossary <warm_start>`.\n",
      " |  \n",
      " |  validation_fraction : float, default=0.1\n",
      " |      The proportion of training data to set aside as validation set for\n",
      " |      early stopping. Must be between 0 and 1.\n",
      " |      Only used if ``n_iter_no_change`` is set to an integer.\n",
      " |  \n",
      " |      .. versionadded:: 0.20\n",
      " |  \n",
      " |  n_iter_no_change : int, default=None\n",
      " |      ``n_iter_no_change`` is used to decide if early stopping will be used\n",
      " |      to terminate training when validation score is not improving. By\n",
      " |      default it is set to None to disable early stopping. If set to a\n",
      " |      number, it will set aside ``validation_fraction`` size of the training\n",
      " |      data as validation and terminate training when validation score is not\n",
      " |      improving in all of the previous ``n_iter_no_change`` numbers of\n",
      " |      iterations.\n",
      " |  \n",
      " |      .. versionadded:: 0.20\n",
      " |  \n",
      " |  tol : float, default=1e-4\n",
      " |      Tolerance for the early stopping. When the loss is not improving\n",
      " |      by at least tol for ``n_iter_no_change`` iterations (if set to a\n",
      " |      number), the training stops.\n",
      " |  \n",
      " |      .. versionadded:: 0.20\n",
      " |  \n",
      " |  ccp_alpha : non-negative float, default=0.0\n",
      " |      Complexity parameter used for Minimal Cost-Complexity Pruning. The\n",
      " |      subtree with the largest cost complexity that is smaller than\n",
      " |      ``ccp_alpha`` will be chosen. By default, no pruning is performed. See\n",
      " |      :ref:`minimal_cost_complexity_pruning` for details.\n",
      " |  \n",
      " |      .. versionadded:: 0.22\n",
      " |  \n",
      " |  Attributes\n",
      " |  ----------\n",
      " |  feature_importances_ : ndarray of shape (n_features,)\n",
      " |      The impurity-based feature importances.\n",
      " |      The higher, the more important the feature.\n",
      " |      The importance of a feature is computed as the (normalized)\n",
      " |      total reduction of the criterion brought by that feature.  It is also\n",
      " |      known as the Gini importance.\n",
      " |  \n",
      " |      Warning: impurity-based feature importances can be misleading for\n",
      " |      high cardinality features (many unique values). See\n",
      " |      :func:`sklearn.inspection.permutation_importance` as an alternative.\n",
      " |  \n",
      " |  oob_improvement_ : ndarray of shape (n_estimators,)\n",
      " |      The improvement in loss (= deviance) on the out-of-bag samples\n",
      " |      relative to the previous iteration.\n",
      " |      ``oob_improvement_[0]`` is the improvement in\n",
      " |      loss of the first stage over the ``init`` estimator.\n",
      " |      Only available if ``subsample < 1.0``\n",
      " |  \n",
      " |  train_score_ : ndarray of shape (n_estimators,)\n",
      " |      The i-th score ``train_score_[i]`` is the deviance (= loss) of the\n",
      " |      model at iteration ``i`` on the in-bag sample.\n",
      " |      If ``subsample == 1`` this is the deviance on the training data.\n",
      " |  \n",
      " |  loss_ : LossFunction\n",
      " |      The concrete ``LossFunction`` object.\n",
      " |  \n",
      " |  init_ : estimator\n",
      " |      The estimator that provides the initial predictions.\n",
      " |      Set via the ``init`` argument or ``loss.init_estimator``.\n",
      " |  \n",
      " |  estimators_ : ndarray of DecisionTreeRegressor of shape (n_estimators, 1)\n",
      " |      The collection of fitted sub-estimators.\n",
      " |  \n",
      " |  n_classes_ : int\n",
      " |      The number of classes, set to 1 for regressors.\n",
      " |  \n",
      " |      .. deprecated:: 0.24\n",
      " |          Attribute ``n_classes_`` was deprecated in version 0.24 and\n",
      " |          will be removed in 1.1 (renaming of 0.26).\n",
      " |  \n",
      " |  n_estimators_ : int\n",
      " |      The number of estimators as selected by early stopping (if\n",
      " |      ``n_iter_no_change`` is specified). Otherwise it is set to\n",
      " |      ``n_estimators``.\n",
      " |  \n",
      " |  n_features_ : int\n",
      " |      The number of data features.\n",
      " |  \n",
      " |  max_features_ : int\n",
      " |      The inferred value of max_features.\n",
      " |  \n",
      " |  See Also\n",
      " |  --------\n",
      " |  HistGradientBoostingRegressor : Histogram-based Gradient Boosting\n",
      " |      Classification Tree.\n",
      " |  sklearn.tree.DecisionTreeRegressor : A decision tree regressor.\n",
      " |  sklearn.tree.RandomForestRegressor : A random forest regressor.\n",
      " |  \n",
      " |  Notes\n",
      " |  -----\n",
      " |  The features are always randomly permuted at each split. Therefore,\n",
      " |  the best found split may vary, even with the same training data and\n",
      " |  ``max_features=n_features``, if the improvement of the criterion is\n",
      " |  identical for several splits enumerated during the search of the best\n",
      " |  split. To obtain a deterministic behaviour during fitting,\n",
      " |  ``random_state`` has to be fixed.\n",
      " |  \n",
      " |  Examples\n",
      " |  --------\n",
      " |  >>> from sklearn.datasets import make_regression\n",
      " |  >>> from sklearn.ensemble import GradientBoostingRegressor\n",
      " |  >>> from sklearn.model_selection import train_test_split\n",
      " |  >>> X, y = make_regression(random_state=0)\n",
      " |  >>> X_train, X_test, y_train, y_test = train_test_split(\n",
      " |  ...     X, y, random_state=0)\n",
      " |  >>> reg = GradientBoostingRegressor(random_state=0)\n",
      " |  >>> reg.fit(X_train, y_train)\n",
      " |  GradientBoostingRegressor(random_state=0)\n",
      " |  >>> reg.predict(X_test[1:2])\n",
      " |  array([-61...])\n",
      " |  >>> reg.score(X_test, y_test)\n",
      " |  0.4...\n",
      " |  \n",
      " |  References\n",
      " |  ----------\n",
      " |  J. Friedman, Greedy Function Approximation: A Gradient Boosting\n",
      " |  Machine, The Annals of Statistics, Vol. 29, No. 5, 2001.\n",
      " |  \n",
      " |  J. Friedman, Stochastic Gradient Boosting, 1999\n",
      " |  \n",
      " |  T. Hastie, R. Tibshirani and J. Friedman.\n",
      " |  Elements of Statistical Learning Ed. 2, Springer, 2009.\n",
      " |  \n",
      " |  Method resolution order:\n",
      " |      GradientBoostingRegressor\n",
      " |      sklearn.base.RegressorMixin\n",
      " |      BaseGradientBoosting\n",
      " |      sklearn.ensemble._base.BaseEnsemble\n",
      " |      sklearn.base.MetaEstimatorMixin\n",
      " |      sklearn.base.BaseEstimator\n",
      " |      builtins.object\n",
      " |  \n",
      " |  Methods defined here:\n",
      " |  \n",
      " |  __init__(self, *, loss='ls', learning_rate=0.1, n_estimators=100, subsample=1.0, criterion='friedman_mse', min_samples_split=2, min_samples_leaf=1, min_weight_fraction_leaf=0.0, max_depth=3, min_impurity_decrease=0.0, min_impurity_split=None, init=None, random_state=None, max_features=None, alpha=0.9, verbose=0, max_leaf_nodes=None, warm_start=False, validation_fraction=0.1, n_iter_no_change=None, tol=0.0001, ccp_alpha=0.0)\n",
      " |      Initialize self.  See help(type(self)) for accurate signature.\n",
      " |  \n",
      " |  apply(self, X)\n",
      " |      Apply trees in the ensemble to X, return leaf indices.\n",
      " |      \n",
      " |      .. versionadded:: 0.17\n",
      " |      \n",
      " |      Parameters\n",
      " |      ----------\n",
      " |      X : {array-like, sparse matrix} of shape (n_samples, n_features)\n",
      " |          The input samples. Internally, its dtype will be converted to\n",
      " |          ``dtype=np.float32``. If a sparse matrix is provided, it will\n",
      " |          be converted to a sparse ``csr_matrix``.\n",
      " |      \n",
      " |      Returns\n",
      " |      -------\n",
      " |      X_leaves : array-like of shape (n_samples, n_estimators)\n",
      " |          For each datapoint x in X and for each tree in the ensemble,\n",
      " |          return the index of the leaf x ends up in each estimator.\n",
      " |  \n",
      " |  predict(self, X)\n",
      " |      Predict regression target for X.\n",
      " |      \n",
      " |      Parameters\n",
      " |      ----------\n",
      " |      X : {array-like, sparse matrix} of shape (n_samples, n_features)\n",
      " |          The input samples. Internally, it will be converted to\n",
      " |          ``dtype=np.float32`` and if a sparse matrix is provided\n",
      " |          to a sparse ``csr_matrix``.\n",
      " |      \n",
      " |      Returns\n",
      " |      -------\n",
      " |      y : ndarray of shape (n_samples,)\n",
      " |          The predicted values.\n",
      " |  \n",
      " |  staged_predict(self, X)\n",
      " |      Predict regression target at each stage for X.\n",
      " |      \n",
      " |      This method allows monitoring (i.e. determine error on testing set)\n",
      " |      after each stage.\n",
      " |      \n",
      " |      Parameters\n",
      " |      ----------\n",
      " |      X : {array-like, sparse matrix} of shape (n_samples, n_features)\n",
      " |          The input samples. Internally, it will be converted to\n",
      " |          ``dtype=np.float32`` and if a sparse matrix is provided\n",
      " |          to a sparse ``csr_matrix``.\n",
      " |      \n",
      " |      Returns\n",
      " |      -------\n",
      " |      y : generator of ndarray of shape (n_samples,)\n",
      " |          The predicted value of the input samples.\n",
      " |  \n",
      " |  ----------------------------------------------------------------------\n",
      " |  Readonly properties defined here:\n",
      " |  \n",
      " |  n_classes_\n",
      " |  \n",
      " |  ----------------------------------------------------------------------\n",
      " |  Data and other attributes defined here:\n",
      " |  \n",
      " |  __abstractmethods__ = frozenset()\n",
      " |  \n",
      " |  ----------------------------------------------------------------------\n",
      " |  Methods inherited from sklearn.base.RegressorMixin:\n",
      " |  \n",
      " |  score(self, X, y, sample_weight=None)\n",
      " |      Return the coefficient of determination :math:`R^2` of the\n",
      " |      prediction.\n",
      " |      \n",
      " |      The coefficient :math:`R^2` is defined as :math:`(1 - \\frac{u}{v})`,\n",
      " |      where :math:`u` is the residual sum of squares ``((y_true - y_pred)\n",
      " |      ** 2).sum()`` and :math:`v` is the total sum of squares ``((y_true -\n",
      " |      y_true.mean()) ** 2).sum()``. The best possible score is 1.0 and it\n",
      " |      can be negative (because the model can be arbitrarily worse). A\n",
      " |      constant model that always predicts the expected value of `y`,\n",
      " |      disregarding the input features, would get a :math:`R^2` score of\n",
      " |      0.0.\n",
      " |      \n",
      " |      Parameters\n",
      " |      ----------\n",
      " |      X : array-like of shape (n_samples, n_features)\n",
      " |          Test samples. For some estimators this may be a precomputed\n",
      " |          kernel matrix or a list of generic objects instead with shape\n",
      " |          ``(n_samples, n_samples_fitted)``, where ``n_samples_fitted``\n",
      " |          is the number of samples used in the fitting for the estimator.\n",
      " |      \n",
      " |      y : array-like of shape (n_samples,) or (n_samples, n_outputs)\n",
      " |          True values for `X`.\n",
      " |      \n",
      " |      sample_weight : array-like of shape (n_samples,), default=None\n",
      " |          Sample weights.\n",
      " |      \n",
      " |      Returns\n",
      " |      -------\n",
      " |      score : float\n",
      " |          :math:`R^2` of ``self.predict(X)`` wrt. `y`.\n",
      " |      \n",
      " |      Notes\n",
      " |      -----\n",
      " |      The :math:`R^2` score used when calling ``score`` on a regressor uses\n",
      " |      ``multioutput='uniform_average'`` from version 0.23 to keep consistent\n",
      " |      with default value of :func:`~sklearn.metrics.r2_score`.\n",
      " |      This influences the ``score`` method of all the multioutput\n",
      " |      regressors (except for\n",
      " |      :class:`~sklearn.multioutput.MultiOutputRegressor`).\n",
      " |  \n",
      " |  ----------------------------------------------------------------------\n",
      " |  Data descriptors inherited from sklearn.base.RegressorMixin:\n",
      " |  \n",
      " |  __dict__\n",
      " |      dictionary for instance variables (if defined)\n",
      " |  \n",
      " |  __weakref__\n",
      " |      list of weak references to the object (if defined)\n",
      " |  \n",
      " |  ----------------------------------------------------------------------\n",
      " |  Methods inherited from BaseGradientBoosting:\n",
      " |  \n",
      " |  fit(self, X, y, sample_weight=None, monitor=None)\n",
      " |      Fit the gradient boosting model.\n",
      " |      \n",
      " |      Parameters\n",
      " |      ----------\n",
      " |      X : {array-like, sparse matrix} of shape (n_samples, n_features)\n",
      " |          The input samples. Internally, it will be converted to\n",
      " |          ``dtype=np.float32`` and if a sparse matrix is provided\n",
      " |          to a sparse ``csr_matrix``.\n",
      " |      \n",
      " |      y : array-like of shape (n_samples,)\n",
      " |          Target values (strings or integers in classification, real numbers\n",
      " |          in regression)\n",
      " |          For classification, labels must correspond to classes.\n",
      " |      \n",
      " |      sample_weight : array-like of shape (n_samples,), default=None\n",
      " |          Sample weights. If None, then samples are equally weighted. Splits\n",
      " |          that would create child nodes with net zero or negative weight are\n",
      " |          ignored while searching for a split in each node. In the case of\n",
      " |          classification, splits are also ignored if they would result in any\n",
      " |          single class carrying a negative weight in either child node.\n",
      " |      \n",
      " |      monitor : callable, default=None\n",
      " |          The monitor is called after each iteration with the current\n",
      " |          iteration, a reference to the estimator and the local variables of\n",
      " |          ``_fit_stages`` as keyword arguments ``callable(i, self,\n",
      " |          locals())``. If the callable returns ``True`` the fitting procedure\n",
      " |          is stopped. The monitor can be used for various things such as\n",
      " |          computing held-out estimates, early stopping, model introspect, and\n",
      " |          snapshoting.\n",
      " |      \n",
      " |      Returns\n",
      " |      -------\n",
      " |      self : object\n",
      " |  \n",
      " |  ----------------------------------------------------------------------\n",
      " |  Readonly properties inherited from BaseGradientBoosting:\n",
      " |  \n",
      " |  feature_importances_\n",
      " |      The impurity-based feature importances.\n",
      " |      \n",
      " |      The higher, the more important the feature.\n",
      " |      The importance of a feature is computed as the (normalized)\n",
      " |      total reduction of the criterion brought by that feature.  It is also\n",
      " |      known as the Gini importance.\n",
      " |      \n",
      " |      Warning: impurity-based feature importances can be misleading for\n",
      " |      high cardinality features (many unique values). See\n",
      " |      :func:`sklearn.inspection.permutation_importance` as an alternative.\n",
      " |      \n",
      " |      Returns\n",
      " |      -------\n",
      " |      feature_importances_ : ndarray of shape (n_features,)\n",
      " |          The values of this array sum to 1, unless all trees are single node\n",
      " |          trees consisting of only the root node, in which case it will be an\n",
      " |          array of zeros.\n",
      " |  \n",
      " |  ----------------------------------------------------------------------\n",
      " |  Methods inherited from sklearn.ensemble._base.BaseEnsemble:\n",
      " |  \n",
      " |  __getitem__(self, index)\n",
      " |      Return the index'th estimator in the ensemble.\n",
      " |  \n",
      " |  __iter__(self)\n",
      " |      Return iterator over estimators in the ensemble.\n",
      " |  \n",
      " |  __len__(self)\n",
      " |      Return the number of estimators in the ensemble.\n",
      " |  \n",
      " |  ----------------------------------------------------------------------\n",
      " |  Data and other attributes inherited from sklearn.ensemble._base.BaseEnsemble:\n",
      " |  \n",
      " |  __annotations__ = {'_required_parameters': typing.List[str]}\n",
      " |  \n",
      " |  ----------------------------------------------------------------------\n",
      " |  Methods inherited from sklearn.base.BaseEstimator:\n",
      " |  \n",
      " |  __getstate__(self)\n",
      " |  \n",
      " |  __repr__(self, N_CHAR_MAX=700)\n",
      " |      Return repr(self).\n",
      " |  \n",
      " |  __setstate__(self, state)\n",
      " |  \n",
      " |  get_params(self, deep=True)\n",
      " |      Get parameters for this estimator.\n",
      " |      \n",
      " |      Parameters\n",
      " |      ----------\n",
      " |      deep : bool, default=True\n",
      " |          If True, will return the parameters for this estimator and\n",
      " |          contained subobjects that are estimators.\n",
      " |      \n",
      " |      Returns\n",
      " |      -------\n",
      " |      params : dict\n",
      " |          Parameter names mapped to their values.\n",
      " |  \n",
      " |  set_params(self, **params)\n",
      " |      Set the parameters of this estimator.\n",
      " |      \n",
      " |      The method works on simple estimators as well as on nested objects\n",
      " |      (such as :class:`~sklearn.pipeline.Pipeline`). The latter have\n",
      " |      parameters of the form ``<component>__<parameter>`` so that it's\n",
      " |      possible to update each component of a nested object.\n",
      " |      \n",
      " |      Parameters\n",
      " |      ----------\n",
      " |      **params : dict\n",
      " |          Estimator parameters.\n",
      " |      \n",
      " |      Returns\n",
      " |      -------\n",
      " |      self : estimator instance\n",
      " |          Estimator instance.\n",
      "\n"
     ]
    }
   ],
   "source": [
    "help(GradientBoostingRegressor)"
   ]
  },
  {
   "cell_type": "code",
   "execution_count": 162,
   "id": "2ee9f8c4",
   "metadata": {},
   "outputs": [],
   "source": [
    "from sklearn.model_selection import GridSearchCV"
   ]
  },
  {
   "cell_type": "code",
   "execution_count": 163,
   "id": "d20767a3",
   "metadata": {},
   "outputs": [],
   "source": [
    "param_grid = {\"n_estimators\":[1,5,10,20,40,100,200,300],'max_depth':[3,4,5,6,8]}"
   ]
  },
  {
   "cell_type": "code",
   "execution_count": 164,
   "id": "bdd00417",
   "metadata": {},
   "outputs": [],
   "source": [
    "gb_model = GradientBoostingRegressor()"
   ]
  },
  {
   "cell_type": "code",
   "execution_count": 165,
   "id": "bcc83118",
   "metadata": {},
   "outputs": [],
   "source": [
    "grid_gb_model = GridSearchCV(gb_model,param_grid)"
   ]
  },
  {
   "cell_type": "code",
   "execution_count": 166,
   "id": "ea99b950",
   "metadata": {},
   "outputs": [
    {
     "data": {
      "text/plain": [
       "GridSearchCV(estimator=GradientBoostingRegressor(),\n",
       "             param_grid={'max_depth': [3, 4, 5, 6, 8],\n",
       "                         'n_estimators': [1, 5, 10, 20, 40, 100, 200, 300]})"
      ]
     },
     "execution_count": 166,
     "metadata": {},
     "output_type": "execute_result"
    }
   ],
   "source": [
    "grid_gb_model.fit(X_train,y_train)"
   ]
  },
  {
   "cell_type": "code",
   "execution_count": 167,
   "id": "0c323cbb",
   "metadata": {},
   "outputs": [
    {
     "data": {
      "text/plain": [
       "{'max_depth': 6, 'n_estimators': 200}"
      ]
     },
     "execution_count": 167,
     "metadata": {},
     "output_type": "execute_result"
    }
   ],
   "source": [
    "grid_gb_model.best_params_"
   ]
  },
  {
   "cell_type": "code",
   "execution_count": 169,
   "id": "ba8ddf8c",
   "metadata": {},
   "outputs": [],
   "source": [
    "predictions = grid_gb_model.predict(X_test)"
   ]
  },
  {
   "cell_type": "code",
   "execution_count": 170,
   "id": "934463f3",
   "metadata": {},
   "outputs": [
    {
     "data": {
      "text/plain": [
       "array([202.84107158, 269.90282763, 218.52545466, ..., 316.39325077,\n",
       "       333.17512656, 217.91858161])"
      ]
     },
     "execution_count": 170,
     "metadata": {},
     "output_type": "execute_result"
    }
   ],
   "source": [
    "predictions"
   ]
  },
  {
   "cell_type": "code",
   "execution_count": 171,
   "id": "a48b7081",
   "metadata": {},
   "outputs": [
    {
     "data": {
      "text/plain": [
       "array([2.70121936e-04, 2.86365186e-03, 0.00000000e+00, 1.55998730e-02,\n",
       "       9.36991942e-01, 3.72184148e-02, 7.05599655e-03])"
      ]
     },
     "execution_count": 171,
     "metadata": {},
     "output_type": "execute_result"
    }
   ],
   "source": [
    "grid_gb_model.best_estimator_.feature_importances_"
   ]
  },
  {
   "cell_type": "code",
   "execution_count": 177,
   "id": "424df678",
   "metadata": {},
   "outputs": [
    {
     "data": {
      "text/plain": [
       "array([2.70121936e-04, 2.86365186e-03, 0.00000000e+00, 1.55998730e-02,\n",
       "       9.36991942e-01, 3.72184148e-02, 7.05599655e-03])"
      ]
     },
     "execution_count": 177,
     "metadata": {},
     "output_type": "execute_result"
    }
   ],
   "source": [
    "feat_import = grid_gb_model.best_estimator_.feature_importances_\n",
    "feat_import"
   ]
  },
  {
   "cell_type": "code",
   "execution_count": 178,
   "id": "4e958534",
   "metadata": {},
   "outputs": [],
   "source": [
    "imp_feats = pd.DataFrame(index=X.columns,data=feat_import,columns=['Importance'])"
   ]
  },
  {
   "cell_type": "code",
   "execution_count": 180,
   "id": "342fb4c0",
   "metadata": {},
   "outputs": [
    {
     "data": {
      "text/html": [
       "<div>\n",
       "<style scoped>\n",
       "    .dataframe tbody tr th:only-of-type {\n",
       "        vertical-align: middle;\n",
       "    }\n",
       "\n",
       "    .dataframe tbody tr th {\n",
       "        vertical-align: top;\n",
       "    }\n",
       "\n",
       "    .dataframe thead th {\n",
       "        text-align: right;\n",
       "    }\n",
       "</style>\n",
       "<table border=\"1\" class=\"dataframe\">\n",
       "  <thead>\n",
       "    <tr style=\"text-align: right;\">\n",
       "      <th></th>\n",
       "      <th>Importance</th>\n",
       "    </tr>\n",
       "  </thead>\n",
       "  <tbody>\n",
       "    <tr>\n",
       "      <th>NATURAL GAS</th>\n",
       "      <td>0.000000</td>\n",
       "    </tr>\n",
       "    <tr>\n",
       "      <th>DIESEL</th>\n",
       "      <td>0.000270</td>\n",
       "    </tr>\n",
       "    <tr>\n",
       "      <th>ETHANOL</th>\n",
       "      <td>0.002864</td>\n",
       "    </tr>\n",
       "    <tr>\n",
       "      <th>Automatic</th>\n",
       "      <td>0.007056</td>\n",
       "    </tr>\n",
       "    <tr>\n",
       "      <th>PREMIUM GASOLINE</th>\n",
       "      <td>0.015600</td>\n",
       "    </tr>\n",
       "    <tr>\n",
       "      <th>Cylinders</th>\n",
       "      <td>0.037218</td>\n",
       "    </tr>\n",
       "    <tr>\n",
       "      <th>Engine Size(L)</th>\n",
       "      <td>0.936992</td>\n",
       "    </tr>\n",
       "  </tbody>\n",
       "</table>\n",
       "</div>"
      ],
      "text/plain": [
       "                  Importance\n",
       "NATURAL GAS         0.000000\n",
       "DIESEL              0.000270\n",
       "ETHANOL             0.002864\n",
       "Automatic           0.007056\n",
       "PREMIUM GASOLINE    0.015600\n",
       "Cylinders           0.037218\n",
       "Engine Size(L)      0.936992"
      ]
     },
     "execution_count": 180,
     "metadata": {},
     "output_type": "execute_result"
    }
   ],
   "source": [
    "imp_feats.sort_values(by='Importance')"
   ]
  },
  {
   "cell_type": "code",
   "execution_count": 181,
   "id": "4d4954be",
   "metadata": {},
   "outputs": [
    {
     "data": {
      "image/png": "[encoded data removed]",
      "text/plain": [
       "<Figure size 2800x1200 with 1 Axes>"
      ]
     },
     "metadata": {
      "needs_background": "light"
     },
     "output_type": "display_data"
    }
   ],
   "source": [
    "plt.figure(figsize=(14,6),dpi=200)\n",
    "sns.barplot(data=imp_feats.sort_values(by='Importance'),x=imp_feats.sort_values(by='Importance').index,y='Importance')\n",
    "\n",
    "plt.xticks(rotation=90);"
   ]
  },
  {
   "cell_type": "code",
   "execution_count": 182,
   "id": "e863abdd",
   "metadata": {},
   "outputs": [
    {
     "data": {
      "text/plain": [
       "0.8285603584050926"
      ]
     },
     "execution_count": 182,
     "metadata": {},
     "output_type": "execute_result"
    }
   ],
   "source": [
    "grid_gb_model.score(X_test, y_test)"
   ]
  },
  {
   "cell_type": "code",
   "execution_count": 183,
   "id": "8f7331e0",
   "metadata": {},
   "outputs": [
    {
     "data": {
      "text/plain": [
       "GradientBoostingRegressor()"
      ]
     },
     "execution_count": 183,
     "metadata": {},
     "output_type": "execute_result"
    }
   ],
   "source": [
    "gb_model.fit(X_train,y_train)"
   ]
  },
  {
   "cell_type": "code",
   "execution_count": 184,
   "id": "feab37f9",
   "metadata": {},
   "outputs": [
    {
     "data": {
      "text/plain": [
       "0.8109837997002249"
      ]
     },
     "execution_count": 184,
     "metadata": {},
     "output_type": "execute_result"
    }
   ],
   "source": [
    "gb_model.score(X_test, y_test)"
   ]
  },
  {
   "cell_type": "code",
   "execution_count": 185,
   "id": "7d8eab04",
   "metadata": {},
   "outputs": [
    {
     "name": "stdout",
     "output_type": "stream",
     "text": [
      "Accuracy of GB cross validation regression on test set: 0.83\n"
     ]
    }
   ],
   "source": [
    "print('Accuracy of GB cross validation regression on test set: {:.2f}'.format(grid_gb_model.score(X_test, y_test)))"
   ]
  },
  {
   "cell_type": "markdown",
   "id": "3f978e4f",
   "metadata": {},
   "source": [
    "## Random Forest Regression"
   ]
  },
  {
   "cell_type": "code",
   "execution_count": 186,
   "id": "ee7bdfd3",
   "metadata": {},
   "outputs": [],
   "source": [
    "from sklearn.ensemble import RandomForestRegressor"
   ]
  },
  {
   "cell_type": "code",
   "execution_count": 187,
   "id": "7f1f890d",
   "metadata": {},
   "outputs": [],
   "source": [
    "rfr_model = RandomForestRegressor().fit(X_train, y_train)"
   ]
  },
  {
   "cell_type": "code",
   "execution_count": 188,
   "id": "8fccf552",
   "metadata": {},
   "outputs": [],
   "source": [
    "y_pred = rfr_model.predict(X_test)"
   ]
  },
  {
   "cell_type": "code",
   "execution_count": 189,
   "id": "81b06130",
   "metadata": {},
   "outputs": [
    {
     "name": "stdout",
     "output_type": "stream",
     "text": [
      "Accuracy of RF regression on test set: 0.83\n"
     ]
    }
   ],
   "source": [
    "print('Accuracy of RF regression on test set: {:.2f}'.format(rfr_model.score(X_test, y_test)))"
   ]
  },
  {
   "cell_type": "code",
   "execution_count": 190,
   "id": "cc8d949f",
   "metadata": {},
   "outputs": [],
   "source": [
    "MAE = mean_absolute_error(y_test,y_pred)\n",
    "MSE = mean_squared_error(y_test,y_pred)\n",
    "RMSE = np.sqrt(MSE)"
   ]
  },
  {
   "cell_type": "code",
   "execution_count": 191,
   "id": "52cc5d65",
   "metadata": {},
   "outputs": [
    {
     "data": {
      "text/plain": [
       "(18.564726926703276, 25.074814105025187)"
      ]
     },
     "execution_count": 191,
     "metadata": {},
     "output_type": "execute_result"
    }
   ],
   "source": [
    "MAE,RMSE"
   ]
  },
  {
   "cell_type": "markdown",
   "id": "180a159a",
   "metadata": {},
   "source": [
    "## Random Search with Cross Validation"
   ]
  },
  {
   "cell_type": "code",
   "execution_count": 192,
   "id": "4ced8f0e",
   "metadata": {},
   "outputs": [
    {
     "name": "stdout",
     "output_type": "stream",
     "text": [
      "{'bootstrap': [True, False],\n",
      " 'max_depth': [10, 20, 30, 40, 50, 60, 70, 80, 90, 100],\n",
      " 'max_features': ['auto', 'sqrt'],\n",
      " 'min_samples_leaf': [1, 2, 4],\n",
      " 'min_samples_split': [2, 5, 10],\n",
      " 'n_estimators': [100, 200, 300, 400, 500, 600, 700, 800, 900, 1000]}\n"
     ]
    }
   ],
   "source": [
    "from sklearn.model_selection import RandomizedSearchCV\n",
    "from pprint import pprint\n",
    "\n",
    "# Number of trees in random forest\n",
    "n_estimators = [int(x) for x in np.linspace(start = 100, stop = 1000, num = 10)]\n",
    "# Number of features to consider at every split\n",
    "max_features = ['auto', 'sqrt']\n",
    "# Maximum number of levels in tree\n",
    "max_depth = [int(x) for x in np.linspace(10, 100, num = 10)]\n",
    "# Minimum number of samples required to split a node\n",
    "min_samples_split = [2, 5, 10]\n",
    "# Minimum number of samples required at each leaf node\n",
    "min_samples_leaf = [1, 2, 4]\n",
    "# Method of selecting samples for training each tree\n",
    "bootstrap = [True, False]\n",
    "\n",
    "# Create the random grid\n",
    "random_grid = {'n_estimators': n_estimators,\n",
    "               'max_features': max_features,\n",
    "               'max_depth': max_depth,\n",
    "               'min_samples_split': min_samples_split,\n",
    "               'min_samples_leaf': min_samples_leaf,\n",
    "               'bootstrap': bootstrap}\n",
    "\n",
    "pprint(random_grid)"
   ]
  },
  {
   "cell_type": "code",
   "execution_count": 193,
   "id": "6a2dfff7",
   "metadata": {},
   "outputs": [
    {
     "name": "stdout",
     "output_type": "stream",
     "text": [
      "Fitting 5 folds for each of 50 candidates, totalling 250 fits\n"
     ]
    },
    {
     "data": {
      "text/plain": [
       "RandomizedSearchCV(cv=5, estimator=RandomForestRegressor(), n_iter=50,\n",
       "                   n_jobs=-1,\n",
       "                   param_distributions={'bootstrap': [True, False],\n",
       "                                        'max_depth': [10, 20, 30, 40, 50, 60,\n",
       "                                                      70, 80, 90, 100],\n",
       "                                        'max_features': ['auto', 'sqrt'],\n",
       "                                        'min_samples_leaf': [1, 2, 4],\n",
       "                                        'min_samples_split': [2, 5, 10],\n",
       "                                        'n_estimators': [100, 200, 300, 400,\n",
       "                                                         500, 600, 700, 800,\n",
       "                                                         900, 1000]},\n",
       "                   random_state=42, verbose=2)"
      ]
     },
     "execution_count": 193,
     "metadata": {},
     "output_type": "execute_result"
    },
    {
     "name": "stdout",
     "output_type": "stream",
     "text": [
      "[CV] END bootstrap=True, max_depth=90, max_features=sqrt, min_samples_leaf=4, min_samples_split=5, n_estimators=200; total time=   0.4s\n",
      "[CV] END bootstrap=False, max_depth=100, max_features=sqrt, min_samples_leaf=4, min_samples_split=2, n_estimators=600; total time=   0.9s\n",
      "[CV] END bootstrap=False, max_depth=100, max_features=sqrt, min_samples_leaf=4, min_samples_split=2, n_estimators=600; total time=   0.9s\n",
      "[CV] END bootstrap=False, max_depth=100, max_features=sqrt, min_samples_leaf=1, min_samples_split=2, n_estimators=600; total time=   0.9s\n",
      "[CV] END bootstrap=True, max_depth=10, max_features=sqrt, min_samples_leaf=2, min_samples_split=5, n_estimators=500; total time=   0.8s\n",
      "[CV] END bootstrap=False, max_depth=50, max_features=sqrt, min_samples_leaf=4, min_samples_split=2, n_estimators=800; total time=   1.2s\n",
      "[CV] END bootstrap=False, max_depth=30, max_features=sqrt, min_samples_leaf=4, min_samples_split=2, n_estimators=700; total time=   1.0s\n",
      "[CV] END bootstrap=True, max_depth=60, max_features=auto, min_samples_leaf=1, min_samples_split=10, n_estimators=1000; total time=   1.9s\n",
      "[CV] END bootstrap=True, max_depth=20, max_features=sqrt, min_samples_leaf=2, min_samples_split=5, n_estimators=600; total time=   1.0s\n",
      "[CV] END bootstrap=False, max_depth=70, max_features=auto, min_samples_leaf=1, min_samples_split=2, n_estimators=800; total time=   1.6s\n",
      "[CV] END bootstrap=True, max_depth=20, max_features=sqrt, min_samples_leaf=1, min_samples_split=2, n_estimators=100; total time=   0.2s\n",
      "[CV] END bootstrap=True, max_depth=20, max_features=sqrt, min_samples_leaf=1, min_samples_split=2, n_estimators=100; total time=   0.2s\n",
      "[CV] END bootstrap=True, max_depth=20, max_features=sqrt, min_samples_leaf=1, min_samples_split=2, n_estimators=100; total time=   0.2s\n",
      "[CV] END bootstrap=True, max_depth=20, max_features=sqrt, min_samples_leaf=1, min_samples_split=2, n_estimators=100; total time=   0.2s\n",
      "[CV] END bootstrap=True, max_depth=20, max_features=sqrt, min_samples_leaf=1, min_samples_split=2, n_estimators=100; total time=   0.2s\n",
      "[CV] END bootstrap=False, max_depth=10, max_features=sqrt, min_samples_leaf=4, min_samples_split=5, n_estimators=600; total time=   0.8s\n",
      "[CV] END bootstrap=True, max_depth=50, max_features=sqrt, min_samples_leaf=4, min_samples_split=2, n_estimators=1000; total time=   1.5s\n",
      "[CV] END bootstrap=True, max_depth=60, max_features=sqrt, min_samples_leaf=4, min_samples_split=2, n_estimators=800; total time=   1.2s\n",
      "[CV] END bootstrap=True, max_depth=70, max_features=sqrt, min_samples_leaf=4, min_samples_split=2, n_estimators=200; total time=   0.3s\n",
      "[CV] END bootstrap=True, max_depth=70, max_features=sqrt, min_samples_leaf=4, min_samples_split=2, n_estimators=200; total time=   0.3s\n",
      "[CV] END bootstrap=True, max_depth=30, max_features=auto, min_samples_leaf=4, min_samples_split=5, n_estimators=1000; total time=   1.9s\n",
      "[CV] END bootstrap=False, max_depth=60, max_features=sqrt, min_samples_leaf=2, min_samples_split=10, n_estimators=400; total time=   0.6s\n",
      "[CV] END bootstrap=False, max_depth=70, max_features=sqrt, min_samples_leaf=2, min_samples_split=5, n_estimators=1000; total time=   1.6s\n",
      "[CV] END bootstrap=True, max_depth=10, max_features=sqrt, min_samples_leaf=4, min_samples_split=10, n_estimators=1000; total time=   1.6s\n",
      "[CV] END bootstrap=False, max_depth=70, max_features=sqrt, min_samples_leaf=1, min_samples_split=5, n_estimators=900; total time=   1.4s\n",
      "[CV] END bootstrap=False, max_depth=40, max_features=sqrt, min_samples_leaf=1, min_samples_split=10, n_estimators=700; total time=   1.2s\n",
      "[CV] END bootstrap=True, max_depth=60, max_features=sqrt, min_samples_leaf=1, min_samples_split=2, n_estimators=1000; total time=   1.9s\n",
      "[CV] END bootstrap=True, max_depth=60, max_features=auto, min_samples_leaf=1, min_samples_split=10, n_estimators=800; total time=   1.7s\n",
      "[CV] END bootstrap=False, max_depth=70, max_features=sqrt, min_samples_leaf=4, min_samples_split=2, n_estimators=400; total time=   0.6s\n",
      "[CV] END bootstrap=False, max_depth=70, max_features=auto, min_samples_leaf=4, min_samples_split=5, n_estimators=600; total time=   1.3s\n",
      "[CV] END bootstrap=True, max_depth=100, max_features=sqrt, min_samples_leaf=4, min_samples_split=5, n_estimators=700; total time=   1.7s\n",
      "[CV] END bootstrap=True, max_depth=30, max_features=auto, min_samples_leaf=1, min_samples_split=10, n_estimators=800; total time=   2.1s\n",
      "[CV] END bootstrap=True, max_depth=80, max_features=auto, min_samples_leaf=4, min_samples_split=10, n_estimators=100; total time=   0.2s\n",
      "[CV] END bootstrap=False, max_depth=100, max_features=sqrt, min_samples_leaf=2, min_samples_split=2, n_estimators=1000; total time=   1.5s\n",
      "[CV] END bootstrap=True, max_depth=20, max_features=auto, min_samples_leaf=2, min_samples_split=2, n_estimators=200; total time=   0.4s\n",
      "[CV] END bootstrap=False, max_depth=100, max_features=sqrt, min_samples_leaf=1, min_samples_split=2, n_estimators=600; total time=   1.0s\n",
      "[CV] END bootstrap=True, max_depth=10, max_features=sqrt, min_samples_leaf=2, min_samples_split=5, n_estimators=500; total time=   0.8s\n",
      "[CV] END bootstrap=False, max_depth=50, max_features=sqrt, min_samples_leaf=4, min_samples_split=2, n_estimators=800; total time=   1.1s\n",
      "[CV] END bootstrap=False, max_depth=30, max_features=sqrt, min_samples_leaf=4, min_samples_split=2, n_estimators=700; total time=   1.0s\n",
      "[CV] END bootstrap=True, max_depth=60, max_features=auto, min_samples_leaf=1, min_samples_split=10, n_estimators=1000; total time=   1.9s\n",
      "[CV] END bootstrap=True, max_depth=20, max_features=sqrt, min_samples_leaf=2, min_samples_split=5, n_estimators=600; total time=   0.9s\n",
      "[CV] END bootstrap=False, max_depth=70, max_features=auto, min_samples_leaf=1, min_samples_split=2, n_estimators=800; total time=   1.6s\n",
      "[CV] END bootstrap=True, max_depth=90, max_features=auto, min_samples_leaf=4, min_samples_split=2, n_estimators=1000; total time=   1.9s\n",
      "[CV] END bootstrap=True, max_depth=50, max_features=sqrt, min_samples_leaf=4, min_samples_split=2, n_estimators=1000; total time=   1.5s\n",
      "[CV] END bootstrap=False, max_depth=40, max_features=auto, min_samples_leaf=2, min_samples_split=2, n_estimators=800; total time=   1.5s\n",
      "[CV] END bootstrap=True, max_depth=30, max_features=auto, min_samples_leaf=4, min_samples_split=5, n_estimators=1000; total time=   1.8s\n",
      "[CV] END bootstrap=True, max_depth=40, max_features=sqrt, min_samples_leaf=2, min_samples_split=5, n_estimators=100; total time=   0.2s\n",
      "[CV] END bootstrap=True, max_depth=40, max_features=sqrt, min_samples_leaf=2, min_samples_split=5, n_estimators=100; total time=   0.2s\n",
      "[CV] END bootstrap=False, max_depth=60, max_features=sqrt, min_samples_leaf=2, min_samples_split=10, n_estimators=400; total time=   0.6s\n",
      "[CV] END bootstrap=False, max_depth=70, max_features=sqrt, min_samples_leaf=2, min_samples_split=5, n_estimators=1000; total time=   1.6s\n",
      "[CV] END bootstrap=True, max_depth=10, max_features=sqrt, min_samples_leaf=4, min_samples_split=10, n_estimators=1000; total time=   1.6s\n",
      "[CV] END bootstrap=False, max_depth=70, max_features=sqrt, min_samples_leaf=1, min_samples_split=5, n_estimators=900; total time=   1.4s\n",
      "[CV] END bootstrap=False, max_depth=40, max_features=sqrt, min_samples_leaf=1, min_samples_split=10, n_estimators=700; total time=   1.2s\n",
      "[CV] END bootstrap=True, max_depth=60, max_features=sqrt, min_samples_leaf=1, min_samples_split=2, n_estimators=1000; total time=   1.9s\n",
      "[CV] END bootstrap=True, max_depth=60, max_features=auto, min_samples_leaf=1, min_samples_split=10, n_estimators=800; total time=   1.7s\n",
      "[CV] END bootstrap=False, max_depth=50, max_features=sqrt, min_samples_leaf=4, min_samples_split=10, n_estimators=700; total time=   1.1s\n",
      "[CV] END bootstrap=True, max_depth=10, max_features=sqrt, min_samples_leaf=2, min_samples_split=2, n_estimators=100; total time=   0.2s\n",
      "[CV] END bootstrap=True, max_depth=100, max_features=sqrt, min_samples_leaf=4, min_samples_split=5, n_estimators=700; total time=   1.5s\n",
      "[CV] END bootstrap=True, max_depth=80, max_features=sqrt, min_samples_leaf=2, min_samples_split=10, n_estimators=400; total time=   0.9s\n",
      "[CV] END bootstrap=True, max_depth=90, max_features=auto, min_samples_leaf=4, min_samples_split=5, n_estimators=100; total time=   0.3s\n",
      "[CV] END bootstrap=False, max_depth=20, max_features=sqrt, min_samples_leaf=2, min_samples_split=2, n_estimators=500; total time=   0.9s\n",
      "[CV] END bootstrap=False, max_depth=20, max_features=sqrt, min_samples_leaf=2, min_samples_split=2, n_estimators=500; total time=   0.9s\n",
      "[CV] END bootstrap=True, max_depth=80, max_features=auto, min_samples_leaf=4, min_samples_split=10, n_estimators=100; total time=   0.2s\n",
      "[CV] END bootstrap=True, max_depth=90, max_features=sqrt, min_samples_leaf=4, min_samples_split=5, n_estimators=200; total time=   0.3s\n",
      "[CV] END bootstrap=False, max_depth=100, max_features=sqrt, min_samples_leaf=4, min_samples_split=2, n_estimators=600; total time=   0.9s\n",
      "[CV] END bootstrap=False, max_depth=100, max_features=sqrt, min_samples_leaf=4, min_samples_split=2, n_estimators=600; total time=   0.9s\n",
      "[CV] END bootstrap=True, max_depth=90, max_features=auto, min_samples_leaf=1, min_samples_split=10, n_estimators=600; total time=   1.2s\n",
      "[CV] END bootstrap=True, max_depth=10, max_features=sqrt, min_samples_leaf=2, min_samples_split=5, n_estimators=500; total time=   0.9s\n",
      "[CV] END bootstrap=True, max_depth=100, max_features=sqrt, min_samples_leaf=2, min_samples_split=2, n_estimators=300; total time=   0.5s\n",
      "[CV] END bootstrap=False, max_depth=30, max_features=sqrt, min_samples_leaf=4, min_samples_split=2, n_estimators=700; total time=   1.0s\n",
      "[CV] END bootstrap=True, max_depth=10, max_features=auto, min_samples_leaf=1, min_samples_split=10, n_estimators=700; total time=   1.3s\n",
      "[CV] END bootstrap=True, max_depth=10, max_features=auto, min_samples_leaf=2, min_samples_split=2, n_estimators=300; total time=   0.6s\n",
      "[CV] END bootstrap=True, max_depth=10, max_features=auto, min_samples_leaf=2, min_samples_split=2, n_estimators=300; total time=   0.6s\n",
      "[CV] END bootstrap=False, max_depth=60, max_features=auto, min_samples_leaf=1, min_samples_split=2, n_estimators=800; total time=   1.5s\n",
      "[CV] END bootstrap=False, max_depth=70, max_features=auto, min_samples_leaf=1, min_samples_split=2, n_estimators=800; total time=   1.6s\n",
      "[CV] END bootstrap=False, max_depth=10, max_features=sqrt, min_samples_leaf=4, min_samples_split=5, n_estimators=600; total time=   0.8s\n",
      "[CV] END bootstrap=True, max_depth=50, max_features=sqrt, min_samples_leaf=4, min_samples_split=2, n_estimators=1000; total time=   1.5s\n",
      "[CV] END bootstrap=True, max_depth=60, max_features=sqrt, min_samples_leaf=4, min_samples_split=2, n_estimators=800; total time=   1.2s\n",
      "[CV] END bootstrap=True, max_depth=70, max_features=sqrt, min_samples_leaf=4, min_samples_split=2, n_estimators=200; total time=   0.3s\n",
      "[CV] END bootstrap=True, max_depth=70, max_features=sqrt, min_samples_leaf=4, min_samples_split=2, n_estimators=200; total time=   0.3s\n",
      "[CV] END bootstrap=True, max_depth=30, max_features=auto, min_samples_leaf=4, min_samples_split=5, n_estimators=1000; total time=   1.9s\n",
      "[CV] END bootstrap=True, max_depth=40, max_features=sqrt, min_samples_leaf=2, min_samples_split=5, n_estimators=100; total time=   0.2s\n",
      "[CV] END bootstrap=False, max_depth=60, max_features=sqrt, min_samples_leaf=2, min_samples_split=10, n_estimators=400; total time=   0.6s\n",
      "[CV] END bootstrap=True, max_depth=50, max_features=sqrt, min_samples_leaf=1, min_samples_split=2, n_estimators=200; total time=   0.3s\n",
      "[CV] END bootstrap=True, max_depth=50, max_features=sqrt, min_samples_leaf=1, min_samples_split=2, n_estimators=200; total time=   0.3s\n",
      "[CV] END bootstrap=False, max_depth=40, max_features=auto, min_samples_leaf=1, min_samples_split=5, n_estimators=800; total time=   1.6s\n",
      "[CV] END bootstrap=True, max_depth=10, max_features=sqrt, min_samples_leaf=4, min_samples_split=10, n_estimators=1000; total time=   1.6s\n",
      "[CV] END bootstrap=False, max_depth=40, max_features=sqrt, min_samples_leaf=1, min_samples_split=10, n_estimators=700; total time=   1.1s\n",
      "[CV] END bootstrap=True, max_depth=70, max_features=sqrt, min_samples_leaf=2, min_samples_split=10, n_estimators=700; total time=   1.3s\n",
      "[CV] END bootstrap=True, max_depth=50, max_features=sqrt, min_samples_leaf=1, min_samples_split=2, n_estimators=800; total time=   1.5s\n",
      "[CV] END bootstrap=True, max_depth=60, max_features=auto, min_samples_leaf=1, min_samples_split=10, n_estimators=800; total time=   1.7s\n",
      "[CV] END bootstrap=False, max_depth=70, max_features=sqrt, min_samples_leaf=4, min_samples_split=2, n_estimators=400; total time=   0.6s\n",
      "[CV] END bootstrap=False, max_depth=70, max_features=auto, min_samples_leaf=4, min_samples_split=5, n_estimators=600; total time=   1.3s\n",
      "[CV] END bootstrap=True, max_depth=100, max_features=sqrt, min_samples_leaf=4, min_samples_split=5, n_estimators=700; total time=   1.6s\n",
      "[CV] END bootstrap=True, max_depth=90, max_features=auto, min_samples_leaf=4, min_samples_split=5, n_estimators=100; total time=   0.3s\n",
      "[CV] END bootstrap=True, max_depth=90, max_features=auto, min_samples_leaf=4, min_samples_split=5, n_estimators=100; total time=   0.3s\n",
      "[CV] END bootstrap=False, max_depth=20, max_features=sqrt, min_samples_leaf=2, min_samples_split=2, n_estimators=500; total time=   1.0s\n",
      "[CV] END bootstrap=False, max_depth=70, max_features=auto, min_samples_leaf=4, min_samples_split=10, n_estimators=300; total time=   0.6s\n",
      "[CV] END bootstrap=True, max_depth=80, max_features=auto, min_samples_leaf=4, min_samples_split=10, n_estimators=100; total time=   0.2s\n",
      "[CV] END bootstrap=True, max_depth=90, max_features=sqrt, min_samples_leaf=4, min_samples_split=5, n_estimators=200; total time=   0.3s\n",
      "[CV] END bootstrap=False, max_depth=100, max_features=sqrt, min_samples_leaf=4, min_samples_split=2, n_estimators=600; total time=   0.9s\n",
      "[CV] END bootstrap=True, max_depth=20, max_features=auto, min_samples_leaf=2, min_samples_split=2, n_estimators=200; total time=   0.4s\n",
      "[CV] END bootstrap=True, max_depth=20, max_features=auto, min_samples_leaf=2, min_samples_split=2, n_estimators=200; total time=   0.4s\n",
      "[CV] END bootstrap=True, max_depth=90, max_features=auto, min_samples_leaf=1, min_samples_split=10, n_estimators=600; total time=   1.2s\n",
      "[CV] END bootstrap=False, max_depth=50, max_features=sqrt, min_samples_leaf=4, min_samples_split=2, n_estimators=800; total time=   1.2s\n",
      "[CV] END bootstrap=True, max_depth=100, max_features=sqrt, min_samples_leaf=2, min_samples_split=2, n_estimators=300; total time=   0.5s\n",
      "[CV] END bootstrap=False, max_depth=30, max_features=sqrt, min_samples_leaf=4, min_samples_split=2, n_estimators=700; total time=   1.0s\n",
      "[CV] END bootstrap=True, max_depth=60, max_features=auto, min_samples_leaf=1, min_samples_split=10, n_estimators=1000; total time=   1.9s\n",
      "[CV] END bootstrap=True, max_depth=20, max_features=sqrt, min_samples_leaf=2, min_samples_split=5, n_estimators=600; total time=   1.0s\n",
      "[CV] END bootstrap=False, max_depth=70, max_features=auto, min_samples_leaf=1, min_samples_split=2, n_estimators=800; total time=   1.6s\n",
      "[CV] END bootstrap=True, max_depth=90, max_features=auto, min_samples_leaf=4, min_samples_split=2, n_estimators=1000; total time=   1.9s\n",
      "[CV] END bootstrap=False, max_depth=10, max_features=sqrt, min_samples_leaf=2, min_samples_split=2, n_estimators=500; total time=   0.7s\n",
      "[CV] END bootstrap=False, max_depth=10, max_features=sqrt, min_samples_leaf=2, min_samples_split=2, n_estimators=500; total time=   0.7s\n",
      "[CV] END bootstrap=False, max_depth=40, max_features=auto, min_samples_leaf=2, min_samples_split=2, n_estimators=800; total time=   1.5s\n",
      "[CV] END bootstrap=True, max_depth=30, max_features=auto, min_samples_leaf=4, min_samples_split=5, n_estimators=1000; total time=   1.9s\n",
      "[CV] END bootstrap=True, max_depth=40, max_features=sqrt, min_samples_leaf=2, min_samples_split=5, n_estimators=100; total time=   0.2s\n",
      "[CV] END bootstrap=True, max_depth=40, max_features=sqrt, min_samples_leaf=2, min_samples_split=5, n_estimators=100; total time=   0.2s\n",
      "[CV] END bootstrap=False, max_depth=70, max_features=sqrt, min_samples_leaf=2, min_samples_split=5, n_estimators=1000; total time=   1.5s\n",
      "[CV] END bootstrap=False, max_depth=40, max_features=auto, min_samples_leaf=1, min_samples_split=5, n_estimators=800; total time=   1.7s\n",
      "[CV] END bootstrap=False, max_depth=60, max_features=auto, min_samples_leaf=4, min_samples_split=2, n_estimators=300; total time=   0.6s\n",
      "[CV] END bootstrap=False, max_depth=70, max_features=sqrt, min_samples_leaf=1, min_samples_split=5, n_estimators=900; total time=   1.5s\n",
      "[CV] END bootstrap=True, max_depth=70, max_features=sqrt, min_samples_leaf=2, min_samples_split=10, n_estimators=700; total time=   1.3s\n",
      "[CV] END bootstrap=True, max_depth=60, max_features=sqrt, min_samples_leaf=1, min_samples_split=2, n_estimators=1000; total time=   1.9s\n",
      "[CV] END bootstrap=True, max_depth=60, max_features=auto, min_samples_leaf=1, min_samples_split=10, n_estimators=800; total time=   1.7s\n",
      "[CV] END bootstrap=False, max_depth=70, max_features=sqrt, min_samples_leaf=4, min_samples_split=2, n_estimators=400; total time=   0.6s\n",
      "[CV] END bootstrap=True, max_depth=10, max_features=sqrt, min_samples_leaf=2, min_samples_split=2, n_estimators=100; total time=   0.2s\n",
      "[CV] END bootstrap=True, max_depth=10, max_features=sqrt, min_samples_leaf=2, min_samples_split=2, n_estimators=100; total time=   0.2s\n",
      "[CV] END bootstrap=True, max_depth=100, max_features=sqrt, min_samples_leaf=4, min_samples_split=5, n_estimators=700; total time=   1.6s\n",
      "[CV] END bootstrap=True, max_depth=30, max_features=auto, min_samples_leaf=1, min_samples_split=10, n_estimators=800; total time=   2.1s\n",
      "[CV] END bootstrap=False, max_depth=20, max_features=sqrt, min_samples_leaf=2, min_samples_split=2, n_estimators=500; total time=   0.9s\n",
      "[CV] END bootstrap=True, max_depth=80, max_features=auto, min_samples_leaf=4, min_samples_split=10, n_estimators=100; total time=   0.2s\n",
      "[CV] END bootstrap=False, max_depth=100, max_features=sqrt, min_samples_leaf=2, min_samples_split=2, n_estimators=1000; total time=   1.6s\n",
      "[CV] END bootstrap=True, max_depth=20, max_features=auto, min_samples_leaf=2, min_samples_split=2, n_estimators=200; total time=   0.4s\n",
      "[CV] END bootstrap=True, max_depth=90, max_features=auto, min_samples_leaf=1, min_samples_split=10, n_estimators=600; total time=   1.2s\n",
      "[CV] END bootstrap=True, max_depth=10, max_features=sqrt, min_samples_leaf=2, min_samples_split=5, n_estimators=500; total time=   0.9s\n",
      "[CV] END bootstrap=True, max_depth=100, max_features=sqrt, min_samples_leaf=2, min_samples_split=2, n_estimators=300; total time=   0.5s\n",
      "[CV] END bootstrap=False, max_depth=30, max_features=sqrt, min_samples_leaf=4, min_samples_split=2, n_estimators=700; total time=   1.0s\n",
      "[CV] END bootstrap=True, max_depth=10, max_features=auto, min_samples_leaf=1, min_samples_split=10, n_estimators=700; total time=   1.3s\n",
      "[CV] END bootstrap=True, max_depth=10, max_features=auto, min_samples_leaf=2, min_samples_split=2, n_estimators=300; total time=   0.6s\n",
      "[CV] END bootstrap=True, max_depth=20, max_features=sqrt, min_samples_leaf=2, min_samples_split=5, n_estimators=600; total time=   0.9s\n",
      "[CV] END bootstrap=False, max_depth=60, max_features=auto, min_samples_leaf=1, min_samples_split=2, n_estimators=800; total time=   1.6s\n",
      "[CV] END bootstrap=True, max_depth=90, max_features=auto, min_samples_leaf=4, min_samples_split=2, n_estimators=1000; total time=   1.9s\n",
      "[CV] END bootstrap=True, max_depth=50, max_features=sqrt, min_samples_leaf=4, min_samples_split=2, n_estimators=1000; total time=   1.5s\n",
      "[CV] END bootstrap=True, max_depth=60, max_features=sqrt, min_samples_leaf=4, min_samples_split=2, n_estimators=800; total time=   1.2s\n",
      "[CV] END bootstrap=False, max_depth=40, max_features=auto, min_samples_leaf=2, min_samples_split=2, n_estimators=800; total time=   1.5s\n",
      "[CV] END bootstrap=True, max_depth=30, max_features=auto, min_samples_leaf=2, min_samples_split=10, n_estimators=600; total time=   1.2s\n",
      "[CV] END bootstrap=False, max_depth=60, max_features=sqrt, min_samples_leaf=2, min_samples_split=10, n_estimators=400; total time=   0.6s\n",
      "[CV] END bootstrap=False, max_depth=70, max_features=sqrt, min_samples_leaf=2, min_samples_split=5, n_estimators=1000; total time=   1.4s\n",
      "[CV] END bootstrap=False, max_depth=40, max_features=auto, min_samples_leaf=1, min_samples_split=5, n_estimators=800; total time=   1.6s\n",
      "[CV] END bootstrap=False, max_depth=60, max_features=auto, min_samples_leaf=4, min_samples_split=2, n_estimators=300; total time=   0.6s\n",
      "[CV] END bootstrap=False, max_depth=70, max_features=sqrt, min_samples_leaf=1, min_samples_split=5, n_estimators=900; total time=   1.4s\n",
      "[CV] END bootstrap=True, max_depth=70, max_features=sqrt, min_samples_leaf=2, min_samples_split=10, n_estimators=700; total time=   1.3s\n",
      "[CV] END bootstrap=True, max_depth=50, max_features=sqrt, min_samples_leaf=1, min_samples_split=2, n_estimators=800; total time=   1.5s\n",
      "[CV] END bootstrap=True, max_depth=60, max_features=auto, min_samples_leaf=1, min_samples_split=10, n_estimators=800; total time=   1.7s\n",
      "[CV] END bootstrap=False, max_depth=70, max_features=sqrt, min_samples_leaf=4, min_samples_split=2, n_estimators=400; total time=   0.6s\n",
      "[CV] END bootstrap=False, max_depth=70, max_features=auto, min_samples_leaf=4, min_samples_split=5, n_estimators=600; total time=   1.3s\n",
      "[CV] END bootstrap=True, max_depth=80, max_features=sqrt, min_samples_leaf=2, min_samples_split=10, n_estimators=400; total time=   1.1s\n",
      "[CV] END bootstrap=True, max_depth=30, max_features=auto, min_samples_leaf=1, min_samples_split=10, n_estimators=800; total time=   2.1s\n",
      "[CV] END bootstrap=False, max_depth=70, max_features=auto, min_samples_leaf=4, min_samples_split=10, n_estimators=300; total time=   0.7s\n",
      "[CV] END bootstrap=True, max_depth=90, max_features=sqrt, min_samples_leaf=4, min_samples_split=5, n_estimators=200; total time=   0.3s\n",
      "[CV] END bootstrap=False, max_depth=100, max_features=sqrt, min_samples_leaf=2, min_samples_split=2, n_estimators=1000; total time=   1.6s\n",
      "[CV] END bootstrap=False, max_depth=100, max_features=sqrt, min_samples_leaf=1, min_samples_split=2, n_estimators=600; total time=   0.9s\n",
      "[CV] END bootstrap=True, max_depth=90, max_features=auto, min_samples_leaf=1, min_samples_split=10, n_estimators=600; total time=   1.3s\n",
      "[CV] END bootstrap=False, max_depth=50, max_features=sqrt, min_samples_leaf=4, min_samples_split=2, n_estimators=800; total time=   1.1s\n",
      "[CV] END bootstrap=True, max_depth=10, max_features=auto, min_samples_leaf=1, min_samples_split=10, n_estimators=700; total time=   1.3s\n",
      "[CV] END bootstrap=True, max_depth=10, max_features=auto, min_samples_leaf=2, min_samples_split=2, n_estimators=300; total time=   0.6s\n",
      "[CV] END bootstrap=True, max_depth=10, max_features=auto, min_samples_leaf=2, min_samples_split=2, n_estimators=300; total time=   0.6s\n",
      "[CV] END bootstrap=True, max_depth=20, max_features=sqrt, min_samples_leaf=2, min_samples_split=5, n_estimators=600; total time=   1.0s\n",
      "[CV] END bootstrap=False, max_depth=60, max_features=auto, min_samples_leaf=1, min_samples_split=2, n_estimators=800; total time=   1.6s\n",
      "[CV] END bootstrap=True, max_depth=90, max_features=auto, min_samples_leaf=4, min_samples_split=2, n_estimators=1000; total time=   1.8s\n",
      "[CV] END bootstrap=False, max_depth=10, max_features=sqrt, min_samples_leaf=4, min_samples_split=5, n_estimators=600; total time=   0.8s\n",
      "[CV] END bootstrap=False, max_depth=10, max_features=sqrt, min_samples_leaf=2, min_samples_split=2, n_estimators=500; total time=   0.7s\n",
      "[CV] END bootstrap=True, max_depth=60, max_features=sqrt, min_samples_leaf=4, min_samples_split=2, n_estimators=800; total time=   1.2s\n",
      "[CV] END bootstrap=False, max_depth=40, max_features=auto, min_samples_leaf=2, min_samples_split=2, n_estimators=800; total time=   1.5s\n",
      "[CV] END bootstrap=True, max_depth=30, max_features=auto, min_samples_leaf=2, min_samples_split=10, n_estimators=600; total time=   1.1s\n",
      "[CV] END bootstrap=False, max_depth=60, max_features=sqrt, min_samples_leaf=2, min_samples_split=10, n_estimators=400; total time=   0.6s\n",
      "[CV] END bootstrap=False, max_depth=70, max_features=sqrt, min_samples_leaf=2, min_samples_split=5, n_estimators=1000; total time=   1.5s\n",
      "[CV] END bootstrap=True, max_depth=10, max_features=sqrt, min_samples_leaf=4, min_samples_split=10, n_estimators=1000; total time=   1.7s\n",
      "[CV] END bootstrap=False, max_depth=60, max_features=auto, min_samples_leaf=4, min_samples_split=2, n_estimators=300; total time=   0.6s\n",
      "[CV] END bootstrap=False, max_depth=40, max_features=sqrt, min_samples_leaf=1, min_samples_split=10, n_estimators=700; total time=   1.1s\n",
      "[CV] END bootstrap=True, max_depth=70, max_features=sqrt, min_samples_leaf=2, min_samples_split=10, n_estimators=700; total time=   1.3s\n",
      "[CV] END bootstrap=True, max_depth=50, max_features=sqrt, min_samples_leaf=1, min_samples_split=2, n_estimators=800; total time=   1.5s\n",
      "[CV] END bootstrap=True, max_depth=50, max_features=sqrt, min_samples_leaf=1, min_samples_split=2, n_estimators=800; total time=   1.5s\n",
      "[CV] END bootstrap=False, max_depth=50, max_features=sqrt, min_samples_leaf=4, min_samples_split=10, n_estimators=700; total time=   1.1s\n",
      "[CV] END bootstrap=True, max_depth=10, max_features=sqrt, min_samples_leaf=2, min_samples_split=2, n_estimators=100; total time=   0.2s\n",
      "[CV] END bootstrap=True, max_depth=10, max_features=sqrt, min_samples_leaf=2, min_samples_split=2, n_estimators=100; total time=   0.2s\n",
      "[CV] END bootstrap=True, max_depth=100, max_features=sqrt, min_samples_leaf=4, min_samples_split=5, n_estimators=700; total time=   1.5s\n",
      "[CV] END bootstrap=True, max_depth=80, max_features=sqrt, min_samples_leaf=2, min_samples_split=10, n_estimators=400; total time=   0.9s\n",
      "[CV] END bootstrap=True, max_depth=90, max_features=auto, min_samples_leaf=4, min_samples_split=5, n_estimators=100; total time=   0.3s\n",
      "[CV] END bootstrap=True, max_depth=90, max_features=auto, min_samples_leaf=4, min_samples_split=5, n_estimators=100; total time=   0.2s\n",
      "[CV] END bootstrap=False, max_depth=20, max_features=sqrt, min_samples_leaf=2, min_samples_split=2, n_estimators=500; total time=   1.2s\n",
      "[CV] END bootstrap=False, max_depth=70, max_features=auto, min_samples_leaf=4, min_samples_split=10, n_estimators=300; total time=   0.6s\n",
      "[CV] END bootstrap=True, max_depth=80, max_features=auto, min_samples_leaf=4, min_samples_split=10, n_estimators=100; total time=   0.2s\n",
      "[CV] END bootstrap=False, max_depth=100, max_features=sqrt, min_samples_leaf=2, min_samples_split=2, n_estimators=1000; total time=   1.5s\n",
      "[CV] END bootstrap=True, max_depth=20, max_features=auto, min_samples_leaf=2, min_samples_split=2, n_estimators=200; total time=   0.4s\n",
      "[CV] END bootstrap=False, max_depth=100, max_features=sqrt, min_samples_leaf=1, min_samples_split=2, n_estimators=600; total time=   1.0s\n",
      "[CV] END bootstrap=True, max_depth=10, max_features=sqrt, min_samples_leaf=2, min_samples_split=5, n_estimators=500; total time=   0.9s\n",
      "[CV] END bootstrap=False, max_depth=50, max_features=sqrt, min_samples_leaf=4, min_samples_split=2, n_estimators=800; total time=   1.1s\n",
      "[CV] END bootstrap=True, max_depth=10, max_features=auto, min_samples_leaf=1, min_samples_split=10, n_estimators=700; total time=   1.3s\n",
      "[CV] END bootstrap=True, max_depth=60, max_features=auto, min_samples_leaf=1, min_samples_split=10, n_estimators=1000; total time=   1.9s\n",
      "[CV] END bootstrap=False, max_depth=60, max_features=auto, min_samples_leaf=1, min_samples_split=2, n_estimators=800; total time=   1.5s\n",
      "[CV] END bootstrap=False, max_depth=70, max_features=auto, min_samples_leaf=1, min_samples_split=2, n_estimators=800; total time=   1.6s\n",
      "[CV] END bootstrap=False, max_depth=10, max_features=sqrt, min_samples_leaf=4, min_samples_split=5, n_estimators=600; total time=   0.9s\n",
      "[CV] END bootstrap=True, max_depth=50, max_features=sqrt, min_samples_leaf=4, min_samples_split=2, n_estimators=1000; total time=   1.5s\n",
      "[CV] END bootstrap=True, max_depth=60, max_features=sqrt, min_samples_leaf=4, min_samples_split=2, n_estimators=800; total time=   1.2s\n",
      "[CV] END bootstrap=True, max_depth=70, max_features=sqrt, min_samples_leaf=4, min_samples_split=2, n_estimators=200; total time=   0.3s\n",
      "[CV] END bootstrap=True, max_depth=30, max_features=auto, min_samples_leaf=4, min_samples_split=5, n_estimators=1000; total time=   1.8s\n",
      "[CV] END bootstrap=True, max_depth=30, max_features=auto, min_samples_leaf=2, min_samples_split=10, n_estimators=600; total time=   1.2s\n",
      "[CV] END bootstrap=True, max_depth=50, max_features=sqrt, min_samples_leaf=1, min_samples_split=2, n_estimators=200; total time=   0.3s\n",
      "[CV] END bootstrap=False, max_depth=40, max_features=auto, min_samples_leaf=1, min_samples_split=5, n_estimators=800; total time=   1.6s\n",
      "[CV] END bootstrap=True, max_depth=10, max_features=sqrt, min_samples_leaf=4, min_samples_split=10, n_estimators=1000; total time=   1.5s\n",
      "[CV] END bootstrap=False, max_depth=70, max_features=sqrt, min_samples_leaf=1, min_samples_split=5, n_estimators=900; total time=   1.4s\n",
      "[CV] END bootstrap=True, max_depth=60, max_features=sqrt, min_samples_leaf=1, min_samples_split=2, n_estimators=1000; total time=   2.0s\n",
      "[CV] END bootstrap=True, max_depth=50, max_features=sqrt, min_samples_leaf=1, min_samples_split=2, n_estimators=800; total time=   1.4s\n",
      "[CV] END bootstrap=False, max_depth=50, max_features=sqrt, min_samples_leaf=4, min_samples_split=10, n_estimators=700; total time=   1.1s\n",
      "[CV] END bootstrap=False, max_depth=70, max_features=sqrt, min_samples_leaf=4, min_samples_split=2, n_estimators=400; total time=   0.6s\n",
      "[CV] END bootstrap=False, max_depth=70, max_features=auto, min_samples_leaf=4, min_samples_split=5, n_estimators=600; total time=   1.4s\n",
      "[CV] END bootstrap=True, max_depth=80, max_features=sqrt, min_samples_leaf=2, min_samples_split=10, n_estimators=400; total time=   1.2s\n",
      "[CV] END bootstrap=True, max_depth=30, max_features=auto, min_samples_leaf=1, min_samples_split=10, n_estimators=800; total time=   2.0s\n",
      "[CV] END bootstrap=False, max_depth=70, max_features=auto, min_samples_leaf=4, min_samples_split=10, n_estimators=300; total time=   0.6s\n",
      "[CV] END bootstrap=True, max_depth=90, max_features=sqrt, min_samples_leaf=4, min_samples_split=5, n_estimators=200; total time=   0.3s\n",
      "[CV] END bootstrap=False, max_depth=100, max_features=sqrt, min_samples_leaf=2, min_samples_split=2, n_estimators=1000; total time=   1.7s\n",
      "[CV] END bootstrap=False, max_depth=100, max_features=sqrt, min_samples_leaf=1, min_samples_split=2, n_estimators=600; total time=   0.9s\n",
      "[CV] END bootstrap=True, max_depth=90, max_features=auto, min_samples_leaf=1, min_samples_split=10, n_estimators=600; total time=   1.3s\n",
      "[CV] END bootstrap=True, max_depth=100, max_features=sqrt, min_samples_leaf=2, min_samples_split=2, n_estimators=300; total time=   0.5s\n",
      "[CV] END bootstrap=True, max_depth=100, max_features=sqrt, min_samples_leaf=2, min_samples_split=2, n_estimators=300; total time=   0.5s\n",
      "[CV] END bootstrap=True, max_depth=10, max_features=auto, min_samples_leaf=1, min_samples_split=10, n_estimators=700; total time=   1.3s\n",
      "[CV] END bootstrap=True, max_depth=60, max_features=auto, min_samples_leaf=1, min_samples_split=10, n_estimators=1000; total time=   2.0s\n",
      "[CV] END bootstrap=False, max_depth=60, max_features=auto, min_samples_leaf=1, min_samples_split=2, n_estimators=800; total time=   1.6s\n",
      "[CV] END bootstrap=True, max_depth=90, max_features=auto, min_samples_leaf=4, min_samples_split=2, n_estimators=1000; total time=   1.9s\n",
      "[CV] END bootstrap=False, max_depth=10, max_features=sqrt, min_samples_leaf=4, min_samples_split=5, n_estimators=600; total time=   0.9s\n",
      "[CV] END bootstrap=False, max_depth=10, max_features=sqrt, min_samples_leaf=2, min_samples_split=2, n_estimators=500; total time=   0.8s\n",
      "[CV] END bootstrap=False, max_depth=10, max_features=sqrt, min_samples_leaf=2, min_samples_split=2, n_estimators=500; total time=   0.7s\n",
      "[CV] END bootstrap=False, max_depth=40, max_features=auto, min_samples_leaf=2, min_samples_split=2, n_estimators=800; total time=   1.5s\n",
      "[CV] END bootstrap=True, max_depth=30, max_features=auto, min_samples_leaf=2, min_samples_split=10, n_estimators=600; total time=   1.2s\n",
      "[CV] END bootstrap=True, max_depth=30, max_features=auto, min_samples_leaf=2, min_samples_split=10, n_estimators=600; total time=   1.2s\n",
      "[CV] END bootstrap=True, max_depth=50, max_features=sqrt, min_samples_leaf=1, min_samples_split=2, n_estimators=200; total time=   0.4s\n",
      "[CV] END bootstrap=True, max_depth=50, max_features=sqrt, min_samples_leaf=1, min_samples_split=2, n_estimators=200; total time=   0.4s\n",
      "[CV] END bootstrap=False, max_depth=40, max_features=auto, min_samples_leaf=1, min_samples_split=5, n_estimators=800; total time=   1.7s\n",
      "[CV] END bootstrap=False, max_depth=60, max_features=auto, min_samples_leaf=4, min_samples_split=2, n_estimators=300; total time=   0.6s\n",
      "[CV] END bootstrap=False, max_depth=60, max_features=auto, min_samples_leaf=4, min_samples_split=2, n_estimators=300; total time=   0.6s\n",
      "[CV] END bootstrap=False, max_depth=40, max_features=sqrt, min_samples_leaf=1, min_samples_split=10, n_estimators=700; total time=   1.1s\n",
      "[CV] END bootstrap=True, max_depth=70, max_features=sqrt, min_samples_leaf=2, min_samples_split=10, n_estimators=700; total time=   1.4s\n",
      "[CV] END bootstrap=True, max_depth=60, max_features=sqrt, min_samples_leaf=1, min_samples_split=2, n_estimators=1000; total time=   1.9s\n",
      "[CV] END bootstrap=False, max_depth=50, max_features=sqrt, min_samples_leaf=4, min_samples_split=10, n_estimators=700; total time=   1.1s\n",
      "[CV] END bootstrap=False, max_depth=50, max_features=sqrt, min_samples_leaf=4, min_samples_split=10, n_estimators=700; total time=   1.1s\n",
      "[CV] END bootstrap=False, max_depth=70, max_features=auto, min_samples_leaf=4, min_samples_split=5, n_estimators=600; total time=   1.4s\n",
      "[CV] END bootstrap=True, max_depth=80, max_features=sqrt, min_samples_leaf=2, min_samples_split=10, n_estimators=400; total time=   1.0s\n",
      "[CV] END bootstrap=True, max_depth=30, max_features=auto, min_samples_leaf=1, min_samples_split=10, n_estimators=800; total time=   2.2s\n",
      "[CV] END bootstrap=False, max_depth=70, max_features=auto, min_samples_leaf=4, min_samples_split=10, n_estimators=300; total time=   0.6s\n"
     ]
    }
   ],
   "source": [
    "# Use the random grid to search for best hyperparameters\n",
    "# First create the base model to tune\n",
    "rf = RandomForestRegressor()\n",
    "# Random search of parameters, using 5 fold cross validation, \n",
    "# search across 50 different combinations, and use all available cores\n",
    "rf_random = RandomizedSearchCV(estimator = rf, param_distributions = random_grid, n_iter = 50, cv = 5, verbose=2, random_state=42, n_jobs = -1)\n",
    "# Fit the random search model\n",
    "rf_random.fit(X_train, y_train)"
   ]
  },
  {
   "cell_type": "code",
   "execution_count": 1078,
   "id": "9ff3cdbf",
   "metadata": {},
   "outputs": [
    {
     "data": {
      "text/plain": [
       "{'n_estimators': 800,\n",
       " 'min_samples_split': 2,\n",
       " 'min_samples_leaf': 1,\n",
       " 'max_features': 'auto',\n",
       " 'max_depth': 70,\n",
       " 'bootstrap': False}"
      ]
     },
     "execution_count": 1078,
     "metadata": {},
     "output_type": "execute_result"
    }
   ],
   "source": [
    "rf_random.best_params_"
   ]
  },
  {
   "cell_type": "code",
   "execution_count": 1079,
   "id": "f51abb75",
   "metadata": {},
   "outputs": [],
   "source": [
    "y_pred = rf_random.predict(X_test)"
   ]
  },
  {
   "cell_type": "code",
   "execution_count": 1080,
   "id": "6048ee94",
   "metadata": {},
   "outputs": [
    {
     "name": "stdout",
     "output_type": "stream",
     "text": [
      "Accuracy of RF cross validation regression on test set: 0.83\n"
     ]
    }
   ],
   "source": [
    "print('Accuracy of RF cross validation regression on test set: {:.2f}'.format(rf_random.score(X_test, y_test)))"
   ]
  },
  {
   "cell_type": "markdown",
   "id": "9667f10d",
   "metadata": {},
   "source": [
    "## SUMMARY"
   ]
  },
  {
   "cell_type": "markdown",
   "id": "c7559ebd",
   "metadata": {},
   "source": [
    "From all these models, random forest regression, gradient boosting and regression tree produced the best score of 0.83 which shows that these models are best for predicting the carbon dioxide emissions from vehicles."
   ]
  }
 ],
 "metadata": {
  "kernelspec": {
   "display_name": "Python 3 (ipykernel)",
   "language": "python",
   "name": "python3"
  },
  "language_info": {
   "codemirror_mode": {
    "name": "ipython",
    "version": 3
   },
   "file_extension": ".py",
   "mimetype": "text/x-python",
   "name": "python",
   "nbconvert_exporter": "python",
   "pygments_lexer": "ipython3",
   "version": "3.9.7"
  }
 },
 "nbformat": 4,
 "nbformat_minor": 5
}
